{
 "cells": [
  {
   "cell_type": "markdown",
   "metadata": {},
   "source": [
    "# Homework 8: Stationary State of 2D Heat Equation"
   ]
  },
  {
   "cell_type": "markdown",
   "metadata": {},
   "source": [
    "## Cee Gould"
   ]
  },
  {
   "cell_type": "markdown",
   "metadata": {},
   "source": [
    "This homework set is very much based on the 2D calculation in computer lab #8 but we want to\n",
    "start from different initial conditions. The figure above shows the letter “O”. Write some Python\n",
    "code that approximately represent the third letter of your first name and use it as initial condition\n",
    "for the 2D heat equation with the following boundary conditions:"
   ]
  },
  {
   "cell_type": "markdown",
   "metadata": {},
   "source": [
    "(1) Always keep that temperature fixed at 0 at the four boundaries. Repeatedly apply the update\n",
    "formula (**) form the lab assignment to find the stationary state in 2D. Write an mp4 animation\n",
    "file in reasonable resolution and submit it along with your notebook."
   ]
  },
  {
   "cell_type": "code",
   "execution_count": 2,
   "metadata": {},
   "outputs": [
    {
     "name": "stdout",
     "output_type": "stream",
     "text": [
      "Sum of original T: 22400.0\n"
     ]
    },
    {
     "data": {
      "text/plain": [
       "9001.18821042719"
      ]
     },
     "execution_count": 2,
     "metadata": {},
     "output_type": "execute_result"
    }
   ],
   "source": [
    "import numpy as np\n",
    "import matplotlib.pyplot as plt\n",
    "%matplotlib osx\n",
    "\n",
    "Q = 100\n",
    "n = 51\n",
    "L = 30\n",
    "T = np.zeros((n,n))\n",
    "Tnew = np.copy(T)\n",
    "\n",
    "Tnew = T\n",
    "\n",
    "def update_formula(T):\n",
    "    print('Sum of original T:', sum(sum(T)))\n",
    "    for f in range(Q):\n",
    "        \n",
    "        for i in range(0, n-1):\n",
    "             for j in range(0, n-1):\n",
    "                Tnew[i,j] = 0.25*(T[i,j-1] + T[i,j+1] + T[i-1,j] + T[i+1,j])\n",
    "                T[:,0] = 0\n",
    "                T[:,n-1] = 0\n",
    "                T[0, :] = 0\n",
    "                T[n-1 :] = 0\n",
    "        T = Tnew\n",
    "        \n",
    "\n",
    "        plt.clf()\n",
    "        plt.imshow(T)\n",
    "        plt.draw()\n",
    "        plt.pause(0.05)\n",
    "        plt.show()\n",
    "        \n",
    "    return sum(sum(T))\n",
    "\n",
    "#draw an E\n",
    "T[1:n-2,  n//8 ] = 100        #left\n",
    "#T[:,1 - n//4] = 100      #right \n",
    "T[1,n//8:1 - n//4] = 100   #top\n",
    "T[n-2,n//8: 1 - n//4] = 100  #bottom\n",
    "\n",
    "T[n//4,n//2:1 - n//4] = 100    \n",
    "T[n//2 - n//8,n//2:1 - n//4] = 100  \n",
    "\n",
    "T[1- n//4,n//2:1 - n//4] = 100     \n",
    "T[1 - n//2 + n//8,n//2:1 - n//4] = 100 \n",
    "\n",
    "T[1 - n//2 + n//8:1- n//4 , n//2] = 100 \n",
    "T[ n//4:n//2 - n//8 , n//2] = 100\n",
    "\n",
    "T[1:n//4 + 1,1 - n//4] = 100 \n",
    "T[1 - n//4 :n-1 ,1 - n//4] = 100 \n",
    "\n",
    "T[n//3+2:1 - n//3-1 ,1 - n//4] = 100\n",
    "\n",
    "plt.imshow(T)\n",
    "update_formula(T)"
   ]
  },
  {
   "cell_type": "markdown",
   "metadata": {},
   "source": [
    "(2) In your first simulation, all heat should have been drained from the system after some time. Let\n",
    "us change the boundary conditions in order to prevent any heat from leaking out. The integral\n",
    "under the 2D curve represents the amount of thermal energy of the system that must be kept\n",
    "constant. To realize this in your simulation, please average out the values near the boundary every\n",
    "time the interior points have been updated. For values at the boundary in x direction, T[iy,ix=0],\n",
    "this means we need to set"
   ]
  },
  {
   "cell_type": "markdown",
   "metadata": {},
   "source": [
    "Tnew[iy,ix=0] = Tnew[iy,ix=1] = ( T[iy,ix=0] + T[iy,ix=1] ) / 2"
   ]
  },
  {
   "cell_type": "markdown",
   "metadata": {},
   "source": [
    "Implement similar formulas for the other three edges of the domain as well as for all four corners.\n",
    "Run your code and submit a second mp4 file.\n",
    "Please verify that the amount of thermal energy (sum/integral of all points) remains constant\n",
    "throughout."
   ]
  },
  {
   "cell_type": "code",
   "execution_count": 207,
   "metadata": {},
   "outputs": [
    {
     "name": "stdout",
     "output_type": "stream",
     "text": [
      "22400.0\n",
      "24372.923371181878\n",
      "1.0880769362134768\n"
     ]
    }
   ],
   "source": [
    "import scipy \n",
    "from scipy.integrate import simps\n",
    "Q = 100\n",
    "n = 51\n",
    "L = 30\n",
    "T = np.zeros((n,n))\n",
    "Tnew = np.copy(T)\n",
    "\n",
    "Tnew = T\n",
    "\n",
    "def update_formula(T):\n",
    "    Tsum = sum(sum(T))\n",
    "    print(Tsum)\n",
    "    for f in range(Q):\n",
    "        \n",
    "        for i in range(1, n-1):\n",
    "             for j in range(1, n-1):\n",
    "                Tnew[i,j] = 0.25*(T[i,j-1] + T[i,j+1] + T[i-1,j] + T[i+1,j])\n",
    "                \n",
    "                #edges\n",
    "                Tnew[:,0] = Tnew[:,1] = (T[:,0] + T[:,1]) /2\n",
    "                Tnew[:,n-2] = Tnew[:,n-1] = (T[:,n-2] + T[:,n-1]) / 2\n",
    "                Tnew[0, :] = Tnew[1, :] = (T[0, :] + T[1, :])/2\n",
    "                Tnew[n-2, :] = Tnew[n-1, :] = (T[n-2, :] + T[n-1, :])/2\n",
    "                \n",
    "                #corners\n",
    "                Tnew[0,0] = Tnew[1,1] = (T[0,0] + T[1,1])/2\n",
    "                Tnew[0,n-1] = Tnew[1,n-2] = (T[0,n-1] + T[1,n-2])/2\n",
    "                Tnew[n-2,n-2] = Tnew[n-1,n-1] = (T[n-2,n-2] + T[n-1,n-1])/2\n",
    "                Tnew[n-1,0] = Tnew[n-2, 1] = (T[n-1,0] + T[n-2, 1])/2\n",
    "                \n",
    "        T = Tnew\n",
    "        #print(sum(scipy.integrate.trapz(T)))\n",
    "        \n",
    "\n",
    "        plt.clf()\n",
    "        plt.imshow(T)\n",
    "        plt.draw()\n",
    "        plt.pause(0.05)\n",
    "        plt.show()\n",
    "        \n",
    "    Tnewsum= sum(sum(T))\n",
    "    print (Tnewsum)\n",
    "    print(Tnewsum/Tsum)\n",
    "\n",
    "T[1:n-2,  n//8 ] = 100        #left\n",
    "#T[:,1 - n//4] = 100      #right \n",
    "T[1,n//8:1 - n//4] = 100   #top\n",
    "T[n-2,n//8: 1 - n//4] = 100  #bottom\n",
    "\n",
    "T[n//4,n//2:1 - n//4] = 100    \n",
    "T[n//2 - n//8,n//2:1 - n//4] = 100  \n",
    "\n",
    "T[1- n//4,n//2:1 - n//4] = 100     \n",
    "T[1 - n//2 + n//8,n//2:1 - n//4] = 100 \n",
    "\n",
    "T[1 - n//2 + n//8:1- n//4 , n//2] = 100 \n",
    "T[ n//4:n//2 - n//8 , n//2] = 100\n",
    "\n",
    "T[1:n//4 + 1,1 - n//4] = 100 \n",
    "T[1 - n//4 :n-1 ,1 - n//4] = 100 \n",
    "\n",
    "T[n//3+2:1 - n//3-1 ,1 - n//4] = 100\n",
    "\n",
    "#plt.imshow(T)\n",
    "update_formula(T)\n",
    "\n"
   ]
  },
  {
   "cell_type": "code",
   "execution_count": null,
   "metadata": {},
   "outputs": [],
   "source": []
  }
 ],
 "metadata": {
  "kernelspec": {
   "display_name": "Python 3",
   "language": "python",
   "name": "python3"
  },
  "language_info": {
   "codemirror_mode": {
    "name": "ipython",
    "version": 3
   },
   "file_extension": ".py",
   "mimetype": "text/x-python",
   "name": "python",
   "nbconvert_exporter": "python",
   "pygments_lexer": "ipython3",
   "version": "3.6.5"
  }
 },
 "nbformat": 4,
 "nbformat_minor": 2
}
