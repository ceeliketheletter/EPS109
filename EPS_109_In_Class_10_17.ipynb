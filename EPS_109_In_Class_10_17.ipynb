{
 "cells": [
  {
   "cell_type": "markdown",
   "metadata": {},
   "source": [
    "### Computer Lab Assignment 8"
   ]
  },
  {
   "cell_type": "markdown",
   "metadata": {},
   "source": [
    "The goal of this lab is to construct real-time solutions for 1D and 2D cooling problems. "
   ]
  },
  {
   "cell_type": "code",
   "execution_count": 2,
   "metadata": {},
   "outputs": [],
   "source": [
    "# (1) The discretized form for T(x,t+∆t) needs to be transformed yet again to index notation that\n",
    "# Python can handle. We will use a 1D array T[i] to present T(x,t) and Tnew[i] to present\n",
    "# T(x,t+∆t). (One could also introduce an index j and use T[i,j] to represent space and time but\n",
    "# we avoid introducing an index j to save memory.) Now fill in the blanks:\n",
    "# T(x,t) → T[i]\n",
    "# T(x,t+∆t) → Tnew[i]\n",
    "# T(x+∆x,t) → ?\n",
    "# T(x–∆x,t) → ?\n",
    "# and write down the resulting equation for Tnew(i):\n",
    "# Tnew(i) = ___"
   ]
  },
  {
   "cell_type": "markdown",
   "metadata": {},
   "source": [
    "(2) As next step, we need to prepare the initial conditions, T[i]. Discretize the interval x=[0,L] in\n",
    "N sections requiring N+1 points. Set L=1.0 and N=20 and reproduce the following, somewhat\n",
    "artificial, initial temperature distribution:\n",
    "Issue a plot command that reproduces the picture above. Please make sure that T(x=0) and\n",
    "T(x=1) are indeed set to 0, and that T(x=0.5) equals 1. "
   ]
  },
  {
   "cell_type": "code",
   "execution_count": 2,
   "metadata": {},
   "outputs": [],
   "source": [
    "import numpy as np\n",
    "import matplotlib.pyplot as plt\n",
    "%matplotlib osx\n",
    "\n",
    "L = 1.0\n",
    "n = 21\n",
    "x = np.linspace(0,L,n)\n",
    "T = np.zeros(n)\n",
    "\n",
    "\n",
    "for i in range(len(x)):\n",
    "    if i == 0:\n",
    "        T[i] = 0\n",
    "    if i > 0 and i <= len(x)//2:\n",
    "        T[i]= x[i] *2\n",
    "    \n",
    "    #if i == len(x)//2:\n",
    "    #    T[i] = 1 \n",
    "    if i > len(x)//2 and i < len(x):\n",
    "        T[i]=  (L  - x[i]) *2\n",
    "    if i == len(x):\n",
    "        T[i] = 0\n",
    "    \n",
    "\n",
    "plt.plot(x,T,'ro-')\n",
    "plt.xlabel('x')\n",
    "plt.ylabel('T(x)')\n",
    "plt.show()"
   ]
  },
  {
   "cell_type": "markdown",
   "metadata": {},
   "source": [
    "(3) Set the heat conduction coefficient k=1 and assume T(x=0)=T(x=1)=0 as boundary\n",
    "conditions. Now write a Python loop that computes Tnew[i] from T[i] using the equation\n",
    "from step (1). Assume a time step of 10**-4. Then copy Tnew to back T and plot the temperature\n",
    "distribution for this first step.\n"
   ]
  },
  {
   "cell_type": "code",
   "execution_count": 4,
   "metadata": {},
   "outputs": [
    {
     "name": "stderr",
     "output_type": "stream",
     "text": [
      "/Users/CEE/anaconda3/lib/python3.6/site-packages/ipykernel_launcher.py:19: RuntimeWarning: divide by zero encountered in double_scalars\n"
     ]
    }
   ],
   "source": [
    "L = 1.0\n",
    "n = 21\n",
    "x = np.linspace(0,L,n)\n",
    "#T = np.zeros(n)\n",
    "Tnew = np.copy(T)\n",
    "k = 1\n",
    "step = 10e-4\n",
    "#t = 0 \n",
    "\n",
    "T[0] = 0\n",
    "T[n-1] = 0\n",
    "\n",
    "for i in range(0, n-1):\n",
    "#     if i ==0:\n",
    "#          Tnew[i] = k *(step/(T[i+1]- T[i])**2) * (T[i+1] - 2*T[i]) + T[i+1]\n",
    "#     if i == n-1:\n",
    "#          Tnew[i] = k *(step/(T[i]- T[i-1])**2) * (- 2*T[i] + T[i-1])\n",
    "            \n",
    "    Tnew[i] = k *(step/(T[i]- T[i-1])**2) * (T[i+1] - 2*T[i] + T[i-1]) + T[i] \n",
    "        \n",
    "T = Tnew\n",
    "\n",
    "plt.clf()\n",
    "plt.plot(x,T,'ro-')\n",
    "plt.xlabel('x')\n",
    "plt.ylabel('T(x)')\n",
    "plt.draw()\n",
    "plt.pause(0.05)\n",
    "plt.show()"
   ]
  },
  {
   "cell_type": "markdown",
   "metadata": {},
   "source": [
    "(4) Now introduce an outer Python loop that repeats step (3) many times. You may not want to\n",
    "plot the temperature distribution at every step but when you do then please add the commands\n",
    "plt.ylim(0,1) to keep the Y axis from changing. Run your code for a large number of iterations\n",
    "until less than 1% of the initial thermal energy is left. "
   ]
  },
  {
   "cell_type": "code",
   "execution_count": 5,
   "metadata": {},
   "outputs": [
    {
     "name": "stdout",
     "output_type": "stream",
     "text": [
      "initial thermal energy: 9.999999999999998\n",
      "one percent of thermal energy:  0.09999999999999998\n"
     ]
    },
    {
     "name": "stderr",
     "output_type": "stream",
     "text": [
      "/Users/CEE/anaconda3/lib/python3.6/site-packages/ipykernel_launcher.py:59: RuntimeWarning: divide by zero encountered in double_scalars\n",
      "/Users/CEE/anaconda3/lib/python3.6/site-packages/matplotlib/axes/_base.py:2508: RuntimeWarning: overflow encountered in double_scalars\n",
      "  x1t += delta\n",
      "/Users/CEE/anaconda3/lib/python3.6/site-packages/ipykernel_launcher.py:59: RuntimeWarning: overflow encountered in double_scalars\n",
      "/Users/CEE/anaconda3/lib/python3.6/site-packages/ipykernel_launcher.py:59: RuntimeWarning: invalid value encountered in double_scalars\n"
     ]
    },
    {
     "data": {
      "text/plain": [
       "(0.06300000000000004, 'seconds', 63, 'runs')"
      ]
     },
     "execution_count": 5,
     "metadata": {},
     "output_type": "execute_result"
    }
   ],
   "source": [
    "import numpy as np\n",
    "import matplotlib.pyplot as plt\n",
    "%matplotlib osx\n",
    "\n",
    "\n",
    "L = 1.0\n",
    "n = 21\n",
    "x = np.linspace(0,L,n)\n",
    "T = np.zeros(n)\n",
    "k = 1\n",
    "step = 10e-4  #seconsd\n",
    "\n",
    "\n",
    "for i in range(len(x)):\n",
    "    if i == 0:\n",
    "        T[i] = 0\n",
    "    if i > 0 and i <= len(x)//2:\n",
    "        T[i]= x[i] *2\n",
    "    \n",
    "    #if i == len(x)//2:\n",
    "    #    T[i] = 1 \n",
    "    if i > len(x)//2 and i < len(x):\n",
    "        T[i]=  (L  - x[i]) *2\n",
    "    if i == len(x):\n",
    "        T[i] = 0\n",
    "\n",
    "plt.ylim(0,1)\n",
    "plt.clf()\n",
    "plt.plot(x,T,'ro-')\n",
    "plt.xlabel('x')\n",
    "plt.ylabel('T(x)')\n",
    "plt.draw()\n",
    "plt.pause(0.5)\n",
    "plt.show()\n",
    "        \n",
    "        \n",
    "initial_energy = sum(T)\n",
    "print('initial thermal energy:', initial_energy)\n",
    "one_percent = 0.01 * initial_energy\n",
    "print('one percent of thermal energy: ', one_percent)\n",
    "\n",
    "Tnew[0] = 0\n",
    "Tnew[n-1] = 0\n",
    "\n",
    "def temperature(T):\n",
    "    Tnew = np.copy(T)\n",
    "    counter = 0\n",
    "    t = 0\n",
    "    while True:\n",
    "        for i in range(0, n-1):\n",
    "            #if i ==0:\n",
    "            #       Tnew[i] = k *(step/(T[i+1]- T[i])**2) * (T[i+1] - 2*T[i]) + T[i+1]\n",
    "            #if i == n-1:\n",
    "            #       Tnew[i] = k *(step/(T[i]- T[i-1])**2) * (- 2*T[i] + T[i-1])\n",
    "            \n",
    "    \n",
    "            \n",
    "    \n",
    "            Tnew[i] = k *(step/(T[i]- T[i-1])**2) * (T[i+1] - 2*T[i] + T[i-1]) + T[i] \n",
    "        \n",
    "\n",
    "            \n",
    "            if Tnew[i] == float('-inf') or Tnew[i] == None:\n",
    "                    Tnew[i] = 0\n",
    "            #if  Tnew[i] == float('inf'):\n",
    "            #        Tnew[i] = 1\n",
    "                    \n",
    "            Tnew = np.nan_to_num(Tnew)\n",
    "            \n",
    "        \n",
    "        \n",
    "        t += step\n",
    "        \n",
    "        counter += 1\n",
    "        T = Tnew\n",
    "        \n",
    "        #print(sum(T))\n",
    "        #print(T)\n",
    "    \n",
    "        \n",
    "        plt.clf()\n",
    "        plt.plot(x,T,'ro-')\n",
    "        plt.xlabel('x')\n",
    "        plt.ylabel('T(x)')\n",
    "        plt.ylim(0,1)\n",
    "        plt.draw()\n",
    "        plt.pause(.05)\n",
    "        plt.show()\n",
    "    \n",
    "        if sum(T) < one_percent :#or sum(T) > initial_energy or sum(T) < 0:\n",
    "            return(t, 'seconds', counter, 'runs')\n",
    "    \n",
    "\n",
    "temperature(T)"
   ]
  },
  {
   "cell_type": "markdown",
   "metadata": {},
   "source": [
    "#### How much time did this approximately take?"
   ]
  },
  {
   "cell_type": "markdown",
   "metadata": {},
   "source": [
    "\n",
    "--> 0.063 seconds, 63 runs"
   ]
  },
  {
   "cell_type": "markdown",
   "metadata": {},
   "source": [
    "#### Where did the heat go?"
   ]
  },
  {
   "cell_type": "markdown",
   "metadata": {},
   "source": [
    "#### Why does the heat distribution get smoother and smoother?"
   ]
  },
  {
   "cell_type": "markdown",
   "metadata": {},
   "source": [
    "(5) Now we pretend to be a bit impatient and run with a larger time steps. Please increase Δt step\n",
    "by step until you see a drastic change in the behavior of the resulting solution. What happens?\n",
    "Then carefully determine the critical time step, ΔtC, where this change occurs."
   ]
  },
  {
   "cell_type": "code",
   "execution_count": 56,
   "metadata": {},
   "outputs": [
    {
     "name": "stdout",
     "output_type": "stream",
     "text": [
      "initial thermal energy: 9.999999999999998\n",
      "one percent of thermal energy:  0.09999999999999998\n",
      "1.7976931348623157e+308\n",
      "-2010.0500012626017\n"
     ]
    },
    {
     "name": "stderr",
     "output_type": "stream",
     "text": [
      "/Users/CEE/anaconda3/lib/python3.6/site-packages/ipykernel_launcher.py:56: RuntimeWarning: divide by zero encountered in double_scalars\n",
      "/Users/CEE/anaconda3/lib/python3.6/site-packages/matplotlib/axes/_base.py:2508: RuntimeWarning: overflow encountered in double_scalars\n",
      "  x1t += delta\n",
      "/Users/CEE/anaconda3/lib/python3.6/site-packages/ipykernel_launcher.py:56: RuntimeWarning: overflow encountered in double_scalars\n",
      "/Users/CEE/anaconda3/lib/python3.6/site-packages/ipykernel_launcher.py:56: RuntimeWarning: invalid value encountered in double_scalars\n"
     ]
    },
    {
     "data": {
      "text/plain": [
       "(2.0, 2)"
      ]
     },
     "execution_count": 56,
     "metadata": {},
     "output_type": "execute_result"
    }
   ],
   "source": [
    "import numpy as np\n",
    "import matplotlib.pyplot as plt\n",
    "%matplotlib osx\n",
    "\n",
    "\n",
    "L = 1.0\n",
    "n = 21\n",
    "x = np.linspace(0,L,n)\n",
    "T = np.zeros(n)\n",
    "k = 1\n",
    "step = 10e-1  #seconsd\n",
    "\n",
    "\n",
    "for i in range(len(x)):\n",
    "    if i == 0:\n",
    "        T[i] = 0\n",
    "    if i > 0 and i <= len(x)//2:\n",
    "        T[i]= x[i] *2\n",
    "    \n",
    "    #if i == len(x)//2:\n",
    "    #    T[i] = 1 \n",
    "    if i > len(x)//2 and i < len(x):\n",
    "        T[i]=  (L  - x[i]) *2\n",
    "    if i == len(x):\n",
    "        T[i] = 0\n",
    "\n",
    "\n",
    "plt.clf()\n",
    "plt.plot(x,T,'ro-')\n",
    "plt.xlabel('x')\n",
    "plt.ylabel('T(x)')\n",
    "plt.ylim(0,1)\n",
    "plt.draw()\n",
    "plt.pause(1)\n",
    "plt.show()\n",
    "        \n",
    "        \n",
    "initial_energy = sum(T)\n",
    "print('initial thermal energy:', initial_energy)\n",
    "one_percent = 0.01 * initial_energy\n",
    "print('one percent of thermal energy: ', one_percent)\n",
    "\n",
    "Tnew[0] = 0\n",
    "Tnew[n-1] = 0\n",
    "\n",
    "\n",
    "\n",
    "def temperature(T):\n",
    "    Tnew = np.copy(T)\n",
    "    counter = 0\n",
    "    t = 0\n",
    "    while True:\n",
    "        for i in range(0, n-1):\n",
    "\n",
    "    \n",
    "            Tnew[i] = k *(step/(T[i]- T[i-1])**2) * (T[i+1] - 2*T[i] + T[i-1]) + T[i] \n",
    "        \n",
    "\n",
    "            #if Tnew[i] == float('-inf') or Tnew[i] < 0 or Tnew[i] == float('inf') or Tnew[i] == None:    \n",
    "            #      Tnew[i] = 0\n",
    "            Tnew = np.nan_to_num(Tnew)\n",
    "            \n",
    "        \n",
    "        \n",
    "        t += step\n",
    "        counter += 1\n",
    "        \n",
    "        T = Tnew\n",
    "        print(sum(T))\n",
    "        #print(T)\n",
    "        \n",
    "        \n",
    "        \n",
    "        \n",
    "        plt.clf()\n",
    "        plt.plot(x,T,'ro-')\n",
    "        plt.xlabel('x')\n",
    "        plt.ylabel('T(x)')\n",
    "        plt.ylim(0,1)\n",
    "        plt.draw()\n",
    "        plt.pause(.05)\n",
    "        plt.show()\n",
    "        \n",
    "    \n",
    "        if sum(T) < one_percent :#or sum(T) > initial_energy or sum(T) < 0:\n",
    "            return(t, counter)\n",
    "    \n",
    "\n",
    "temperature(T)"
   ]
  },
  {
   "cell_type": "code",
   "execution_count": 38,
   "metadata": {},
   "outputs": [],
   "source": [
    "# 10e-3 --> a very long time, had to kill\n",
    "# 10e-2 --> 0.2 seconds, 2 runs\n",
    "# 10e-1 --> 2.0 seconds, 2 runs"
   ]
  },
  {
   "cell_type": "code",
   "execution_count": null,
   "metadata": {},
   "outputs": [],
   "source": []
  }
 ],
 "metadata": {
  "kernelspec": {
   "display_name": "Python 3",
   "language": "python",
   "name": "python3"
  },
  "language_info": {
   "codemirror_mode": {
    "name": "ipython",
    "version": 3
   },
   "file_extension": ".py",
   "mimetype": "text/x-python",
   "name": "python",
   "nbconvert_exporter": "python",
   "pygments_lexer": "ipython3",
   "version": "3.6.5"
  }
 },
 "nbformat": 4,
 "nbformat_minor": 2
}
