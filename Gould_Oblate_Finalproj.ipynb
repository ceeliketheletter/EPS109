{
 "cells": [
  {
   "cell_type": "markdown",
   "metadata": {},
   "source": [
    "## Gravity Field of an Oblate Planet\n",
    "### Cee Gould"
   ]
  },
  {
   "cell_type": "code",
   "execution_count": 24,
   "metadata": {},
   "outputs": [],
   "source": [
    "import numpy as np\n",
    "import matplotlib.pyplot as plt\n",
    "from mpl_toolkits.mplot3d import Axes3D\n",
    "from matplotlib import cm\n",
    "from matplotlib.ticker import LinearLocator, FormatStrFormatter\n",
    "%matplotlib osx    \n",
    "from matplotlib import cm\n",
    "from colorspacious import cspace_converter\n",
    "from collections import OrderedDict\n",
    "\n",
    "cmaps = OrderedDict()"
   ]
  },
  {
   "cell_type": "markdown",
   "metadata": {},
   "source": [
    "$V(r,u) = \\frac{GM}{r} [1 - \\sum (\\frac{a}{r})^{2n} J_{2n} P_{2n}(\\mu)] $ , only using n = 1\n",
    "<br \\>\n",
    "<br \\>\n",
    "*$P_{n2} = \\frac{1}{2}(3x^{2} - 1)$\n",
    "<br \\>\n",
    "*$J_{2n} = 2$\n",
    "<br \\>\n",
    "$\\mu = \\frac{z}{r}$\n",
    "<br \\>\n",
    "$V(r,u) = \\frac{GM}{r} [1 - (\\frac{a}{r})^{2} *  J_{2} * (\\frac{1}{2} (3x^{2} - 1)*\n",
    "(\\mu)] $ , only using n = 1\n",
    "<br \\>"
   ]
  },
  {
   "cell_type": "code",
   "execution_count": 25,
   "metadata": {},
   "outputs": [],
   "source": [
    "def V(t, X):\n",
    "    \n",
    "    x = X[0]\n",
    "    y = X[1]\n",
    "    z = X[2]\n",
    "    \n",
    "    r = X[0:3]\n",
    "    v = X[3:6]\n",
    "    \n",
    "    #mu = (z / np.linalg.norm(r)) #eccentricity of the spheroid, e = 0 is a sphere. for a spheroid 0 < e < 1. \n",
    "    #print('mu = ', mu)\n",
    "    \n",
    "    # // PERIODIC ORBITS ABOUT AN OBLATE SPHEROID, MACMILLAN\n",
    "    # https://www.ams.org/journals/tran/1910-011-01/S0002-9947-1910-1500856-2/S0002-9947-1910-1500856-2.pdf\n",
    "    \n",
    "    dVx = - (k**2) * ms * mp / np.linalg.norm(r)**3 * (1 + (3/10)*b**2*(x**2 + y**2 - 4*z**2)/ np.linalg.norm(r)**4  * mu**2 ) * x\n",
    "    dVy = - (k**2) * ms * mp / np.linalg.norm(r)**3 * (1 + (3/10)*b**2*(x**2 + y**2 - 4*z**2)/ np.linalg.norm(r)**4  * mu**2 ) * y\n",
    "    dVz = - (k**2) * ms * mp / np.linalg.norm(r)**3 * (1 + (3/10)*b**2*(3*(x**2 + y**2) - 2*z**2)/ np.linalg.norm(r)**4  * mu**2 ) * z\n",
    "    \n",
    "    #// \n",
    "#     dVx = -((G*M)/(np.linalg.norm(r)**2))*x + 3*((6*M*a**2)/(np.linalg.norm(r)**4))*x\n",
    "#     dVy = -((G*M)/(np.linalg.norm(r)**2))*y + 3*((6*M*a**2)/(np.linalg.norm(r)**4))*y\n",
    "#     dVz = -((G*M)/(np.linalg.norm(r)**2))*z - ((30*G*M*a**2*z**2)/np.linalg.norm(r)**6) + 3*((6*M*a**2)/(np.linalg.norm(r)**4))*z\n",
    "    \n",
    "    #F = -G * ms * mp /np.linalg.norm(r)**3 * r #Newtons Method\n",
    "    \n",
    "    \n",
    "    F = np.array([dVx, dVy, dVz])\n",
    "    acceleration    = F / mp\n",
    "        \n",
    "    return np.concatenate((v, acceleration))\n",
    "\n"
   ]
  },
  {
   "cell_type": "code",
   "execution_count": 26,
   "metadata": {},
   "outputs": [],
   "source": [
    "# // Constants //\n",
    "year  = 3.154e+7 #s\n",
    "au = 1.496e+8 #km\n",
    "\n",
    "k = 0.01720209895 #rad/day\n",
    "ms = 3e+6\n",
    "mp = 1\n",
    "G  = k**2 #1e-6\n",
    "M = ms + mp\n",
    "\n",
    "#m_earth = 5.972e24 #kg\n",
    "#m_moon = 1 #7.35e22 #kg\n",
    "\n",
    "\n",
    "#G  = 6.674e-20  #km^3/kg s^2\n",
    "#M = m_earth + m_moon\n",
    "grav_param = G * M\n",
    "\n",
    "b = 1.5 #6356.8 #km #short length of earth #polar radius\n",
    "a = 2  #0.3844 #10e6 km  # equatorial radius"
   ]
  },
  {
   "cell_type": "code",
   "execution_count": null,
   "metadata": {},
   "outputs": [],
   "source": []
  },
  {
   "cell_type": "code",
   "execution_count": 27,
   "metadata": {},
   "outputs": [
    {
     "name": "stdout",
     "output_type": "stream",
     "text": [
      "r =  [ 3.  -1.5  0. ]\n",
      "v =  [0 7 0]\n",
      "mu =  0.25\n"
     ]
    }
   ],
   "source": [
    "#// User Imputs // \n",
    "x = 3\n",
    "y = -1.5\n",
    "z = 0.0\n",
    "vx = 0\n",
    "vy = 7\n",
    "vz = 0\n",
    "\n",
    "r = np.array([x,y,z])\n",
    "v = np.array([vx,vy,vz])\n",
    "\n",
    "print('r = ', r)\n",
    "print('v = ', v)\n",
    "\n",
    "#mu_0 = (z / np.linalg.norm(r))\n",
    "\n",
    "mu = 1 - b/a\n",
    "mu_0 = mu\n",
    "print(\"mu = \", mu_0)"
   ]
  },
  {
   "cell_type": "code",
   "execution_count": 5,
   "metadata": {},
   "outputs": [
    {
     "name": "stdout",
     "output_type": "stream",
     "text": [
      "e =  0.8551048103636267 elliptical orbit\n",
      "E =  -240.17201346343836 bound\n",
      "a =  1.8481273233446969\n",
      "p =  2.5124523377107972\n",
      "i =  0.0\n",
      "Omega =  nan\n",
      "argp =  nan\n",
      "initial nu =  3.054881879578819 degrees\n"
     ]
    },
    {
     "name": "stderr",
     "output_type": "stream",
     "text": [
      "/Users/CEE/anaconda3/lib/python3.6/site-packages/ipykernel_launcher.py:50: RuntimeWarning: invalid value encountered in double_scalars\n",
      "/Users/CEE/anaconda3/lib/python3.6/site-packages/ipykernel_launcher.py:55: RuntimeWarning: invalid value encountered in double_scalars\n"
     ]
    }
   ],
   "source": [
    "#/// Calculate orbital elements /// \n",
    "#follows from the method laid out in Fundamentals of Astrodynamics and Applications, by Vallado, 2007\n",
    "# https://space.stackexchange.com/questions/1904/how-to-programmatically-calculate-orbital-elements-using-position-velocity-vecto\n",
    "\n",
    "h = np.cross(r,v)         # angular momentum\n",
    "K = np.array([0, 0, 1])\n",
    "nhat=np.cross(K,h)       #node vector\n",
    "\n",
    "#eccentricity vector\n",
    "evec = ((np.linalg.norm(v)**2 - grav_param /np.linalg.norm(r))*r - np.dot(r,v)*v)/ grav_param \n",
    "# evec = (np.linalg.norm(abs(v))**2/mu - 1/np.linalg.norm(abs(r)))*r - (np.dot(r,v)*v / mu) \n",
    "\n",
    "#evec = np.array([e_p9, 0, 0])\n",
    "e = np.linalg.norm(evec)\n",
    "\n",
    "if e == 0:\n",
    "    orbit = 'circular orbit'\n",
    "if e > 0 and e < 1:\n",
    "    orbit = 'elliptical orbit'\n",
    "if e == 1:\n",
    "    orbit ='parabolic orbit'\n",
    "if e > 1:\n",
    "    orbit = 'hyperbolic orbit'\n",
    "print('e = ', e, orbit)\n",
    "\n",
    "energy = np.linalg.norm(v)**2/2 - grav_param /np.linalg.norm(r) #Specific mechanical energy\n",
    "if energy < 0: #absolute value of potential energy is larger than kinetic\n",
    "    bound = 'bound'\n",
    "if energy > 0: #kinetic energy is larger than the absolute value of the potential energy\n",
    "    bound = 'unbound'\n",
    "print('E = ', energy, bound)\n",
    "\n",
    "if abs(e) != 1: \n",
    "    a = - grav_param/(2*energy)\n",
    "    #p = a*(1-e**2)\n",
    "    p = np.sqrt(abs(a)**3)\n",
    "else:\n",
    "    #p = np.linalg.norm(h)**2/mu\n",
    "    a = 'inf'\n",
    "    p = 'inf'\n",
    "    \n",
    "print('a = ', a)         #semi major axis\n",
    "\n",
    "\n",
    "print('p = ', p)        #period\n",
    "\n",
    "i = np.arccos(h[2]/np.linalg.norm(h))  #inclination\n",
    "print('i = ', i)        \n",
    "\n",
    "Omega = np.arccos(nhat[0]/np.linalg.norm(nhat))  #swivel: the angle from the principal direction to the ascending node, 0° ≤ Ω < 360°\n",
    "if nhat[1] < 0:\n",
    "   Omega = 360-Omega\n",
    "print('Omega = ', Omega)\n",
    "\n",
    "argp = np.arccos(np.dot(nhat,evec)/(np.linalg.norm(nhat)*e)) # argument of perigee, ω: 0° ≤ ω < 360\n",
    "if evec[2]<0:\n",
    "   argp = 360-argp\n",
    "print('argp = ', argp)\n",
    "\n",
    "#nu_0 = nu_p9\n",
    "nu_0 = np.arccos(np.dot(evec,r)/(e*np.linalg.norm(r)))  # True anomaly, ν, is the angle along the orbital path from perigee to the spacecraft’s position vector r.  0 <= v < 360°\n",
    "if np.dot(r,v)<0:\n",
    "   nu = 360 - nu_0\n",
    "print('initial nu = ', nu_0, 'degrees')  # changes with time, location of the spacecraft in its orbit"
   ]
  },
  {
   "cell_type": "code",
   "execution_count": 6,
   "metadata": {},
   "outputs": [],
   "source": [
    "#// Time //\n",
    "dt = .001\n",
    "tmax = 10.0\n",
    "tt = []\n",
    "t = 0"
   ]
  },
  {
   "cell_type": "code",
   "execution_count": 7,
   "metadata": {
    "scrolled": true
   },
   "outputs": [],
   "source": [
    "xt = []\n",
    "yt = []\n",
    "zt = []\n",
    "vx = []\n",
    "vy = []\n",
    "vz = []\n",
    "\n",
    "\n",
    "X = np.concatenate((r,v))\n",
    "\n",
    "%matplotlib osx    \n",
    "\n",
    "while(t < tmax):\n",
    "\n",
    "    r = X[0:3]\n",
    "    v = X[3:6]\n",
    "    \n",
    "    \n",
    "    xt.append(X[0])\n",
    "    yt.append(X[1])\n",
    "    zt.append(X[2])\n",
    "    \n",
    "    \n",
    "    #X = X + V(X) * dt    #EULERS METHOD\n",
    "    \n",
    "    f1 = V(t       ,X          )    #RUNGE KUTTA METHOD\n",
    "    f2 = V(t+dt/2.0,X+f1*dt/2.0)\n",
    "    f3 = V(t+dt/2.0,X+f2*dt/2.0)\n",
    "    f4 = V(t+dt    ,X+f3*dt    )\n",
    "\n",
    "    X = X + (f1 + 2.0*f2 + 2.0*f3 + f4) / 6.0 * dt\n",
    "    \n",
    "    \n",
    "    tt.append(t)\n",
    "    t += dt\n",
    "    \n",
    "#     %matplotlib osx \n",
    "#     plt.plot(xt, yt, 'r-')\n",
    "#     plt.xlabel('X axis')\n",
    "#     plt.ylabel('Y axis')\n",
    "#     plt.plot(0,0,'*',mfc='w',ms=10)\n",
    "#     plt.gca().set_aspect('equal', adjustable='box')\n",
    "    \n",
    "#     plt.draw()\n",
    "#     plt.show()\n",
    "#     plt.pause(0.005)  \n"
   ]
  },
  {
   "cell_type": "code",
   "execution_count": 8,
   "metadata": {},
   "outputs": [],
   "source": [
    "#2D orbit plot\n",
    "plt.plot(xt, yt, 'r-')\n",
    "plt.xlabel('X axis')\n",
    "plt.ylabel('Y axis')\n",
    "plt.plot(0,0,'*',mfc='w',ms=10)\n",
    "plt.gca().set_aspect('equal', adjustable='box')\n",
    "    \n",
    "#plt.draw()\n",
    "plt.show()\n",
    "plt.pause(3)  \n",
    "#plt.close()"
   ]
  },
  {
   "cell_type": "code",
   "execution_count": 9,
   "metadata": {},
   "outputs": [],
   "source": [
    "# #2D orbit plot\n",
    "# plt.plot(yt, zt, 'r-')\n",
    "# plt.xlabel('Y axis')\n",
    "# plt.ylabel('Z axis')\n",
    "# plt.plot(0,0,'*',mfc='w',ms=10)\n",
    "# plt.gca().set_aspect('equal', adjustable='box')\n",
    "    \n",
    "# #plt.draw()\n",
    "# plt.show()\n",
    "# plt.pause(2)  \n",
    "# plt.close()"
   ]
  },
  {
   "cell_type": "code",
   "execution_count": 10,
   "metadata": {},
   "outputs": [],
   "source": [
    "# #2D orbit plot\n",
    "# plt.plot(xt, zt, 'r-')\n",
    "# plt.xlabel('X axis')\n",
    "# plt.ylabel('Z axis')\n",
    "# plt.plot(0,0,'*',mfc='w',ms=10)\n",
    "# plt.gca().set_aspect('equal', adjustable='box')\n",
    "    \n",
    "# #plt.draw()\n",
    "# plt.show()\n",
    "# plt.pause(2)  \n",
    "# plt.close()"
   ]
  },
  {
   "cell_type": "code",
   "execution_count": 11,
   "metadata": {},
   "outputs": [],
   "source": [
    "#time plot\n",
    "plt.plot(tt,xt, 'r-')\n",
    "plt.title('Height of X over time')\n",
    "plt.show()\n",
    "plt.pause(2)  \n",
    "#plt.close()"
   ]
  },
  {
   "cell_type": "code",
   "execution_count": 12,
   "metadata": {},
   "outputs": [],
   "source": [
    "#time plot\n",
    "plt.plot(tt,yt, 'r-')\n",
    "plt.title('Height of Y over time')\n",
    "plt.show()\n",
    "plt.pause(2)  \n",
    "#plt.close()"
   ]
  },
  {
   "cell_type": "code",
   "execution_count": 13,
   "metadata": {},
   "outputs": [],
   "source": [
    "# #time plot\n",
    "# plt.plot(tt,zt, 'r-')\n",
    "# plt.title('Height of Z over time')\n",
    "# plt.show()\n",
    "# plt.pause(2)  \n",
    "# plt.close()"
   ]
  },
  {
   "cell_type": "code",
   "execution_count": 22,
   "metadata": {},
   "outputs": [],
   "source": [
    "#// 3D Plot // \n",
    "\n",
    "plt.rcParams['legend.fontsize'] = 10\n",
    "fig = plt.figure(figsize=(5,5))\n",
    "ax = fig.gca(projection='3d')\n",
    "ax.set_aspect(\"equal\")\n",
    "\n",
    "#// Orbit //\n",
    "XT = np.array(xt)\n",
    "YT = np.array(yt)\n",
    "ZT = np.array(zt)\n",
    "ax.plot(XT, YT, ZT, label='Orbit', antialiased=False)     \n",
    "#ax.text(0, 0, 0, '*', zdir=None)\n",
    "\n",
    "#// Sphere //\n",
    "\n",
    "u, v = np.mgrid[0:2*np.pi:200j, 0:np.pi:100j]   \n",
    "x = 0.1 * a * np.cos(u)*np.sin(v)\n",
    "y = 0.1* a * np.sin(u)*np.sin(v)\n",
    "z = 0.1 * b * np.cos(v)\n",
    "ax.plot_surface(x, y, z, color=\"b\", cmap='gist_earth')\n",
    "\n",
    "\n",
    "# ax.set_xlim(-0.05, 0.05)\n",
    "# ax.set_ylim(-0.05, 0.05)\n",
    "# ax.set_zlim(-0.05, 0.05)\n",
    "\n",
    "# ax.set_xlim(-2, 2)\n",
    "# ax.set_ylim(-2, 2)\n",
    "# ax.set_zlim(-2, 2)\n",
    "\n",
    "ax.set_xlim(-1, 1)\n",
    "ax.set_ylim(-1, 1)\n",
    "ax.set_zlim(-1, 1)\n",
    "ax.set_xlabel('X axis')\n",
    "ax.set_ylabel('Y axis')\n",
    "ax.set_zlabel('Z axis')\n",
    "\n",
    "plt.draw()\n",
    "plt.pause(0.005)\n",
    "plt.show()\n"
   ]
  },
  {
   "cell_type": "code",
   "execution_count": 15,
   "metadata": {},
   "outputs": [],
   "source": [
    "# x = 4\n",
    "# y = -1.5\n",
    "# z = 0\n",
    "# vx = 0\n",
    "# vy = 0.5\n",
    "# vz = 0"
   ]
  },
  {
   "cell_type": "code",
   "execution_count": 16,
   "metadata": {},
   "outputs": [],
   "source": [
    "# x = 4\n",
    "# y = -1.5\n",
    "# z = 0.0\n",
    "# vx = 0\n",
    "# vy = 5\n",
    "# vz = 0"
   ]
  },
  {
   "cell_type": "code",
   "execution_count": 17,
   "metadata": {},
   "outputs": [],
   "source": [
    "# x = 0.5\n",
    "# y = -1.5\n",
    "# z = 0.0\n",
    "# vx = 0\n",
    "# vy = 25\n",
    "# vz = 0"
   ]
  }
 ],
 "metadata": {
  "kernelspec": {
   "display_name": "Python 3",
   "language": "python",
   "name": "python3"
  },
  "language_info": {
   "codemirror_mode": {
    "name": "ipython",
    "version": 3
   },
   "file_extension": ".py",
   "mimetype": "text/x-python",
   "name": "python",
   "nbconvert_exporter": "python",
   "pygments_lexer": "ipython3",
   "version": "3.6.5"
  }
 },
 "nbformat": 4,
 "nbformat_minor": 2
}
