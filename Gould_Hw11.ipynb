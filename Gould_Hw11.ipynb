{
 "cells": [
  {
   "cell_type": "markdown",
   "metadata": {},
   "source": [
    "## Homework 11: Erosion of a Landscape That You Created"
   ]
  },
  {
   "cell_type": "markdown",
   "metadata": {},
   "source": [
    "### Cee Gould"
   ]
  },
  {
   "cell_type": "markdown",
   "metadata": {},
   "source": [
    "For this homework, you will use an existing landscape evolution code that differs from the\n",
    "computer lab’s version by the presence of an ocean and the absence of uplifting forces. In the first\n",
    "part of the assignment you will be asked to interpret the provided simulation code, and in the\n",
    "second part, you will be asked to simulation the erosion of a landscape that you created yourself."
   ]
  },
  {
   "cell_type": "markdown",
   "metadata": {},
   "source": [
    "(1) Download the Python file, landscapeWithOcean.py and the notebook\n",
    "erosion_with_ocean.ipynb. Execute all cells in the notebook. (If the code runs too slowly on your\n",
    "computer, reduce the number of grid points NX or NY.) "
   ]
  },
  {
   "cell_type": "markdown",
   "metadata": {},
   "source": [
    "### Describe in your own words, how are the initial conditions are chosen and what geological features they represent. "
   ]
  },
  {
   "cell_type": "markdown",
   "metadata": {},
   "source": [
    "The initial conditions are:\n",
    "- the number of rows (NX) and columns (NY), the amount of spacing (d) (10,10,5 respectivly)\n",
    "- then we create an array (Z) of random numbers given those dimensions, the random values represent initial topography\n",
    "- topographic features are randomly enhanced using the AddHill function\n",
    "- Addhill is a function of Z,NX,NY,xx,yy,r,h\n",
    "    - xx is a random value between 0 and 10;  this chooses a row\n",
    "    - yy is a random value between 0 and 10;  this chooses a column\n",
    "    - r is a random value between 1 and 11; this is used in relation to distance between xx and yy\n",
    "    - h is a random number between 0.5 and 5.5; a fraction of this will be used to create height\n",
    "    - r and h work together to add a height value (0-3.5) to the randomly selected area, creating hills\n",
    "- Addhill is called twice, with 5 runs each, building a varied landscape (except the second time it is called, the values of h and r are changed slightly).\n",
    "- oceanLevelParameter and landscapewithocean.py then create conditions that insert an ocean over the topography"
   ]
  },
  {
   "cell_type": "markdown",
   "metadata": {},
   "source": [
    "### Have a look inside landscapeWithOcean.py and give an interpretation of the variable ‘oceanLevelParameter’. "
   ]
  },
  {
   "cell_type": "markdown",
   "metadata": {},
   "source": [
    "It seems that oceanLevelParameter is responsible for determining the initial height of the ocean that eventually the landmass sinks into. It is set between 0 and 1; a smaller number will start the ocean lower and take longer for the code to run, a larger number will start the ocean higher and take a shorter time to run. If this value is below zero, the code will not have an ocean to sink into and the landmass will shrink but no ocean will take over."
   ]
  },
  {
   "cell_type": "markdown",
   "metadata": {},
   "source": [
    "### Run the code several times and describe the resulting evolution. Say how the geological features change with time. What happens in the oceans?"
   ]
  },
  {
   "cell_type": "markdown",
   "metadata": {},
   "source": [
    "The topography that is built up to a random value in a random configuration eventually shrinks or erodes downward until it reaches 0.0, meanwhile an ocean level is inserted at a small nonzero value, so that as the landscape shrinks, the ocean increases in size when it is at a higher level than the land."
   ]
  },
  {
   "cell_type": "markdown",
   "metadata": {},
   "source": [
    "(2) Please modify the code and replace existing initial conditions with your own ideas and code.\n",
    "(Please do not use random numbers anywhere because we may not be able to grade your\n",
    "homework properly.) Creating your own landscape may take some time. Part of the homework\n",
    "grade will be given for creativity. "
   ]
  },
  {
   "cell_type": "markdown",
   "metadata": {},
   "source": [
    "### Describe what geological features you were trying to model even if their representation is not perfect."
   ]
  },
  {
   "cell_type": "markdown",
   "metadata": {},
   "source": [
    "I wanted to simulate the effect of a meteor impact and watch it level the surrounding topography, the \"ocean\" parts would be where the meteor is."
   ]
  },
  {
   "cell_type": "markdown",
   "metadata": {},
   "source": [
    "Without changing the simulation parameters, erode your landscape with the provided code. Copy\n",
    "over the essential commands from wave2d.ipynb on bCourses, generate an mp4 file of your\n",
    "landscape evolution and submit along with your notebook. "
   ]
  },
  {
   "cell_type": "markdown",
   "metadata": {},
   "source": [
    "### Briefly describe how your landscape evolved and identify effects that are missing from your simulation if there are any. "
   ]
  },
  {
   "cell_type": "markdown",
   "metadata": {},
   "source": [
    "My landscape had four tall hills in the corners and a meteor impact in the center, and as it evolved the hills got smaller until eventually the meteor impact size got larger, but if I were really simulating this effect I would probably want to increase the meteor impact size simultaneously with the land erosion."
   ]
  },
  {
   "cell_type": "markdown",
   "metadata": {},
   "source": [
    "(3) Now change the simulation parameters including K, D, n, m, the ocean level, and maybe dt and\n",
    "also the spatial resolution in order to erode you own landscape in a different way. "
   ]
  },
  {
   "cell_type": "markdown",
   "metadata": {},
   "source": [
    "### Say what effects the parameter changes had. Points be assigned for good descriptions. See if you find some interesting effects. Again, we give points for creativity. "
   ]
  },
  {
   "cell_type": "markdown",
   "metadata": {},
   "source": [
    "I adjusted K from 1.0e-6 to 1.0e-4 and the effect was that the hill eroded almost instantaneously.\n",
    "I changed D from D = 0.005 to 100 and didn't notice any large differences.\n",
    "Changing n from n = 1 to n = 10 erodes the hill very quickly\n",
    "Changing m from m = 1 to m = 10 erodes the hill almost instantly\n",
    "Changing the ocean level from what I had set at 0.2 to 0.6 sets the ocean at a higher level initially, so that the hill erodes into the ocean quicker because it has less distance to travel. In the context of my intended landscape this would represent a larger meteor impact and a quicker flattening of the surrounding land.\n",
    "Changing dt from dt = d**2 / D / 8 to dt = d**2 / D / 2 makes the simulation run faster, but in a special way because there is actually a crazy spike in the landmass as it erodes to zero, it seems like a glitch but its kinda neat.\n",
    "\n",
    "Running all of these together just flattens the topography super quickly."
   ]
  },
  {
   "cell_type": "markdown",
   "metadata": {},
   "source": [
    "Submit your notebook and a second mp4 file that contains your best landscape evolution model."
   ]
  },
  {
   "cell_type": "code",
   "execution_count": null,
   "metadata": {},
   "outputs": [],
   "source": []
  }
 ],
 "metadata": {
  "kernelspec": {
   "display_name": "Python 3",
   "language": "python",
   "name": "python3"
  },
  "language_info": {
   "codemirror_mode": {
    "name": "ipython",
    "version": 3
   },
   "file_extension": ".py",
   "mimetype": "text/x-python",
   "name": "python",
   "nbconvert_exporter": "python",
   "pygments_lexer": "ipython3",
   "version": "3.6.5"
  }
 },
 "nbformat": 4,
 "nbformat_minor": 2
}
