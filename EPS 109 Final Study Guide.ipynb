{
 "cells": [
  {
   "cell_type": "markdown",
   "metadata": {},
   "source": [
    "# Final Study Guide 12/14/18"
   ]
  },
  {
   "cell_type": "markdown",
   "metadata": {},
   "source": [
    "8 Questions, 120 minutes. Mainly coding, but some conceptual questions and one math question "
   ]
  },
  {
   "cell_type": "code",
   "execution_count": 4,
   "metadata": {},
   "outputs": [],
   "source": [
    "import numpy as np\n",
    "import matplotlib.pyplot as plt"
   ]
  },
  {
   "cell_type": "markdown",
   "metadata": {},
   "source": [
    "# 1. Landscape evolution"
   ]
  },
  {
   "cell_type": "markdown",
   "metadata": {},
   "source": [
    "This is a nonlinear advection-diffusion equation where the quantity being transported is landscape elevation\n",
    "# $ \\frac{\\delta z}{\\delta t} = D \\nabla^2 z - K(A^m |\\nabla z|^n - \\theta_c) + E$\n",
    "### $ \\frac{\\delta z}{\\delta t}$ = rate of change of landscape evolution \n",
    "### $ D \\nabla^2 z$ = mass movement of sediment, a diffusion term\n",
    "### $ |\\nabla z|^n $ = channelized erosion, an advection term\n",
    "### E = an uplift term\n",
    "### A =  Horizontal area of landscape that drains to a particular point (the “upslope contributing area”)\n",
    "### $\\Delta_z$ = The gradient of the slope  \n",
    "### $\\theta_c$ = Limits the extent and magnitude of fluvial incision "
   ]
  },
  {
   "cell_type": "markdown",
   "metadata": {},
   "source": [
    "# 2. Discretizing equations - PDE"
   ]
  },
  {
   "cell_type": "markdown",
   "metadata": {},
   "source": [
    "discretize, then rearrange for next time step"
   ]
  },
  {
   "cell_type": "markdown",
   "metadata": {},
   "source": [
    "### PDE:  Function of multiple variables\n",
    "Remember approximations for second order derivatives. If its an explicit scheme there should only be one f(t+dt) term, and you should rearrange for this term. Initial conditions: When t = 0. Boundary conditions: At the edges of the domain. Various types of boundary condition.\n",
    "### Approximations for second order derivatives\n",
    "# $ c^{2} \\frac{\\delta ^{2}H}{\\delta t^{2}} + a \\frac{\\delta ^{2}H}{\\delta x^{2}} = 0 $ \n",
    "<br \\>\n",
    "# $ c^2 \\frac{H(t + \\Delta t, x) + H(t - \\Delta t, x) - 2H(x,t)}{\\Delta t^2} + a \\frac{H(t, x + \\Delta x) + H(t, x- \\Delta x) - 2H(t, x)}{\\Delta x^2} = 0 $\n",
    "<br \\>\n",
    "Set equal and solve\n",
    "<br \\>\n",
    "$ H (t + \\Delta t, x) = ? $ \n",
    "\n",
    "### Approximations of first order derivatives\n",
    "value of previous time step, and divide by the difference\n",
    "# $\\frac{\\delta H}{\\delta t} = \\frac{H(t + \\Delta t, x) - H(t, x)}{\\Delta t} $ \n",
    "# $ \\frac{f(t + \\Delta t) - f(t)}{\\Delta t}$\n",
    "\n",
    "### Boundary conditions:\n",
    "edges of domain, ymin and ymax\n",
    "\n",
    "###### static: set all boundaries to 0\n",
    "\n",
    "##### flow: from one end to the other\n",
    "<br \\>\n",
    "if x = xmax:\n",
    "<br \\>\n",
    "    x + $\\Delta x$ = xmin"
   ]
  },
  {
   "cell_type": "markdown",
   "metadata": {},
   "source": [
    "# 3. Seismology"
   ]
  },
  {
   "cell_type": "markdown",
   "metadata": {},
   "source": [
    "Remember how to read a file containing earthquake information and plot the columns\n",
    "<br \\>\n",
    "#### Moment magnitude = $ M_w = \\frac{2}{3} log_{10}(M_0) - 10.7 $ \n",
    "linking moment magnitude (w) with energy release (M0). Find distribution of energy by rearranging for M0, then take in w and import rearrange\n",
    "\n",
    "#### Guttenberg - Richter relation = $ log_{10}(N) = a - bM  $\n",
    "N is # of earthquakes with magnitude >= M. Step through values of N, find the number of earthquakes. b is a gradiaent, a  is an intercept, M is a line\n",
    "\n",
    "\n",
    "Example from last year's test:\n",
    "Set up a random array of integers. In an earthquake, a building will be destroyed. Simulate # of eq it takes to flatten. While loop -> if statements -> loop over values and figure out what neighbors are"
   ]
  },
  {
   "cell_type": "code",
   "execution_count": 7,
   "metadata": {},
   "outputs": [
    {
     "data": {
      "image/png": "[encoded data removed]",
      "text/plain": [
       "<Figure size 432x288 with 1 Axes>"
      ]
     },
     "metadata": {},
     "output_type": "display_data"
    }
   ],
   "source": [
    "data = np.loadtxt('earthquakes_since_1970.csv', delimiter = ',')\n",
    "long = data[:,0]\n",
    "lat = data[:,1]\n",
    "depth = data[:,2]\n",
    "magnitude = data[:,3]\n",
    "\n",
    "plt.hist(magnitude)\n",
    "plt.xlabel('Magnitude')\n",
    "plt.ylabel('Number of earthquakes')\n",
    "plt.title('Histogram of Magnitude Distribution')\n",
    "plt.show()"
   ]
  },
  {
   "cell_type": "markdown",
   "metadata": {},
   "source": [
    "# 4. ODEs"
   ]
  },
  {
   "cell_type": "markdown",
   "metadata": {},
   "source": [
    "Numerical solution to ODEs: Euler vs Runge Kutta\n",
    "<br \\>\n",
    "<br \\>\n",
    "$ f'(x,t) =  g(x,t) $\n",
    "<br \\>\n",
    "<br \\>\n",
    "want to know value of f(x,t) at different values of time\n",
    "<br \\>\n",
    "$\\frac{dy}{dt} = g(x) $ \n",
    "<br \\>\n",
    "want to find values of y\n",
    "<br \\>\n",
    "$ \\int dx = \\int y(x) dt$\n",
    "<br \\>\n",
    "How to integrate an ODE:\n",
    "<br \\>\n",
    "### Euler's Method:\n",
    "## $ f(y, t) = \\frac{y(t + \\Delta t) - y(t)}{\\Delta t} $ \n",
    "Pick the next time step;\n",
    "## $ y(t + \\Delta t) = \\Delta t * f(y, t) + y(t)$ \n",
    "Start from an initial condition f(x,0) = g(x,0)\n",
    "<br \\>\n",
    "y(t=0) = __ and take steps in time. \n",
    "<br \\>\n",
    "This is the same thing as integrating the equation\n",
    "\n",
    "### Runge Kutta 4 method:\n",
    "more complicated way of solving y(t+1)\n",
    "<br \\>\n",
    "evaluate at different times at different spaces \n",
    "<br \\>\n",
    "<br \\>\n",
    "$y_{n+1} = y_n + \\frac{1}{6} (k_1 + 2k_2 + 2k_3 + k_4)$\n",
    "<br \\>\n",
    "<br \\>\n",
    "$t_{n+1} = t_n + \\Delta t $\n",
    "<br \\>\n",
    "for n = 0, 1, 2, 3\n",
    "#### Eulers: error reduced to  $ 0 (\\Delta t^2) $ Only calculating 1 thing\n",
    "#### Rk4: error reduced to $ 0 (\\Delta t^4)$ More expensive, calculate 4 k values, more accurate"
   ]
  },
  {
   "cell_type": "markdown",
   "metadata": {},
   "source": [
    "# 5. Indexing and slicing numpy arrays "
   ]
  },
  {
   "cell_type": "markdown",
   "metadata": {},
   "source": [
    "# 6. Random walks "
   ]
  },
  {
   "cell_type": "markdown",
   "metadata": {},
   "source": [
    "# 7. Imaging processing lab (#13), especially question 1 (filling a 3D array with color)"
   ]
  },
  {
   "cell_type": "markdown",
   "metadata": {},
   "source": [
    "Find an area of maple leaf, matrix colored black or white (1 or 0). Loop over i and j, value 1 or 0, if 0 add 1, if 1 then dont. If 0, check neighbors if value 1, then add pixel value, get sum of the perimeter. c.) i and j knows positions, save them and calculate mean"
   ]
  },
  {
   "cell_type": "markdown",
   "metadata": {},
   "source": [
    "# 8. Orbital dynamics simulations (lab & homework 11)"
   ]
  },
  {
   "cell_type": "markdown",
   "metadata": {},
   "source": [
    "know how to set up orbital dynamics simulation"
   ]
  },
  {
   "cell_type": "code",
   "execution_count": 6,
   "metadata": {},
   "outputs": [
    {
     "data": {
      "image/png": "[encoded data removed]",
      "text/plain": [
       "<Figure size 432x288 with 1 Axes>"
      ]
     },
     "metadata": {},
     "output_type": "display_data"
    }
   ],
   "source": [
    "ms = 3e+6\n",
    "mp = 1\n",
    "G  = 1e-6\n",
    "\n",
    "# initial positions\n",
    "r = np.array([1, 0])\n",
    "\n",
    "# initial velocities\n",
    "v = np.array([0, 2]);\n",
    "\n",
    "t = 0\n",
    "tMax = 100.0\n",
    "dt   = 0.001;\n",
    "n    = tMax / dt\n",
    "\n",
    "xt = []\n",
    "yt = []\n",
    "vxy = []\n",
    "vyt = []\n",
    "kint = []\n",
    "pott = []\n",
    "et = []\n",
    "tt = []\n",
    "\n",
    "def KeplerODE(t,y):\n",
    "    global mp,ms,G\n",
    "\n",
    "    r = y[0:2]\n",
    "    v = y[2:4]\n",
    "    \n",
    "    drdt = v \n",
    "\n",
    "    F    = - ms * mp * G / np.linalg.norm(r)**3 * r\n",
    "    a    = F / mp\n",
    "    dvdt = a\n",
    "    \n",
    "    return np.concatenate((drdt,dvdt))\n",
    "\n",
    "y = np.concatenate((r,v))\n",
    "\n",
    "while (t<tMax):\n",
    "    r = y[0:2]\n",
    "    v = y[2:4]\n",
    "    \n",
    "\n",
    "    kin = 1.0/2.0*mp* np.linalg.norm(v)**2   #kinetic energy\n",
    "    pot = -mp*ms*G / np.linalg.norm(r)     #potential energy\n",
    "    e   = kin+pot\n",
    "\n",
    "    \n",
    "    xt.append(r[0])\n",
    "    yt.append(r[1])\n",
    "    kint.append(kin)\n",
    "    pott.append(pot)   #gravitational potential\n",
    "    et.append(e)\n",
    "    tt.append(t)\n",
    "    \n",
    "#     dydt = KeplerODE(t,y)\n",
    "#     y = y + dydt*dt                        #Eulers method\n",
    "\n",
    "    f1 = KeplerODE(t       ,y          )     #Runge Kutta Method\n",
    "    f2 = KeplerODE(t+dt/2.0,y+f1*dt/2.0)\n",
    "    f3 = KeplerODE(t+dt/2.0,y+f2*dt/2.0)\n",
    "    f4 = KeplerODE(t+dt    ,y+f3*dt    )\n",
    "\n",
    "    y = y + (f1 + 2.0*f2 + 2.0*f3 + f4) / 6.0 * dt\n",
    "    t = t + dt\n",
    "    \n",
    "plt.plot(xt,yt,'r-')\n",
    "\n",
    "plt.plot(0,0,'*',mfc='w',ms=10)\n",
    "    \n",
    "plt.show()\n"
   ]
  },
  {
   "cell_type": "markdown",
   "metadata": {},
   "source": [
    "# 9. Labyrinth"
   ]
  },
  {
   "cell_type": "markdown",
   "metadata": {},
   "source": [
    "time step, a loop over a length or a while until met. Fills cells, branching, each branch has 2 bends, look at neighbors of branches to decide if it branches again. Decides randomly?"
   ]
  },
  {
   "cell_type": "code",
   "execution_count": 62,
   "metadata": {},
   "outputs": [
    {
     "ename": "SyntaxError",
     "evalue": "invalid syntax (<ipython-input-62-7374e8c49b23>, line 24)",
     "output_type": "error",
     "traceback": [
      "\u001b[0;36m  File \u001b[0;32m\"<ipython-input-62-7374e8c49b23>\"\u001b[0;36m, line \u001b[0;32m24\u001b[0m\n\u001b[0;31m    if y\u001b[0m\n\u001b[0m          ^\u001b[0m\n\u001b[0;31mSyntaxError\u001b[0m\u001b[0;31m:\u001b[0m invalid syntax\n"
     ]
    }
   ],
   "source": [
    "%matplotlib osx  \n",
    "n = 10\n",
    "data = np.zeros((n, n))\n",
    "\n",
    "xStart = len(data)//2\n",
    "yStart = 0\n",
    "\n",
    "xmax = len(data[0])\n",
    "ymax = len(data[1])\n",
    "#data[0, len(data)//2] = 1\n",
    "split = np.random.random() \n",
    "\n",
    "x  = xStart \n",
    "y  = yStart\n",
    "while True:\n",
    "        \n",
    "        if y <= split * len(data[0]):\n",
    "            data[y, x] = 1\n",
    "            y += 1\n",
    "        #move in the x direction forwards and backwards\n",
    "        elif y > split * len(data[0]):\n",
    "            data[ y , x] = 1\n",
    "            x += 1\n",
    "            if y  \n",
    "            \n",
    "            #data[ y , x] = 1\n",
    "            #x -= 1\n",
    "            \n",
    "        if x == xmax:\n",
    "            break\n",
    "        if y == ymax:\n",
    "            break\n",
    "        \n",
    "    \n",
    "        plt.imshow(data,interpolation='nearest')\n",
    "\n",
    "        plt.draw()\n",
    "        plt.pause(0.005)\n",
    "        plt.show()"
   ]
  },
  {
   "cell_type": "code",
   "execution_count": 42,
   "metadata": {},
   "outputs": [
    {
     "data": {
      "text/plain": [
       "0.0"
      ]
     },
     "execution_count": 42,
     "metadata": {},
     "output_type": "execute_result"
    }
   ],
   "source": [
    "data[1][3]"
   ]
  },
  {
   "cell_type": "code",
   "execution_count": null,
   "metadata": {},
   "outputs": [],
   "source": []
  }
 ],
 "metadata": {
  "kernelspec": {
   "display_name": "Python 3",
   "language": "python",
   "name": "python3"
  },
  "language_info": {
   "codemirror_mode": {
    "name": "ipython",
    "version": 3
   },
   "file_extension": ".py",
   "mimetype": "text/x-python",
   "name": "python",
   "nbconvert_exporter": "python",
   "pygments_lexer": "ipython3",
   "version": "3.6.5"
  }
 },
 "nbformat": 4,
 "nbformat_minor": 2
}
