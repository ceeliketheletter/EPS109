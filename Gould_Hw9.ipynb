{
 "cells": [
  {
   "cell_type": "markdown",
   "metadata": {},
   "source": [
    "# Homework 9: Cooling of a Lava Dike"
   ]
  },
  {
   "cell_type": "markdown",
   "metadata": {},
   "source": [
    "### Cee Gould"
   ]
  },
  {
   "cell_type": "markdown",
   "metadata": {},
   "source": [
    "This homework set is very much based on this week’s computer\n",
    "lab. We study the cooling of lava filled dike and derive the\n",
    "temperature distributions T(x,t). The lava has an initial\n",
    "temperature of 1250°C, and surrounding host rock host rock has\n",
    "one of 0°C. We assume the dike has a width of d=5 meters and\n",
    "is infinitely long in y and z directions. For rock and lava, use\n",
    "a heat capacity of 1.2 Joule/gramm/Kelvin,\n",
    "a density of 2.75 gramm/cm3,\n",
    "and a heat conductance of 0.025 J/cm/seconds/Kelvin.\n",
    "Discretize the dike into N=50 intervals. Then add a layer of host\n",
    "rock of width 2×d on each side, which brings the total number of intervals to 5×N. This\n",
    "determines your initial conditions. Choose Dirichlet boundary conditions, T=0, on each side."
   ]
  },
  {
   "cell_type": "code",
   "execution_count": 9,
   "metadata": {},
   "outputs": [],
   "source": [
    "import numpy as np\n",
    "import matplotlib.pyplot as plt\n",
    "%matplotlib osx"
   ]
  },
  {
   "cell_type": "code",
   "execution_count": 10,
   "metadata": {},
   "outputs": [],
   "source": [
    "hour = 3600 #seconds\n",
    "day =  86400\n",
    "week =  604800\n",
    "month = 2.628e+6\n",
    "year = 3.154e+7"
   ]
  },
  {
   "cell_type": "code",
   "execution_count": 3,
   "metadata": {},
   "outputs": [],
   "source": [
    "cp = 1.2 #Joule/gramm/Kelvin\n",
    "rho = 2.75 #gramm/cm3\n",
    "kappa = 0.025 #J/cm/s/K"
   ]
  },
  {
   "cell_type": "markdown",
   "metadata": {},
   "source": [
    "### Q: Main question of this problem: What is the temperature in the middle of the dike after (a) 1 hour, (b) one day, (c) one week, (d) one month, and (e) after one year?"
   ]
  },
  {
   "cell_type": "markdown",
   "metadata": {},
   "source": [
    "(1) Write a Python code that solves the 1D heat equation in real time using the following\n",
    "scheme:"
   ]
  },
  {
   "cell_type": "markdown",
   "metadata": {},
   "source": [
    "T(x, t + Δt) = (Δt / Δx^2)  * (k / cρ)  * [T(x + Δx, t) − 2T(x, t) + T(x − Δx, t)] + T(x, t)"
   ]
  },
  {
   "cell_type": "code",
   "execution_count": null,
   "metadata": {},
   "outputs": [],
   "source": []
  },
  {
   "cell_type": "code",
   "execution_count": 29,
   "metadata": {},
   "outputs": [],
   "source": [
    "def lavadike(time, T_original):\n",
    "    \n",
    "    \n",
    "    Nvals = np.arange(50,200,25)\n",
    "    r = 0.4\n",
    "    center_conv = []\n",
    "    for i in range(len(Nvals)):\n",
    "        N = Nvals[i]\n",
    "        dt = r / (kappa/(cp*rho*dx**2))\n",
    "        print(dt)\n",
    "        T = diffuse(time, N, r, host_width, T_original)\n",
    "        center_conv.append(np.max(T))\n",
    "        \n",
    "        if i > 0:\n",
    "            if (abs(center_conv[i]- center_conv[i-1])) < 1.5 :\n",
    "                print('converged at N= %i' %N)\n",
    "                break\n",
    "                \n",
    "        plt.clf()\n",
    "        plt.plot(x,T,'ro-')\n",
    "        plt.xlabel('x')\n",
    "        plt.ylabel('T(x)')\n",
    "        #plt.ylim(0,1)\n",
    "        plt.draw()\n",
    "        plt.pause(.05)\n",
    "        plt.show()"
   ]
  },
  {
   "cell_type": "code",
   "execution_count": 27,
   "metadata": {},
   "outputs": [],
   "source": [
    "def diffuse(time, N, r, host, T):\n",
    "    %matplotlib osx\n",
    "    \n",
    "    Tnew = np.copy(T)\n",
    "    \n",
    "    #boundary conditions\n",
    "    Tnew[0] = 0\n",
    "    Tnew[total_intervals-1] = 0\n",
    "    \n",
    "    \n",
    "    counter = 0\n",
    " \n",
    "    for i in range(time):\n",
    "        #for i in range(0, N-1):\n",
    "            Tnew[i] = (kappa/cp) *(dt/(T[i]- T[i-1])**2) * (T[i+1] - 2*T[i] + T[i-1]) + T[i] \n",
    "            \n",
    "            #if Tnew[i] == float('-inf') or Tnew[i] == None:\n",
    "            #        Tnew[i] = 0\n",
    "           \n",
    "            Tnew = np.nan_to_num(Tnew)\n",
    "        \n",
    "    counter += 1\n",
    "    T = Tnew\n",
    "    return T"
   ]
  },
  {
   "cell_type": "code",
   "execution_count": 36,
   "metadata": {},
   "outputs": [],
   "source": [
    "\n",
    "#The lava has an initial temperature of 1250°C, and surrounding host rock host rock has one of 0°C.\n",
    "\n",
    "T_lava = 1250 #degrees C\n",
    "T_host = 0 #degrees C\n",
    "\n",
    "#We assume the dike has a width of d=5 meters\n",
    "\n",
    "dike_width = 500 #centimeters\n",
    "\n",
    "\n",
    "#Discretize the dike into N=50 intervals.\n",
    "\n",
    "N = 50 #intervals\n",
    "\n",
    "dike_intervals = np.linspace(0,dike_width,N)\n",
    "\n",
    "dx = dike_width/N     #500/N\n",
    "\n",
    "\n",
    "r = (kappa/(cp*rho*dx**2))\n",
    "\n",
    "#Then add a layer of host rock of width 2×d on each side\n",
    "\n",
    "host_width = 2 * len(dike_intervals)\n",
    "\n",
    "#which brings the total number of intervals to 5×N.\n",
    "\n",
    "total_intervals = host_width + len(dike_intervals) + host_width # // = 5 * N\n",
    "\n",
    "x = np.arange(0,total_intervals)\n",
    "T = np.zeros(total_intervals)\n",
    "\n",
    "\n",
    "T[100:150] = T_lava   \n",
    "\n",
    "plt.plot(x,T,'ro-')\n",
    "plt.xlabel('x')\n",
    "plt.ylabel('T(x)')\n",
    "plt.show()\n",
    "\n",
    "T_original = T\n",
    "\n",
    "#lavadike(hour, T_original)\n",
    "\n",
    "# make \"r\", all the constants, a chosen value\n",
    "# you know dx, rearrange for dt\n",
    "#run a suimulation for dt knowing r\n",
    "#once the diffusion works, the center of the dike diffusion is different time. 1 week in seconds, divided by the number of iterations calculated in the code\n",
    "#temp in the center is the maximum temperature"
   ]
  },
  {
   "cell_type": "code",
   "execution_count": 37,
   "metadata": {},
   "outputs": [],
   "source": [
    "#Define characteristics of the problem\n",
    "N = 50  #number of cells in the dike\n",
    "r = 0.4 #choose r\n",
    "dx = 500/N\n",
    "dt = r/(kappa/(cp*rho*dx**2)) #find dt for that value of R\n",
    "week = 3600*24*7/dt  #Lets say we want to simulate 1 week of time. This is the number of timesteps in that period\n",
    "host = 2*N #width of rock on either side of the dike, in cells \n",
    "\n",
    "#Set up initial condition\n",
    "total = host*2 + N\n",
    "T = np.zeros(total)\n",
    "T[int(total//2-N//2):int(total//2+N//2)] = 1250\n",
    "\n",
    "#Solve (using GS method)\n",
    "\n",
    "for n in range(int(week)):\n",
    "\n",
    "    for i in range(1,total-1):\n",
    "            T[i] = r*(T[i-1]+T[i+1]-2*T[i]) + T[i]\n",
    "            \n",
    "            \n",
    "    plt.clf()\n",
    "    plt.plot(x,T,'ro-')\n",
    "    plt.xlabel('x')\n",
    "    plt.ylabel('T(x)')\n",
    "    #plt.ylim(0,1)\n",
    "    plt.draw()\n",
    "    plt.pause(.05)\n",
    "    plt.show()"
   ]
  },
  {
   "cell_type": "markdown",
   "metadata": {},
   "source": [
    "(2) Increase the spatial resolution to N=100, 200, 300… points in the dike until all answers to Q\n",
    "change by less than 1.5°C. When you change N, please adjust Δt so that η remains constant."
   ]
  },
  {
   "cell_type": "code",
   "execution_count": 15,
   "metadata": {},
   "outputs": [],
   "source": [
    "#question 2: change the value of N until it becomes large enough that the simulation has converefd, the difference between the max T of one value of the diff between the next N temp is some value. maake dx smaller and smaller, if N goes up dx gets smaller. higher resolution, more accu\n",
    "#what value of x do you need dx to be more acurate to produce the same result?\n",
    "#loop over Nvals list, host value is 2N, a function diffuse time steps loops over i\n",
    "#the final profile calculates tempat center of profile,, i put it in a list that keeps track of max temp of N, ith center temperature < 1.5 then print N and break\n",
    "#run for 1 value of time, chose a week or a day\n",
    "#N should be < 200. code should take less than 5 minutes"
   ]
  },
  {
   "cell_type": "code",
   "execution_count": null,
   "metadata": {},
   "outputs": [],
   "source": []
  }
 ],
 "metadata": {
  "kernelspec": {
   "display_name": "Python 3",
   "language": "python",
   "name": "python3"
  },
  "language_info": {
   "codemirror_mode": {
    "name": "ipython",
    "version": 3
   },
   "file_extension": ".py",
   "mimetype": "text/x-python",
   "name": "python",
   "nbconvert_exporter": "python",
   "pygments_lexer": "ipython3",
   "version": "3.6.5"
  }
 },
 "nbformat": 4,
 "nbformat_minor": 2
}
