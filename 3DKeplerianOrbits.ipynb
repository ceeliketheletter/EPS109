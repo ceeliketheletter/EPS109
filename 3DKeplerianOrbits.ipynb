{
 "cells": [
  {
   "cell_type": "code",
   "execution_count": 1,
   "metadata": {},
   "outputs": [],
   "source": [
    "import numpy as np\n",
    "import matplotlib.pyplot as plt\n",
    "from mpl_toolkits.mplot3d import Axes3D\n",
    "from matplotlib import cm\n",
    "from matplotlib.ticker import LinearLocator, FormatStrFormatter\n",
    "#%matplotlib osx    \n",
    "import orbital\n",
    "import math"
   ]
  },
  {
   "cell_type": "code",
   "execution_count": 2,
   "metadata": {},
   "outputs": [],
   "source": [
    "def Newtons_Equation(t, X):\n",
    "    r = X[0:3]\n",
    "    v = X[3:6]\n",
    "\n",
    "    \n",
    "    F = -(G/au*year) * m_p9 * m_sun /np.linalg.norm(r)**3 * r\n",
    "    a    = F / m_p9\n",
    "    \n",
    "    return np.concatenate((v, a))"
   ]
  },
  {
   "cell_type": "code",
   "execution_count": 3,
   "metadata": {},
   "outputs": [],
   "source": [
    "# // Constants //\n",
    "year  = 3.154e+7 #s\n",
    "au = 1.496e+8 #km\n",
    "m_earth = 5.972e24 #kg\n",
    "m_p9 = 10 * m_earth #fiducial 10 M⊕ Planet Nine candidate proposed by Batygin & Brown (2016)\n",
    "m_sun = 333000 * m_earth\n",
    "M = m_sun + m_p9\n",
    "G  = 6.674e-20  #km^3/kg s^2\n",
    "mu = G /au*year * M\n",
    "\n",
    "\n",
    "# //// Fienga et al 2016 ///\n",
    "i_p9 = 30 #degrees\n",
    "Omega_p9 = 113 #degrees\n",
    "argp_p9 = 150 #degrees\n",
    "nu_p9 = 118 #degrees\n",
    "\n",
    "a_p9 = 700 * au #km\n",
    "e_p9 = 0.6"
   ]
  },
  {
   "cell_type": "code",
   "execution_count": 4,
   "metadata": {},
   "outputs": [
    {
     "name": "stdout",
     "output_type": "stream",
     "text": [
      "[1. 1. 1.]\n"
     ]
    }
   ],
   "source": [
    "# // Calculate r = [U, V, W] using orbital angles\n",
    "#https://pythonhosted.org/OrbitalPy/modules/utilities/?highlight=orbital.utilities.uvw_from_elements#orbital.utilities.uvw_from_elements\n",
    "\n",
    "U, V, W = orbital.utilities.uvw_from_elements(math.radians(i_p9), raan=math.radians(Omega_p9), arg_pe=math.radians(argp_p9), f=nu_p9)\n",
    "x = np.linalg.norm(U)\n",
    "y = np.linalg.norm(V)\n",
    "z = np.linalg.norm(W)\n",
    "r = np.array([x,y,z])\n",
    "print(r)"
   ]
  },
  {
   "cell_type": "code",
   "execution_count": 5,
   "metadata": {},
   "outputs": [
    {
     "name": "stdout",
     "output_type": "stream",
     "text": [
      "r_p9 =  60190520986.67269 km or  402.3430547237479 au\n",
      "p_p9 =  18520.259177452135 Years\n",
      "v_p9 =  1.7727977105891672 km/s or  1.1850252076130796e-08 au/s or  0.3737569504811653 au/year\n"
     ]
    }
   ],
   "source": [
    "# calculate heliocentric distance using semi major axis and eccentricity\n",
    "a = a_p9\n",
    "e = e_p9\n",
    "nu = nu_p9\n",
    "r_p9 = (a * (1 - e**2)) / (1 + e*np.cos(nu))\n",
    "print('r_p9 = ', r_p9, 'km', 'or ', r_p9/au, 'au')\n",
    "\n",
    "p_p9 = np.sqrt((a/au)**3)\n",
    "print('p_p9 = ', p_p9, 'Years')\n",
    "\n",
    "v_p9 = np.sqrt(G*M*((2 / r_p9) - (1 / a)))\n",
    "print('v_p9 = ', v_p9, 'km/s', 'or ', v_p9/au, 'au/s', 'or ', v_p9/au*year, 'au/year')"
   ]
  },
  {
   "cell_type": "code",
   "execution_count": 6,
   "metadata": {},
   "outputs": [
    {
     "data": {
      "text/plain": [
       "(350.0, 0.5714285714285714)"
      ]
     },
     "execution_count": 6,
     "metadata": {},
     "output_type": "execute_result"
    }
   ],
   "source": [
    "#perihelia roughly between 150 and 350 au, semimajor axis between 380 and 980 au\n",
    "#Brown, Batygin \"Observational constraints on the orbit and location of Planet Nine in the outer solar system.\"\n",
    "#a = 700\n",
    "\n",
    "apocenter_radius = 550 #au\n",
    "pericenter_radius = 150 #au\n",
    "orbital.utilities.elements_for_apsides(apocenter_radius, pericenter_radius)"
   ]
  },
  {
   "cell_type": "code",
   "execution_count": 7,
   "metadata": {},
   "outputs": [
    {
     "name": "stdout",
     "output_type": "stream",
     "text": [
      "r =  [700.   0.   0.]\n",
      "v =  [0.         0.37375695 0.        ]\n"
     ]
    }
   ],
   "source": [
    "#// User Inputs // \n",
    "\n",
    "x = a_p9/au #au \n",
    "y = 0\n",
    "z = 0\n",
    "vx = 0\n",
    "vy = v_p9/au*year # au/year\n",
    "vz = 0\n",
    "\n",
    "r = np.array([x,y,z])\n",
    "v = np.array([vx,vy,vz])\n",
    "\n",
    "print('r = ', r)\n",
    "print('v = ', v)"
   ]
  },
  {
   "cell_type": "code",
   "execution_count": 8,
   "metadata": {},
   "outputs": [
    {
     "name": "stdout",
     "output_type": "stream",
     "text": [
      "e =  0.9999999965055145 elliptical orbit\n",
      "E =  -39975631.33190336 bound\n",
      "a =  350.000000611535\n",
      "p =  6547.900444015555\n",
      "i =  0.0\n",
      "Omega =  nan\n",
      "argp =  nan\n",
      "initial nu =  3.141592653589793 degrees\n"
     ]
    },
    {
     "name": "stderr",
     "output_type": "stream",
     "text": [
      "/Users/CEE/anaconda3/lib/python3.6/site-packages/ipykernel_launcher.py:50: RuntimeWarning: invalid value encountered in double_scalars\n",
      "/Users/CEE/anaconda3/lib/python3.6/site-packages/ipykernel_launcher.py:55: RuntimeWarning: invalid value encountered in double_scalars\n"
     ]
    }
   ],
   "source": [
    "#/// Calculate orbital elements /// \n",
    "#follows from the method laid out in Fundamentals of Astrodynamics and Applications, by Vallado, 2007\n",
    "# https://space.stackexchange.com/questions/1904/how-to-programmatically-calculate-orbital-elements-using-position-velocity-vecto\n",
    "\n",
    "h = np.cross(r,v)         # angular momentum\n",
    "K = np.array([0, 0, 1])\n",
    "nhat=np.cross(K,h)       #node vector\n",
    "\n",
    "#eccentricity vector\n",
    "evec = ((np.linalg.norm(v)**2 - mu/np.linalg.norm(r))*r - np.dot(r,v)*v)/ mu  \n",
    "# evec = (np.linalg.norm(abs(v))**2/mu - 1/np.linalg.norm(abs(r)))*r - (np.dot(r,v)*v / mu) \n",
    "\n",
    "#evec = np.array([e_p9, 0, 0])\n",
    "e = np.linalg.norm(evec)\n",
    "\n",
    "if e == 0:\n",
    "    orbit = 'circular orbit'\n",
    "if e > 0 and e < 1:\n",
    "    orbit = 'elliptical orbit'\n",
    "if e == 1:\n",
    "    orbit ='parabolic orbit'\n",
    "if e > 1:\n",
    "    orbit = 'hyperbolic orbit'\n",
    "print('e = ', e, orbit)\n",
    "\n",
    "energy = np.linalg.norm(v)**2/2 - mu/np.linalg.norm(r) #Specific mechanical energy\n",
    "if energy < 0: #absolute value of potential energy is larger than kinetic\n",
    "    bound = 'bound'\n",
    "if energy > 0: #kinetic energy is larger than the absolute value of the potential energy\n",
    "    bound = 'unbound'\n",
    "print('E = ', energy, bound)\n",
    "\n",
    "if abs(e) != 1: \n",
    "    a = -mu/(2*energy)\n",
    "    #p = a*(1-e**2)\n",
    "    p = np.sqrt(abs(a)**3)\n",
    "else:\n",
    "    #p = np.linalg.norm(h)**2/mu\n",
    "    a = 'inf'\n",
    "    p = 'inf'\n",
    "    \n",
    "print('a = ', a)         #semi major axis\n",
    "\n",
    "\n",
    "print('p = ', p)        #period\n",
    "\n",
    "i = np.arccos(h[2]/np.linalg.norm(h))  #inclination\n",
    "print('i = ', i)        \n",
    "\n",
    "Omega = np.arccos(nhat[0]/np.linalg.norm(nhat))  #swivel: the angle from the principal direction to the ascending node, 0° ≤ Ω < 360°\n",
    "if nhat[1] < 0:\n",
    "   Omega = 360-Omega\n",
    "print('Omega = ', Omega)\n",
    "\n",
    "argp = np.arccos(np.dot(nhat,evec)/(np.linalg.norm(nhat)*e)) # argument of perigee, ω: 0° ≤ ω < 360\n",
    "if evec[2]<0:\n",
    "   argp = 360-argp\n",
    "print('argp = ', argp)\n",
    "\n",
    "#nu_0 = nu_p9\n",
    "nu_0 = np.arccos(np.dot(evec,r)/(e*np.linalg.norm(r)))  # True anomaly, ν, is the angle along the orbital path from perigee to the spacecraft’s position vector r.  0 <= v < 360°\n",
    "if np.dot(r,v)<0:\n",
    "   nu = 360 - nu_0\n",
    "print('initial nu = ', nu_0, 'degrees')  # changes with time, location of the spacecraft in its orbit"
   ]
  },
  {
   "cell_type": "code",
   "execution_count": 9,
   "metadata": {},
   "outputs": [],
   "source": [
    "dt = .001\n",
    "time = np.arange(0,10.001, dt)\n",
    "tmax = 10\n",
    "tt = []\n",
    "t = 0"
   ]
  },
  {
   "cell_type": "code",
   "execution_count": 10,
   "metadata": {
    "scrolled": true
   },
   "outputs": [],
   "source": [
    "xt = []\n",
    "yt = []\n",
    "zt = []\n",
    "vx = []\n",
    "vy = []\n",
    "vz = []\n",
    "\n",
    "X = np.concatenate((r,v))\n",
    "\n",
    "%matplotlib osx  \n",
    "\n",
    "while True:\n",
    "\n",
    "    r = X[0:3]\n",
    "    v = X[3:6]\n",
    "    \n",
    "    \n",
    "    xt.append(X[0])\n",
    "    yt.append(X[1])\n",
    "    zt.append(X[2])\n",
    "    \n",
    "    \n",
    "    #X = X + Newtons_Equation(X) * h    #EULERS METHOD\n",
    "    \n",
    "    f1 = Newtons_Equation(t       ,X          )    #RUNGE KUTTA METHOD\n",
    "    f2 = Newtons_Equation(t+dt/2.0,X+f1*dt/2.0)\n",
    "    f3 = Newtons_Equation(t+dt/2.0,X+f2*dt/2.0)\n",
    "    f4 = Newtons_Equation(t+dt    ,X+f3*dt    )\n",
    "\n",
    "    X = X + (f1 + 2.0*f2 + 2.0*f3 + f4) / 6.0 * dt\n",
    "    \n",
    "    nu = np.arccos(np.dot(evec,r)/(e*np.linalg.norm(r)))  # True anomaly, ν, is the angle along the orbital path from perigee to the spacecraft’s position vector r.  0 <= v < 360°\n",
    "    if np.dot(r,v)<0:\n",
    "        nu = 360 - nu\n",
    "    #print('nu = ', nu)\n",
    "    if nu *10000 //1 / 10000 == (nu_0-.001)*10000 //1 / 10000:\n",
    "        break\n",
    "    \n",
    "    tt.append(t)\n",
    "\n",
    "    if t >= tmax:\n",
    "        break\n",
    "    t += dt"
   ]
  },
  {
   "cell_type": "code",
   "execution_count": 11,
   "metadata": {},
   "outputs": [
    {
     "name": "stdout",
     "output_type": "stream",
     "text": [
      "10.000999999999896\n",
      "18520.259177452135\n",
      "10002\n"
     ]
    }
   ],
   "source": [
    "print(t)\n",
    "print(p_p9)\n",
    "print(len(yt))"
   ]
  },
  {
   "cell_type": "code",
   "execution_count": 12,
   "metadata": {},
   "outputs": [],
   "source": [
    "# // 2D orbit plot // \n",
    "plt.plot(xt, yt, 'r-')\n",
    "plt.xlabel('X axis')\n",
    "plt.ylabel('Y axis')\n",
    "plt.plot(0,0,'*',mfc='w',ms=10)\n",
    "#plt.gca().set_aspect('equal', adjustable='box')  \n",
    "plt.show()"
   ]
  },
  {
   "cell_type": "code",
   "execution_count": 14,
   "metadata": {},
   "outputs": [],
   "source": [
    "#// 3D orbit plot //\n",
    "XT = np.array(xt)\n",
    "YT = np.array(yt)\n",
    "ZT = np.array(zt)\n",
    "\n",
    "\n",
    "plt.rcParams['legend.fontsize'] = 10\n",
    "\n",
    "fig = plt.figure(figsize=(5,5))\n",
    "ax = fig.gca(projection='3d')\n",
    "ax.set_aspect(\"equal\")\n",
    "\n",
    "\n",
    "ax.plot(XT, YT, ZT, label='Orbit', antialiased=False)     #orbit\n",
    "#ax.text(0, 0, 0, '*', zdir=None)\n",
    "\n",
    "\n",
    "u, v = np.mgrid[0:2*np.pi:100j, 0:np.pi:100j]   #sphere\n",
    "x = 0.1 * np.cos(u)*np.sin(v)\n",
    "y = 0.1 * np.sin(u)*np.sin(v)\n",
    "z = 0.1 * np.cos(v)\n",
    "ax.plot_surface(x, y, z, color=\"b\")\n",
    "\n",
    "\n",
    "ax.set_xlim(-1.5, 1.5)\n",
    "ax.set_ylim(-1.5, 1.5)\n",
    "ax.set_zlim(-1.5, 1.5)\n",
    "ax.set_xlabel('X axis')\n",
    "ax.set_ylabel('Y axis')\n",
    "ax.set_zlabel('Z axis')\n",
    "\n",
    "plt.draw()\n",
    "plt.pause(0.005)\n",
    "plt.show()\n"
   ]
  },
  {
   "cell_type": "code",
   "execution_count": null,
   "metadata": {},
   "outputs": [],
   "source": []
  }
 ],
 "metadata": {
  "kernelspec": {
   "display_name": "Python 3",
   "language": "python",
   "name": "python3"
  },
  "language_info": {
   "codemirror_mode": {
    "name": "ipython",
    "version": 3
   },
   "file_extension": ".py",
   "mimetype": "text/x-python",
   "name": "python",
   "nbconvert_exporter": "python",
   "pygments_lexer": "ipython3",
   "version": "3.6.5"
  }
 },
 "nbformat": 4,
 "nbformat_minor": 2
}
