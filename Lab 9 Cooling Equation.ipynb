{
 "cells": [
  {
   "cell_type": "markdown",
   "metadata": {},
   "source": [
    "## Lab 9: Cooling Equation"
   ]
  },
  {
   "cell_type": "code",
   "execution_count": 2,
   "metadata": {},
   "outputs": [
    {
     "name": "stdout",
     "output_type": "stream",
     "text": [
      "initial thermal energy: 9.999999999999998\n",
      "one percent of thermal energy:  0.09999999999999998\n"
     ]
    },
    {
     "name": "stderr",
     "output_type": "stream",
     "text": [
      "/Users/CEE/anaconda3/lib/python3.6/site-packages/ipykernel_launcher.py:58: RuntimeWarning: divide by zero encountered in double_scalars\n",
      "/Users/CEE/anaconda3/lib/python3.6/site-packages/matplotlib/axes/_base.py:2508: RuntimeWarning: overflow encountered in double_scalars\n",
      "  x1t += delta\n",
      "/Users/CEE/anaconda3/lib/python3.6/site-packages/ipykernel_launcher.py:58: RuntimeWarning: overflow encountered in double_scalars\n",
      "/Users/CEE/anaconda3/lib/python3.6/site-packages/ipykernel_launcher.py:58: RuntimeWarning: invalid value encountered in double_scalars\n"
     ]
    },
    {
     "data": {
      "text/plain": [
       "(0.06300000000000004, 'seconds', 63, 'runs')"
      ]
     },
     "execution_count": 2,
     "metadata": {},
     "output_type": "execute_result"
    }
   ],
   "source": [
    "import numpy as np\n",
    "import matplotlib.pyplot as plt\n",
    "%matplotlib osx\n",
    "\n",
    "\n",
    "L = 1.0\n",
    "n = 21\n",
    "x = np.linspace(0,L,n)\n",
    "T = np.zeros(n)\n",
    "k = 1\n",
    "step = 10e-4  #seconds\n",
    "\n",
    "\n",
    "for i in range(len(x)):\n",
    "    if i == 0:\n",
    "        T[i] = 0\n",
    "    if i > 0 and i <= len(x)//2:\n",
    "        T[i]= x[i] *2\n",
    "    \n",
    "    #if i == len(x)//2:\n",
    "    #    T[i] = 1 \n",
    "    if i > len(x)//2 and i < len(x):\n",
    "        T[i]=  (L  - x[i]) *2\n",
    "    if i == len(x):\n",
    "        T[i] = 0\n",
    "\n",
    "plt.ylim(0,1)\n",
    "plt.clf()\n",
    "plt.plot(x,T,'ro-')\n",
    "plt.xlabel('x')\n",
    "plt.ylabel('T(x)')\n",
    "plt.draw()\n",
    "plt.pause(0.5)\n",
    "plt.show()\n",
    "        \n",
    "        \n",
    "initial_energy = sum(T)\n",
    "print('initial thermal energy:', initial_energy)\n",
    "one_percent = 0.01 * initial_energy\n",
    "print('one percent of thermal energy: ', one_percent)\n",
    "\n",
    "\n",
    "\n",
    "def temperature(T):\n",
    "    Tnew = np.copy(T)\n",
    "    counter = 0\n",
    "    t = 0\n",
    "    \n",
    "    \n",
    "    Tnew[0] = 0\n",
    "    Tnew[n-1] = 0\n",
    "    \n",
    "    while True:\n",
    "        for i in range(0, n-1):\n",
    "            \n",
    "            \n",
    "    \n",
    "            Tnew[i] = k *(step/(T[i]- T[i-1])**2) * (T[i+1] - 2*T[i] + T[i-1]) + T[i] \n",
    "        \n",
    "\n",
    "            \n",
    "            if Tnew[i] == float('-inf') or Tnew[i] == None:\n",
    "                    Tnew[i] = 0\n",
    "           \n",
    "            Tnew = np.nan_to_num(Tnew)\n",
    "            \n",
    "        \n",
    "        \n",
    "        t += step\n",
    "        \n",
    "        counter += 1\n",
    "        T = Tnew\n",
    "        \n",
    "        #print(sum(T))\n",
    "        #print(T)\n",
    "    \n",
    "        \n",
    "        plt.clf()\n",
    "        plt.plot(x,T,'ro-')\n",
    "        plt.xlabel('x')\n",
    "        plt.ylabel('T(x)')\n",
    "        plt.ylim(0,1)\n",
    "        plt.draw()\n",
    "        plt.pause(.05)\n",
    "        plt.show()\n",
    "    \n",
    "        if sum(T) < one_percent :\n",
    "            return(t, 'seconds', counter, 'runs')\n",
    "    \n",
    "\n",
    "temperature(T)"
   ]
  },
  {
   "cell_type": "code",
   "execution_count": null,
   "metadata": {},
   "outputs": [],
   "source": []
  },
  {
   "cell_type": "code",
   "execution_count": null,
   "metadata": {},
   "outputs": [],
   "source": []
  }
 ],
 "metadata": {
  "kernelspec": {
   "display_name": "Python 3",
   "language": "python",
   "name": "python3"
  },
  "language_info": {
   "codemirror_mode": {
    "name": "ipython",
    "version": 3
   },
   "file_extension": ".py",
   "mimetype": "text/x-python",
   "name": "python",
   "nbconvert_exporter": "python",
   "pygments_lexer": "ipython3",
   "version": "3.6.5"
  }
 },
 "nbformat": 4,
 "nbformat_minor": 2
}
