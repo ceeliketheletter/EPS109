{
 "cells": [
  {
   "cell_type": "code",
   "execution_count": 3,
   "metadata": {},
   "outputs": [],
   "source": [
    "%matplotlib osx \n"
   ]
  },
  {
   "cell_type": "markdown",
   "metadata": {},
   "source": [
    "\n",
    "# Rotating a 3D plot\n",
    "\n",
    "\n",
    "A very simple animation of a rotating 3D plot.\n",
    "\n",
    "See wire3d_animation_demo for another simple example of animating a 3D plot.\n",
    "\n"
   ]
  },
  {
   "cell_type": "code",
   "execution_count": 27,
   "metadata": {},
   "outputs": [
    {
     "name": "stdout",
     "output_type": "stream",
     "text": [
      "359\n"
     ]
    }
   ],
   "source": [
    "from mpl_toolkits.mplot3d import axes3d\n",
    "import matplotlib.pyplot as plt\n",
    "\n",
    "fig = plt.figure()\n",
    "ax = fig.add_subplot(111, projection='3d')\n",
    "\n",
    "# load some test data for demonstration and plot a wireframe\n",
    "X, Y, Z = axes3d.get_test_data(0.1)\n",
    "s = ax.plot_wireframe(X, Y, Z)\n",
    "\n",
    "\n",
    "\n",
    "# rotate the axes and update\n",
    "for angle in range(0, 360):\n",
    "    \n",
    "    ax.autoscale_view(True,True,True) \n",
    "    plt.pause(.001)\n",
    "    ax.view_init(20, angle)\n",
    "    #fig.canvas.draw()\n",
    "    plt.pause(.001)\n",
    "\n",
    "    \n"
   ]
  },
  {
   "cell_type": "code",
   "execution_count": null,
   "metadata": {},
   "outputs": [],
   "source": []
  },
  {
   "cell_type": "code",
   "execution_count": null,
   "metadata": {},
   "outputs": [],
   "source": []
  }
 ],
 "metadata": {
  "kernelspec": {
   "display_name": "Python 3",
   "language": "python",
   "name": "python3"
  },
  "language_info": {
   "codemirror_mode": {
    "name": "ipython",
    "version": 3
   },
   "file_extension": ".py",
   "mimetype": "text/x-python",
   "name": "python",
   "nbconvert_exporter": "python",
   "pygments_lexer": "ipython3",
   "version": "3.6.5"
  }
 },
 "nbformat": 4,
 "nbformat_minor": 1
}
