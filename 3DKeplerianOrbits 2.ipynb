{
 "cells": [
  {
   "cell_type": "code",
   "execution_count": 199,
   "metadata": {},
   "outputs": [],
   "source": [
    "import numpy as np\n",
    "import matplotlib.pyplot as plt\n",
    "from mpl_toolkits.mplot3d import Axes3D\n",
    "from matplotlib import cm\n",
    "from matplotlib.ticker import LinearLocator, FormatStrFormatter\n",
    "#%matplotlib osx    \n",
    "import orbital\n",
    "import math"
   ]
  },
  {
   "cell_type": "code",
   "execution_count": 172,
   "metadata": {},
   "outputs": [],
   "source": [
    "def Newtons_Equation(t, X):\n",
    "    r = X[0:3]\n",
    "    v = X[3:6]\n",
    "\n",
    "    \n",
    "    F = -G * ms * mp /np.linalg.norm(r)**3 * r\n",
    "    a    = F / mp\n",
    "    \n",
    "    return np.concatenate((v, a))"
   ]
  },
  {
   "cell_type": "code",
   "execution_count": 225,
   "metadata": {},
   "outputs": [],
   "source": [
    "ms = 3e+6\n",
    "mp = 1\n",
    "M = ms * mp\n",
    "G  = 1e-6\n",
    "mu = G * M\n",
    "\n",
    "r_moon = 385000 #km # 385,000 / 6,371 (earth radius) = 60 times earth's radius\n",
    "v_moon = 1.022 #km/s #3679.2 #km/h \n",
    "\n",
    "# //// Fienga et al 2016 ///\n",
    "i_p9 = 30 #degrees\n",
    "Omega_p9 = 113 #degrees\n",
    "argp_p9 = 150 #degrees\n",
    "nu_p9 = 118 #degrees"
   ]
  },
  {
   "cell_type": "code",
   "execution_count": 226,
   "metadata": {},
   "outputs": [
    {
     "name": "stdout",
     "output_type": "stream",
     "text": [
      "r =  [1 1 1]\n",
      "v =  [0.  0.5 0. ]\n",
      "e =  0.9063326095639579 elliptical orbit\n",
      "E =  -1.6070508075688774\n",
      "a =  0.9333867933330482\n",
      "p =  0.9017631362163598\n",
      "i =  0.7853981633974484\n",
      "Omega =  358.4292036732051\n",
      "argp =  359.11982738222855\n",
      "initial nu =  3.0664486532367605\n"
     ]
    }
   ],
   "source": [
    "x = 1 \n",
    "y = 1\n",
    "z = 1\n",
    "vx = 0\n",
    "vy = 0.5\n",
    "vz = 0\n",
    "\n",
    "r = np.array([x,y,z])\n",
    "v = np.array([vx,vy,vz])\n",
    "\n",
    "print('r = ', r)\n",
    "print('v = ', v)\n",
    "\n",
    "#/// Calculate orbital elements /// \n",
    "#follows from the method laid out in Fundamentals of Astrodynamics and Applications, by Vallado, 2007\n",
    "\n",
    "h=np.cross(r,v)         # angular momentum\n",
    "K = np.array([0, 0, 1])\n",
    "nhat=np.cross(K,h)       #node vector\n",
    "\n",
    "#eccentricity vector\n",
    "evec = ((np.linalg.norm(v)**2 - mu/np.linalg.norm(r))*r - np.dot(r,v)*v)/ mu  \n",
    "e = np.linalg.norm(evec)\n",
    "\n",
    "if e == 0:\n",
    "    orbit = 'circular orbit'\n",
    "if e > 0 and e < 1:\n",
    "    orbit = 'elliptical orbit'\n",
    "if e == 1:\n",
    "    orbit ='parabolic orbit'\n",
    "if e > 1:\n",
    "    orbit = 'hyperbolic orbit'\n",
    "print('e = ', e, orbit)\n",
    "\n",
    "energy = np.linalg.norm(v)**2/2 - mu/np.linalg.norm(r) #Specific mechanical energy\n",
    "print('E = ', energy)\n",
    "\n",
    "if abs(e) != 1: \n",
    "   a = -mu/(2*energy)\n",
    "   #p = a*(1-e**2)\n",
    "else:\n",
    "   #p = np.linalg.norm(h)**2/mu\n",
    "   a = 'inf'\n",
    "    \n",
    "print('a = ', a)         #semi major axis\n",
    "\n",
    "p = np.sqrt(abs(a)**3)\n",
    "print('p = ', p)        #period\n",
    "\n",
    "i = np.arccos(h[2]/np.linalg.norm(h))  #inclination\n",
    "print('i = ', i)        \n",
    "\n",
    "Omega = np.arccos(nhat[0]/np.linalg.norm(nhat))  #swivel: the angle from the principal direction to the ascending node, 0° ≤ Ω < 360°\n",
    "if nhat[1] < 0:\n",
    "   Omega = 360-Omega\n",
    "print('Omega = ', Omega)\n",
    "\n",
    "argp = np.arccos(np.dot(nhat,evec)/(np.linalg.norm(nhat)*e)) # argument of perigee, ω: 0° ≤ ω < 360\n",
    "if evec[2]<0:\n",
    "   argp = 360-argp\n",
    "print('argp = ', argp)\n",
    "\n",
    "nu_0 = np.arccos(np.dot(evec,r)/(e*np.linalg.norm(r)))  # True anomaly, ν, is the angle along the orbital path from perigee to the spacecraft’s position vector r.  0 <= v < 360°\n",
    "if np.dot(r,v)<0:\n",
    "   nu = 360 - nu_0\n",
    "print('initial nu = ', nu_0)  # changes with time, location of the spacecraft in its orbit"
   ]
  },
  {
   "cell_type": "code",
   "execution_count": 233,
   "metadata": {},
   "outputs": [
    {
     "name": "stdout",
     "output_type": "stream",
     "text": [
      "[1. 1. 1.]\n"
     ]
    }
   ],
   "source": [
    "#Calculate r using orbital elements\n",
    "U, V, W = orbital.utilities.uvw_from_elements(math.radians(i_p9), raan=math.radians(Omega_p9), arg_pe=math.radians(argp_p9), f=nu_p9)\n",
    "x = np.linalg.norm(U)\n",
    "y = np.linalg.norm(V)\n",
    "z = np.linalg.norm(W)\n",
    "r = np.array([x,y,z])\n",
    "print(r)"
   ]
  },
  {
   "cell_type": "code",
   "execution_count": 228,
   "metadata": {},
   "outputs": [],
   "source": [
    "dt = .001\n",
    "time = np.arange(0,10.001, dt)\n",
    "tmax = 10"
   ]
  },
  {
   "cell_type": "code",
   "execution_count": 229,
   "metadata": {
    "scrolled": true
   },
   "outputs": [],
   "source": [
    "xt = []\n",
    "yt = []\n",
    "zt = []\n",
    "vx = []\n",
    "vy = []\n",
    "vz = []\n",
    "\n",
    "position = []\n",
    "\n",
    "tt = []\n",
    "\n",
    "t = 0\n",
    "\n",
    "\n",
    "X = np.concatenate((r,v))\n",
    "\n",
    "%matplotlib osx  \n",
    "\n",
    "\n",
    "while True:\n",
    "\n",
    "    r = X[0:3]\n",
    "    v = X[3:6]\n",
    "    \n",
    "    \n",
    "    xt.append(X[0])\n",
    "    yt.append(X[1])\n",
    "    zt.append(X[2])\n",
    "    \n",
    "    \n",
    "    #X = X + Newtons_Equation(X) * h    #EULERS METHOD\n",
    "    \n",
    "    f1 = Newtons_Equation(t       ,X          )    #RUNGE KUTTA METHOD\n",
    "    f2 = Newtons_Equation(t+dt/2.0,X+f1*dt/2.0)\n",
    "    f3 = Newtons_Equation(t+dt/2.0,X+f2*dt/2.0)\n",
    "    f4 = Newtons_Equation(t+dt    ,X+f3*dt    )\n",
    "\n",
    "    X = X + (f1 + 2.0*f2 + 2.0*f3 + f4) / 6.0 * dt\n",
    "    \n",
    "    nu = np.arccos(np.dot(evec,r)/(e*np.linalg.norm(r)))  # True anomaly, ν, is the angle along the orbital path from perigee to the spacecraft’s position vector r.  0 <= v < 360°\n",
    "    if np.dot(r,v)<0:\n",
    "        nu = 360 - nu\n",
    "    #print('nu = ', nu)\n",
    "    if nu *10000 //1 / 10000 == (nu_0-.001)*10000 //1 / 10000:\n",
    "        break\n",
    "    \n",
    "    tt.append(t)\n",
    "\n",
    "    if t >= tmax:\n",
    "        break\n",
    "    t += dt"
   ]
  },
  {
   "cell_type": "code",
   "execution_count": 166,
   "metadata": {},
   "outputs": [
    {
     "name": "stdout",
     "output_type": "stream",
     "text": [
      "7.000000000000672\n",
      "4.2743586448068533e-11\n",
      "4.2743586448068533e-08\n"
     ]
    }
   ],
   "source": [
    "print(t)\n",
    "print(p)\n",
    "print(p/dt)"
   ]
  },
  {
   "cell_type": "code",
   "execution_count": 155,
   "metadata": {},
   "outputs": [],
   "source": [
    "#time plot\n",
    "plt.plot(tt,yt, 'r-')\n",
    "plt.title('Height of Y over time')\n",
    "plt.show()"
   ]
  },
  {
   "cell_type": "code",
   "execution_count": 152,
   "metadata": {},
   "outputs": [],
   "source": [
    "#time plot\n",
    "plt.plot(tt,zt, 'r-')\n",
    "plt.title('Height of Z over time')\n",
    "plt.show()"
   ]
  },
  {
   "cell_type": "code",
   "execution_count": null,
   "metadata": {},
   "outputs": [],
   "source": [
    "\n"
   ]
  },
  {
   "cell_type": "code",
   "execution_count": 168,
   "metadata": {},
   "outputs": [],
   "source": [
    "#2D orbit plot\n",
    "plt.plot(xt, yt, 'r-')\n",
    "plt.xlabel('X axis')\n",
    "plt.ylabel('Y axis')\n",
    "plt.plot(0,0,'*',mfc='w',ms=10)\n",
    "plt.gca().set_aspect('equal', adjustable='box')  \n",
    "plt.show()"
   ]
  },
  {
   "cell_type": "code",
   "execution_count": 169,
   "metadata": {},
   "outputs": [],
   "source": [
    "#2D orbit plot\n",
    "plt.plot(xt, zt, 'r-')\n",
    "plt.xlabel('X axis')\n",
    "plt.ylabel('Z axis')\n",
    "plt.plot(0,0,'*',mfc='w',ms=10)\n",
    "plt.gca().set_aspect('equal', adjustable='box')  \n",
    "plt.show()"
   ]
  },
  {
   "cell_type": "code",
   "execution_count": 14,
   "metadata": {},
   "outputs": [],
   "source": [
    "#time plot\n",
    "plt.plot(tt,zt, 'r-')\n",
    "plt.title('Height of Z over time')\n",
    "plt.show()"
   ]
  },
  {
   "cell_type": "code",
   "execution_count": 230,
   "metadata": {},
   "outputs": [],
   "source": [
    "#3D orbit plot\n",
    "XT = np.array(xt)\n",
    "YT = np.array(yt)\n",
    "ZT = np.array(zt)\n",
    "\n",
    "\n",
    "plt.rcParams['legend.fontsize'] = 10\n",
    "\n",
    "fig = plt.figure(figsize=(5,5))\n",
    "ax = fig.gca(projection='3d')\n",
    "ax.set_aspect(\"equal\")\n",
    "\n",
    "\n",
    "ax.plot(XT, YT, ZT, label='Orbit', antialiased=False)     #orbit\n",
    "#ax.text(0, 0, 0, '*', zdir=None)\n",
    "\n",
    "\n",
    "u, v = np.mgrid[0:2*np.pi:100j, 0:np.pi:100j]   #sphere\n",
    "x = 0.1 * np.cos(u)*np.sin(v)\n",
    "y = 0.1 * np.sin(u)*np.sin(v)\n",
    "z = 0.1 * np.cos(v)\n",
    "ax.plot_surface(x, y, z, color=\"b\")\n",
    "\n",
    "\n",
    "ax.set_xlim(-1.5, 1.5)\n",
    "ax.set_ylim(-1.5, 1.5)\n",
    "ax.set_zlim(-1.5, 1.5)\n",
    "ax.set_xlabel('X axis')\n",
    "ax.set_ylabel('Y axis')\n",
    "ax.set_zlabel('Z axis')\n",
    "\n",
    "plt.draw()\n",
    "plt.pause(0.005)\n",
    "plt.show()\n"
   ]
  },
  {
   "cell_type": "code",
   "execution_count": null,
   "metadata": {},
   "outputs": [],
   "source": []
  }
 ],
 "metadata": {
  "kernelspec": {
   "display_name": "Python 3",
   "language": "python",
   "name": "python3"
  },
  "language_info": {
   "codemirror_mode": {
    "name": "ipython",
    "version": 3
   },
   "file_extension": ".py",
   "mimetype": "text/x-python",
   "name": "python",
   "nbconvert_exporter": "python",
   "pygments_lexer": "ipython3",
   "version": "3.6.5"
  }
 },
 "nbformat": 4,
 "nbformat_minor": 2
}
