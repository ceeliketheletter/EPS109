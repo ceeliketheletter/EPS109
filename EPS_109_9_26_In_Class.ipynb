{
 "cells": [
  {
   "cell_type": "markdown",
   "metadata": {},
   "source": [
    "Computer Lab Assignment 6"
   ]
  },
  {
   "cell_type": "markdown",
   "metadata": {},
   "source": [
    "## Mandelbrot Set"
   ]
  },
  {
   "cell_type": "markdown",
   "metadata": {},
   "source": [
    "(1) The Mandelbrot set emerges from the super simple iteration formula z(n+1) = z(n)^2 + C, where C is  a  constant  and  one  starts  from  z0=0.  Let  us  assume  all  numbers  are real  for the  moment. For what values of C does this series diverge? To find out, please write a simple loop the computes zn up to nmax=50. Print all zn. If  |zn| exceeds zlimit=50.0 for any n, let us assume the series diverges. For the following C values, determine whether the series diverges or not. (We tried this in class already.)"
   ]
  },
  {
   "cell_type": "code",
   "execution_count": 68,
   "metadata": {},
   "outputs": [],
   "source": [
    "import numpy as np\n",
    "import matplotlib.pyplot as plt"
   ]
  },
  {
   "cell_type": "code",
   "execution_count": 75,
   "metadata": {},
   "outputs": [
    {
     "name": "stdout",
     "output_type": "stream",
     "text": [
      "[1, 1, 0, 0, 0, 0, 1, 1, 1]\n"
     ]
    }
   ],
   "source": [
    "nmax = 50\n",
    "zlimit = 50.0\n",
    "\n",
    "c_values = [-4, -2.001, -2, -1.999, -1, 0, 0.5, 1, 2]\n",
    "series = []\n",
    "\n",
    "def man(c):\n",
    "\n",
    "    z = 0\n",
    "    \n",
    "    for i in range(0,nmax):\n",
    "        z = z**2 + c\n",
    "        if abs(z) >= zlimit:\n",
    "            return 1\n",
    "            \n",
    "        \n",
    "        \n",
    "for c in c_values:\n",
    "    \n",
    "     series.append(man(c))\n",
    "     if man(c) == None:\n",
    "        series.remove(None)\n",
    "        series.append(0)\n",
    "        \n",
    "print(series)\n",
    "\n",
    "\n",
    "        "
   ]
  },
  {
   "cell_type": "markdown",
   "metadata": {},
   "source": [
    "(2) Now we want to convey in the information in this tablein graphical form. Generate a fine grid of C values from –4 to +2 and program a function f(C) that assume 1 or 0 depending on whether the  series zndiverging  or  not.  The  generate  a  plot  f(C)  versus  C. (You  may  not  need  to  write  a function f(C) as long as the plot is correct.Also this will be a somewhat boring graph but it is just a precursor to what is to come.)"
   ]
  },
  {
   "cell_type": "code",
   "execution_count": null,
   "metadata": {},
   "outputs": [],
   "source": []
  },
  {
   "cell_type": "code",
   "execution_count": 76,
   "metadata": {},
   "outputs": [
    {
     "data": {
      "image/png": "[encoded data removed]",
      "text/plain": [
       "<Figure size 432x288 with 1 Axes>"
      ]
     },
     "metadata": {},
     "output_type": "display_data"
    }
   ],
   "source": [
    "plt.plot(c_values, series, 'ro-')\n",
    "plt.title('Plot of f(c) vs c')\n",
    "plt.show()"
   ]
  },
  {
   "cell_type": "markdown",
   "metadata": {},
   "source": [
    "3) Now make zand C complex variables and repeat step (1). Most likely you will only need to change a single line in your code where define C to C=complex(–0.4,+0.2). The complex abs(z) function is defined to return √re^2+im^2  and can be conveniently used to compare with zlimit."
   ]
  },
  {
   "cell_type": "code",
   "execution_count": 79,
   "metadata": {},
   "outputs": [
    {
     "name": "stdout",
     "output_type": "stream",
     "text": [
      "[(-0.4+0.2j), (0.4+0.6j), -1.7, (-1.7+0.001j), -1.778, (-1.778+0.001j), -1.25, (-1.25+0.04j), (-0.125-0.9j), (-0.125-0.85j)]\n",
      "[0, 1, 0, 1, 0, 0, 0, 0, 1, 0]\n"
     ]
    },
    {
     "name": "stderr",
     "output_type": "stream",
     "text": [
      "/Users/CEE/anaconda3/lib/python3.6/site-packages/numpy/core/numeric.py:492: ComplexWarning: Casting complex values to real discards the imaginary part\n",
      "  return array(a, dtype, copy=False, order=order)\n"
     ]
    },
    {
     "data": {
      "image/png": "[encoded data removed]",
      "text/plain": [
       "<Figure size 432x288 with 1 Axes>"
      ]
     },
     "metadata": {},
     "output_type": "display_data"
    }
   ],
   "source": [
    "c_values = [complex(-0.4,+0.2),complex(0.4, + 0.6), -1.7, complex(-1.7, + 0.001), -1.778, complex(-1.778, + 0.001), -1.25, complex(-1.25, + 0.04), complex(-0.125, -0.9),complex(-0.125, -0.85)]\n",
    "print(c_values)\n",
    "\n",
    "\n",
    "nmax = 50\n",
    "zlimit = 50.0\n",
    "\n",
    "series = []\n",
    "\n",
    "def man(c):\n",
    "    z = 0\n",
    "    \n",
    "    for i in range(0,nmax):\n",
    "        z = z**2 + c\n",
    "        if abs(z) >= zlimit:\n",
    "            return 1\n",
    "            \n",
    "        \n",
    "for c in c_values:\n",
    "    \n",
    "     series.append(man(c))\n",
    "     if man(c) == None:\n",
    "        series.remove(None)\n",
    "        series.append(0)\n",
    "        \n",
    "print(series)\n",
    "\n",
    "\n",
    "plt.plot(c_values, series, 'ro-')\n",
    "plt.title('Plot of f(c) vs c')\n",
    "plt.show()"
   ]
  },
  {
   "cell_type": "markdown",
   "metadata": {},
   "source": [
    "(4) Finally, we want to calculate the real Mandelbrot set where we change the real and imaginary parts of C=x+y×i using a fine grid of N points in x and y directions ranging from x=–2.0 to +0.5 and y=–1.25 and +1.25. You may start with N=201. For every point C, start the iteration over zn from z0=0. Define a N×N matrix if fill it with 1 if the series has diverged within the first nmax = 50 steps.  Otherwise  set  the  matrix  element  to  0.  Once  every  matrix  element  has  been  filled,  use imshow to display it."
   ]
  },
  {
   "cell_type": "code",
   "execution_count": 118,
   "metadata": {},
   "outputs": [
    {
     "name": "stdout",
     "output_type": "stream",
     "text": [
      "(201, 201)\n"
     ]
    }
   ],
   "source": [
    "N = 201\n",
    "matrix = np.zeros([N,N])\n",
    "print(np.shape(matrix))\n",
    "\n",
    "x_range = np.linspace(-2.0, +0.5, N)\n",
    "y_range = np.linspace(-1.25, +1.25, N)\n"
   ]
  },
  {
   "cell_type": "code",
   "execution_count": 121,
   "metadata": {},
   "outputs": [
    {
     "name": "stdout",
     "output_type": "stream",
     "text": [
      "len of c values:  40401\n",
      "N*N matrix dimensions: 40401\n"
     ]
    }
   ],
   "source": [
    "c_values = []\n",
    "for x in x_range:\n",
    "    for y in y_range:\n",
    "        \n",
    "        c = complex(x,y)\n",
    "        c_values.append(c)\n",
    "print(\"len of c values: \", len(c_values))\n",
    "print(\"N*N matrix dimensions:\", N*N)"
   ]
  },
  {
   "cell_type": "code",
   "execution_count": 122,
   "metadata": {},
   "outputs": [
    {
     "name": "stdout",
     "output_type": "stream",
     "text": [
      "40401\n"
     ]
    }
   ],
   "source": [
    "nmax = 50\n",
    "zlimit = 50.0\n",
    "\n",
    "series = []\n",
    "\n",
    "def man(c):\n",
    "    z = 0\n",
    "    \n",
    "    for i in range(0,nmax):\n",
    "        z = z**2 + c\n",
    "        if abs(z) >= zlimit:\n",
    "            return 1\n",
    "            \n",
    "        \n",
    "for c in c_values:\n",
    "    \n",
    "     series.append(man(c))\n",
    "     if man(c) == None:\n",
    "        series.remove(None)\n",
    "        series.append(0)\n",
    "        \n",
    "print(len(series))"
   ]
  },
  {
   "cell_type": "code",
   "execution_count": 129,
   "metadata": {},
   "outputs": [],
   "source": [
    "series = np.array(series)\n",
    "series.shape = (N,N)\n",
    "mandelbrot = series + matrix"
   ]
  },
  {
   "cell_type": "code",
   "execution_count": 130,
   "metadata": {},
   "outputs": [
    {
     "data": {
      "text/plain": [
       "<matplotlib.image.AxesImage at 0x10f185208>"
      ]
     },
     "execution_count": 130,
     "metadata": {},
     "output_type": "execute_result"
    },
    {
     "data": {
      "image/png": "[encoded data removed]",
      "text/plain": [
       "<Figure size 432x288 with 1 Axes>"
      ]
     },
     "metadata": {},
     "output_type": "display_data"
    }
   ],
   "source": [
    "plt.imshow(mandelbrot)"
   ]
  },
  {
   "cell_type": "markdown",
   "metadata": {},
   "source": [
    "(5) Now we want to make the colors a bit more appealing. In cases, where the series zn does not diverge, fill the matrix with nmax instead of 0. In cases where it diverges at some iteration n<nmax, fill the matrix with n. Does that look better?"
   ]
  },
  {
   "cell_type": "code",
   "execution_count": 138,
   "metadata": {},
   "outputs": [
    {
     "data": {
      "text/plain": [
       "<matplotlib.image.AxesImage at 0x117d7cc88>"
      ]
     },
     "execution_count": 138,
     "metadata": {},
     "output_type": "execute_result"
    },
    {
     "data": {
      "image/png": "[encoded data removed]",
      "text/plain": [
       "<Figure size 432x288 with 1 Axes>"
      ]
     },
     "metadata": {},
     "output_type": "display_data"
    }
   ],
   "source": [
    "series = []\n",
    "\n",
    "def man(c):\n",
    "    z = 0\n",
    "    \n",
    "    for n in range(0,nmax):\n",
    "        z = z**2 + c\n",
    "        if abs(z) >= zlimit:\n",
    "            return n\n",
    "            \n",
    "        \n",
    "for c in c_values:\n",
    "    \n",
    "     series.append(man(c))\n",
    "     if man(c) == None:\n",
    "        series.remove(None)\n",
    "        series.append(nmax)\n",
    "        \n",
    "series = np.array(series)\n",
    "series.shape = (N,N)\n",
    "mandelbrot = series + matrix\n",
    "\n",
    "plt.imshow(mandelbrot,extent=(-2,0.5,-1.25,1.25))"
   ]
  },
  {
   "cell_type": "markdown",
   "metadata": {},
   "source": [
    "(6) Zoom into the interval –0.8<x<–0.7 and 0.05<y<0.15 and run the code again. "
   ]
  },
  {
   "cell_type": "code",
   "execution_count": 144,
   "metadata": {},
   "outputs": [
    {
     "data": {
      "text/plain": [
       "<matplotlib.image.AxesImage at 0x117ebacf8>"
      ]
     },
     "execution_count": 144,
     "metadata": {},
     "output_type": "execute_result"
    },
    {
     "data": {
      "image/png": "[encoded data removed]",
      "text/plain": [
       "<Figure size 432x288 with 1 Axes>"
      ]
     },
     "metadata": {},
     "output_type": "display_data"
    }
   ],
   "source": [
    "nmax = 50\n",
    "zlimit = 50.0\n",
    "N = 201\n",
    "series = []\n",
    "\n",
    "matrix = np.zeros([N,N])\n",
    "\n",
    "x_range = np.linspace(-0.8, -0.7, N)\n",
    "y_range = np.linspace(0.05, 0.15, N)\n",
    "\n",
    "def man(c):\n",
    "    z = 0\n",
    "    \n",
    "    for n in range(0,nmax):\n",
    "        z = z**2 + c\n",
    "        if abs(z) >= zlimit:\n",
    "            return n\n",
    "        \n",
    "c_values = []\n",
    "for x in x_range:\n",
    "    for y in y_range:\n",
    "        \n",
    "        c = complex(x,y)\n",
    "        c_values.append(c)\n",
    "        \n",
    "for c in c_values:\n",
    "    \n",
    "     series.append(man(c))\n",
    "     if man(c) == None:\n",
    "        series.remove(None)\n",
    "        series.append(nmax)\n",
    "        \n",
    "series = np.array(series)\n",
    "series.shape = (N,N)\n",
    "mandelbrot = series + matrix\n",
    "\n",
    "plt.imshow(mandelbrot,extent=(-0.8, -0.7,0.05, 0.15))"
   ]
  },
  {
   "cell_type": "markdown",
   "metadata": {},
   "source": [
    "Now increase the number of iterations nmax first to 75 and later to 100. What change do you see in the resulting image?"
   ]
  },
  {
   "cell_type": "code",
   "execution_count": 145,
   "metadata": {},
   "outputs": [
    {
     "data": {
      "text/plain": [
       "<matplotlib.image.AxesImage at 0x10fad70b8>"
      ]
     },
     "execution_count": 145,
     "metadata": {},
     "output_type": "execute_result"
    },
    {
     "data": {
      "image/png": "[encoded data removed]",
      "text/plain": [
       "<Figure size 432x288 with 1 Axes>"
      ]
     },
     "metadata": {},
     "output_type": "display_data"
    }
   ],
   "source": [
    "nmax = 75\n",
    "zlimit = 50.0\n",
    "N = 201\n",
    "series = []\n",
    "\n",
    "matrix = np.zeros([N,N])\n",
    "\n",
    "x_range = np.linspace(-0.8, -0.7, N)\n",
    "y_range = np.linspace(0.05, 0.15, N)\n",
    "\n",
    "def man(c):\n",
    "    z = 0\n",
    "    \n",
    "    for n in range(0,nmax):\n",
    "        z = z**2 + c\n",
    "        if abs(z) >= zlimit:\n",
    "            return n\n",
    "        \n",
    "c_values = []\n",
    "for x in x_range:\n",
    "    for y in y_range:\n",
    "        \n",
    "        c = complex(x,y)\n",
    "        c_values.append(c)\n",
    "        \n",
    "for c in c_values:\n",
    "    \n",
    "     series.append(man(c))\n",
    "     if man(c) == None:\n",
    "        series.remove(None)\n",
    "        series.append(nmax)\n",
    "        \n",
    "series = np.array(series)\n",
    "series.shape = (N,N)\n",
    "mandelbrot = series + matrix\n",
    "\n",
    "plt.imshow(mandelbrot,extent=(-0.8, -0.7,0.05, 0.15))"
   ]
  },
  {
   "cell_type": "code",
   "execution_count": 146,
   "metadata": {},
   "outputs": [
    {
     "data": {
      "text/plain": [
       "<matplotlib.image.AxesImage at 0x10efa94e0>"
      ]
     },
     "execution_count": 146,
     "metadata": {},
     "output_type": "execute_result"
    },
    {
     "data": {
      "image/png": "[encoded data removed]",
      "text/plain": [
       "<Figure size 432x288 with 1 Axes>"
      ]
     },
     "metadata": {},
     "output_type": "display_data"
    }
   ],
   "source": [
    "nmax = 100\n",
    "zlimit = 50.0\n",
    "N = 201\n",
    "series = []\n",
    "\n",
    "matrix = np.zeros([N,N])\n",
    "\n",
    "x_range = np.linspace(-0.8, -0.7, N)\n",
    "y_range = np.linspace(0.05, 0.15, N)\n",
    "\n",
    "def man(c):\n",
    "    z = 0\n",
    "    \n",
    "    for n in range(0,nmax):\n",
    "        z = z**2 + c\n",
    "        if abs(z) >= zlimit:\n",
    "            return n\n",
    "        \n",
    "c_values = []\n",
    "for x in x_range:\n",
    "    for y in y_range:\n",
    "        \n",
    "        c = complex(x,y)\n",
    "        c_values.append(c)\n",
    "        \n",
    "for c in c_values:\n",
    "    \n",
    "     series.append(man(c))\n",
    "     if man(c) == None:\n",
    "        series.remove(None)\n",
    "        series.append(nmax)\n",
    "        \n",
    "series = np.array(series)\n",
    "series.shape = (N,N)\n",
    "mandelbrot = series + matrix\n",
    "\n",
    "plt.imshow(mandelbrot,extent=(-0.8, -0.7,0.05, 0.15))"
   ]
  },
  {
   "cell_type": "markdown",
   "metadata": {},
   "source": [
    "(7) Now zoom in further step by step until the size of the x and y intervals are only 0.001 or less. Adjust nmax as needed. Get lost in the neverworld of fractals. Save the image file and the parameters for the most beautiful image you obtained!"
   ]
  },
  {
   "cell_type": "code",
   "execution_count": 151,
   "metadata": {},
   "outputs": [
    {
     "data": {
      "text/plain": [
       "<matplotlib.image.AxesImage at 0x110278a20>"
      ]
     },
     "execution_count": 151,
     "metadata": {},
     "output_type": "execute_result"
    },
    {
     "data": {
      "image/png": "[encoded data removed]",
      "text/plain": [
       "<Figure size 432x288 with 1 Axes>"
      ]
     },
     "metadata": {},
     "output_type": "display_data"
    }
   ],
   "source": [
    "nmax = 100\n",
    "zlimit = 50.0\n",
    "N = 201\n",
    "series = []\n",
    "\n",
    "matrix = np.zeros([N,N])\n",
    "\n",
    "x_range = np.linspace(-0.069, -0.7, N)\n",
    "y_range = np.linspace(0.099, 0.1, N)\n",
    "\n",
    "def man(c):\n",
    "    z = 0\n",
    "    \n",
    "    for n in range(0,nmax):\n",
    "        z = z**2 + c\n",
    "        if abs(z) >= zlimit:\n",
    "            return n\n",
    "        \n",
    "c_values = []\n",
    "for x in x_range:\n",
    "    for y in y_range:\n",
    "        \n",
    "        c = complex(x,y)\n",
    "        c_values.append(c)\n",
    "        \n",
    "for c in c_values:\n",
    "    \n",
    "     series.append(man(c))\n",
    "     if man(c) == None:\n",
    "        series.remove(None)\n",
    "        series.append(nmax)\n",
    "        \n",
    "series = np.array(series)\n",
    "series.shape = (N,N)\n",
    "mandelbrot = series + matrix\n",
    "\n",
    "plt.imshow(mandelbrot,extent=(-0.069, -0.7,0.099, 0.1))"
   ]
  },
  {
   "cell_type": "code",
   "execution_count": null,
   "metadata": {},
   "outputs": [],
   "source": []
  }
 ],
 "metadata": {
  "kernelspec": {
   "display_name": "Python 3",
   "language": "python",
   "name": "python3"
  },
  "language_info": {
   "codemirror_mode": {
    "name": "ipython",
    "version": 3
   },
   "file_extension": ".py",
   "mimetype": "text/x-python",
   "name": "python",
   "nbconvert_exporter": "python",
   "pygments_lexer": "ipython3",
   "version": "3.6.5"
  }
 },
 "nbformat": 4,
 "nbformat_minor": 2
}
