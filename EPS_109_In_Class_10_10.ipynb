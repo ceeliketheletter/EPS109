{
 "cells": [
  {
   "cell_type": "markdown",
   "metadata": {},
   "source": [
    "## Computer Lab Assignment 8: Stationary State of the Heat Equation in 1D and 2D"
   ]
  },
  {
   "cell_type": "markdown",
   "metadata": {},
   "source": [
    "### Cee Gould"
   ]
  },
  {
   "cell_type": "markdown",
   "metadata": {},
   "source": [
    "### Stationary State of the 1D heat equation"
   ]
  },
  {
   "cell_type": "markdown",
   "metadata": {},
   "source": [
    "Discritize the interval x = [0,L] in N sections using N+1 equally spaced points in order to solve the 1D heat equation with boundary conditions T(x=0)=100 and T(x=L)=0 and the initial condition T(x>0)=0. Please note that Python only understands the notation T[i] but not T(x=0), T(x=L), and T(x>0)."
   ]
  },
  {
   "cell_type": "code",
   "execution_count": 151,
   "metadata": {},
   "outputs": [
    {
     "name": "stdout",
     "output_type": "stream",
     "text": [
      "[ 0.   0.6  1.2  1.8  2.4  3.   3.6  4.2  4.8  5.4  6.   6.6  7.2  7.8\n",
      "  8.4  9.   9.6 10.2 10.8 11.4 12.  12.6 13.2 13.8 14.4 15.  15.6 16.2\n",
      " 16.8 17.4 18.  18.6 19.2 19.8 20.4 21.  21.6 22.2 22.8 23.4 24.  24.6\n",
      " 25.2 25.8 26.4 27.  27.6 28.2 28.8 29.4 30. ]\n",
      "[100.   0.   0.   0.   0.   0.   0.   0.   0.   0.   0.   0.   0.   0.\n",
      "   0.   0.   0.   0.   0.   0.   0.   0.   0.   0.   0.   0.   0.   0.\n",
      "   0.   0.   0.   0.   0.   0.   0.   0.   0.   0.   0.   0.   0.   0.\n",
      "   0.   0.   0.   0.   0.   0.   0.   0.   0.]\n"
     ]
    }
   ],
   "source": [
    "import numpy as np\n",
    "import matplotlib.pyplot as plt\n",
    "%matplotlib osx\n",
    "\n",
    "L = 30\n",
    "n = 51\n",
    "x = np.linspace(0,L,n)\n",
    "T = np.zeros(n)\n",
    "\n",
    "print(x)\n",
    "\n",
    "for i in range(len(x)):\n",
    "    if i == 0:\n",
    "        T[i] = 100\n",
    "    if i == L:\n",
    "        T[i] = 0\n",
    "    elif i > 0:\n",
    "        T[i] = 0  \n",
    "    \n",
    "print(T)\n",
    "\n",
    "plt.plot(x,T,'ro-')\n",
    "plt.xlabel('x')\n",
    "plt.ylabel('T(x)')\n",
    "plt.show()"
   ]
  },
  {
   "cell_type": "markdown",
   "metadata": {},
   "source": [
    "Write the main, outer loop over different iterations to obtain the stationary state of the 1D heat equation. Please refer to lecture 12 on PDEs slide 25 and following if something is unclear. Inside the main loop introduce a inner loop to update every temperature in the interior of the interval [0,L]. The update formula in the Jacobi method is T(new)(i) = 1/2[T(i-1) + T(i+1)]"
   ]
  },
  {
   "cell_type": "code",
   "execution_count": 152,
   "metadata": {},
   "outputs": [],
   "source": [
    "Q = 100\n",
    "Tnew = np.copy(T)\n",
    "\n",
    "for j in range(Q):\n",
    "    for i in range(len(T)):\n",
    "       \n",
    "        if i == 0:\n",
    "            Tnew[i] = T[i]\n",
    "        if i > 0 and i < len(T)-1:\n",
    "            Tnew[i] = (T[i-1] + T[i+1]) * 0.5\n",
    "            \n",
    "        if i == len(T)-1:\n",
    "            Tnew[i] = T[i]\n",
    "        T[:] = Tnew[:]\n",
    "    \n",
    "    \n",
    "            \n",
    "    #print(T)\n",
    "    plt.clf()\n",
    "    plt.plot(x,T, 'ro-', mfc = 'w')\n",
    "    plt.xlabel('x')\n",
    "    plt.ylabel('T(x)')\n",
    "    plt.draw()\n",
    "    plt.pause(0.05)\n",
    "    plt.show()\n"
   ]
  },
  {
   "cell_type": "markdown",
   "metadata": {},
   "source": [
    "### Stationary State of the Heat Equation in 2D"
   ]
  },
  {
   "cell_type": "markdown",
   "metadata": {},
   "source": [
    "Imagine you are renting a room of size LxL that has three cold outside walls and one wall that is heated by your neighbor. The outside temperature is kept fixed at 0 degrees and the inside wall at 100 degrees. Divide the square into NxN segments. N=51 is a good resolution to start. Solving this problem numberically requires a 2D array T[i,j]. \n",
    "\n",
    "Convert the analytic form of the 2D heat equation given in the lecture slide above into the discretized form using Tij. Derive the 2D version of equation * given above.\n",
    "\n",
    "Tnew[i,j] = ... [... ... ... ... ]"
   ]
  },
  {
   "cell_type": "markdown",
   "metadata": {},
   "source": [
    "1.) Write code to set the boundary value of the 2D array T[i,j]"
   ]
  },
  {
   "cell_type": "code",
   "execution_count": 271,
   "metadata": {},
   "outputs": [
    {
     "data": {
      "text/plain": [
       "<matplotlib.image.AxesImage at 0x113581240>"
      ]
     },
     "execution_count": 271,
     "metadata": {},
     "output_type": "execute_result"
    }
   ],
   "source": [
    "\n",
    "Q = 100\n",
    "n = 51\n",
    "L = 30\n",
    "T = np.zeros((n,n))\n",
    "Tnew = np.copy(T)\n",
    "\n",
    "T[:,0] = 100\n",
    "\n",
    "#     print(np.shape(T))\n",
    "#     for i in range(len(T[0])):\n",
    "#         for j in range(T.shape[1]):\n",
    "\n",
    "\n",
    "#             if i == 0:           #top\n",
    "#                 T[i,j]= 0\n",
    "#             if i == L-1:           #bottom\n",
    "#                 T[i, j] = 0\n",
    "#             if j == 0:            #left\n",
    "#                 T[i, j] = 100 \n",
    "#             if j == L-1:         #right\n",
    "#                 T[i, j] = 0\n",
    "\n",
    "plt.imshow(T)\n"
   ]
  },
  {
   "cell_type": "code",
   "execution_count": 273,
   "metadata": {},
   "outputs": [
    {
     "ename": "KeyboardInterrupt",
     "evalue": "",
     "output_type": "error",
     "traceback": [
      "\u001b[0;31m---------------------------------------------------------------------------\u001b[0m",
      "\u001b[0;31mKeyboardInterrupt\u001b[0m                         Traceback (most recent call last)",
      "\u001b[0;32m<ipython-input-273-d6909cc777f4>\u001b[0m in \u001b[0;36m<module>\u001b[0;34m()\u001b[0m\n\u001b[1;32m     45\u001b[0m     \u001b[0max\u001b[0m\u001b[0;34m.\u001b[0m\u001b[0mplot_surface\u001b[0m\u001b[0;34m(\u001b[0m\u001b[0mx\u001b[0m\u001b[0;34m,\u001b[0m\u001b[0my\u001b[0m\u001b[0;34m,\u001b[0m\u001b[0mT\u001b[0m\u001b[0;34m,\u001b[0m \u001b[0mcmap\u001b[0m\u001b[0;34m=\u001b[0m\u001b[0mcm\u001b[0m\u001b[0;34m.\u001b[0m\u001b[0mcoolwarm\u001b[0m\u001b[0;34m,\u001b[0m\u001b[0mantialiased\u001b[0m\u001b[0;34m=\u001b[0m\u001b[0;32mFalse\u001b[0m\u001b[0;34m)\u001b[0m\u001b[0;34m\u001b[0m\u001b[0m\n\u001b[1;32m     46\u001b[0m     \u001b[0mplt\u001b[0m\u001b[0;34m.\u001b[0m\u001b[0mdraw\u001b[0m\u001b[0;34m(\u001b[0m\u001b[0;34m)\u001b[0m\u001b[0;34m\u001b[0m\u001b[0m\n\u001b[0;32m---> 47\u001b[0;31m     \u001b[0mplt\u001b[0m\u001b[0;34m.\u001b[0m\u001b[0mpause\u001b[0m\u001b[0;34m(\u001b[0m\u001b[0;36m0.5\u001b[0m\u001b[0;34m)\u001b[0m\u001b[0;34m\u001b[0m\u001b[0m\n\u001b[0m\u001b[1;32m     48\u001b[0m \u001b[0;34m\u001b[0m\u001b[0m\n\u001b[1;32m     49\u001b[0m \u001b[0;34m\u001b[0m\u001b[0m\n",
      "\u001b[0;32m~/anaconda3/lib/python3.6/site-packages/matplotlib/pyplot.py\u001b[0m in \u001b[0;36mpause\u001b[0;34m(interval)\u001b[0m\n\u001b[1;32m    294\u001b[0m             \u001b[0mcanvas\u001b[0m\u001b[0;34m.\u001b[0m\u001b[0mdraw_idle\u001b[0m\u001b[0;34m(\u001b[0m\u001b[0;34m)\u001b[0m\u001b[0;34m\u001b[0m\u001b[0m\n\u001b[1;32m    295\u001b[0m         \u001b[0mshow\u001b[0m\u001b[0;34m(\u001b[0m\u001b[0mblock\u001b[0m\u001b[0;34m=\u001b[0m\u001b[0;32mFalse\u001b[0m\u001b[0;34m)\u001b[0m\u001b[0;34m\u001b[0m\u001b[0m\n\u001b[0;32m--> 296\u001b[0;31m         \u001b[0mcanvas\u001b[0m\u001b[0;34m.\u001b[0m\u001b[0mstart_event_loop\u001b[0m\u001b[0;34m(\u001b[0m\u001b[0minterval\u001b[0m\u001b[0;34m)\u001b[0m\u001b[0;34m\u001b[0m\u001b[0m\n\u001b[0m\u001b[1;32m    297\u001b[0m     \u001b[0;32melse\u001b[0m\u001b[0;34m:\u001b[0m\u001b[0;34m\u001b[0m\u001b[0m\n\u001b[1;32m    298\u001b[0m         \u001b[0mtime\u001b[0m\u001b[0;34m.\u001b[0m\u001b[0msleep\u001b[0m\u001b[0;34m(\u001b[0m\u001b[0minterval\u001b[0m\u001b[0;34m)\u001b[0m\u001b[0;34m\u001b[0m\u001b[0m\n",
      "\u001b[0;31mKeyboardInterrupt\u001b[0m: "
     ]
    }
   ],
   "source": [
    "from mpl_toolkits.mplot3d import Axes3D\n",
    "from matplotlib import cm\n",
    "x = np.linspace(0,L,n)\n",
    "y = np.linspace(0,L,n)\n",
    "x,y = np.meshgrid(x,y)\n",
    "fig = plt.figure(dpi=100)\n",
    "\n",
    "\n",
    "Tnew = T\n",
    "for f in range(Q):\n",
    "    for i in range(1,n-1):\n",
    "        for j in range(1,n-1):\n",
    "        \n",
    "        \n",
    "        \n",
    "#             if i == 0:           #top\n",
    "#                 Tnew[i,j]= T[i,j]\n",
    "#             if i == L-1:           #bottom\n",
    "#                 Tnew[i, j] = T[i,j]\n",
    "#             if j == 0:            #left\n",
    "#                 Tnew[i, j] = T[i,j]   \n",
    "#             if j == L-1:         #right\n",
    "#                 Tnew[i, j] = T[i,j]\n",
    "            \n",
    "            \n",
    "#             if i > 0 and j >0 and i < L-1 and j < L-1:\n",
    "                \n",
    "            Tnew[i,j] = 0.25*(T[i,j-1] + T[i,j+1] + T[i-1,j] + T[i+1,j])\n",
    "     \n",
    "        #T[:,:] = Tnew[:,:]\n",
    "        \n",
    "    T = Tnew \n",
    "\n",
    "        \n",
    "    plt.clf()\n",
    "    plt.imshow(T)\n",
    "    plt.draw()\n",
    "    plt.pause(0.05)\n",
    "    plt.show()\n",
    "\n",
    "    \n",
    "    \n",
    "#     fig.clear()\n",
    "#     ax = fig.gca(projection = '3d')\n",
    "#     ax.plot_surface(x,y,T, cmap=cm.coolwarm,antialiased=False)\n",
    "#     plt.draw()\n",
    "#     plt.pause(0.5)\n",
    "    \n",
    " "
   ]
  },
  {
   "cell_type": "code",
   "execution_count": null,
   "metadata": {},
   "outputs": [],
   "source": []
  },
  {
   "cell_type": "code",
   "execution_count": null,
   "metadata": {},
   "outputs": [],
   "source": []
  }
 ],
 "metadata": {
  "kernelspec": {
   "display_name": "Python 3",
   "language": "python",
   "name": "python3"
  },
  "language_info": {
   "codemirror_mode": {
    "name": "ipython",
    "version": 3
   },
   "file_extension": ".py",
   "mimetype": "text/x-python",
   "name": "python",
   "nbconvert_exporter": "python",
   "pygments_lexer": "ipython3",
   "version": "3.6.5"
  }
 },
 "nbformat": 4,
 "nbformat_minor": 2
}
