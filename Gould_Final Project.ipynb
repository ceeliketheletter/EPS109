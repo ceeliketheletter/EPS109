{
 "cells": [
  {
   "cell_type": "code",
   "execution_count": 1,
   "metadata": {},
   "outputs": [],
   "source": [
    "import numpy as np\n",
    "import matplotlib.pyplot as plt"
   ]
  },
  {
   "cell_type": "code",
   "execution_count": 2,
   "metadata": {},
   "outputs": [],
   "source": [
    "def Newtons_Equation(X):\n",
    "    x = X[0][0]\n",
    "    y = X[0][1]\n",
    "    vx = X[0][2]\n",
    "    vy = X[0][3]\n",
    "    \n",
    "    dvx = (-G*ms*mp/(np.linalg.norm(r)**3))*x\n",
    "    dvy = (-G*ms*mp/(np.linalg.norm(r)**3))*y\n",
    "    dx  = vx\n",
    "    dy  = vy\n",
    "    return np.array([[dx,dy,dvx,dvy]]);"
   ]
  },
  {
   "cell_type": "code",
   "execution_count": 3,
   "metadata": {},
   "outputs": [
    {
     "name": "stdout",
     "output_type": "stream",
     "text": [
      "(1, 4)\n"
     ]
    },
    {
     "data": {
      "text/plain": [
       "array([[ 0.,  2., -3., -0.]])"
      ]
     },
     "execution_count": 3,
     "metadata": {},
     "output_type": "execute_result"
    }
   ],
   "source": [
    "ms = 3e+6\n",
    "mp = 1\n",
    "G  = 1e-6\n",
    "\n",
    "x = 1\n",
    "y = 0\n",
    "vx = 0\n",
    "vy = 2\n",
    "\n",
    "\n",
    "r = np.array([[x,y]]);\n",
    "v = np.array([[vx,vy]]);\n",
    "\n",
    "X_NEW = np.concatenate((r,v),axis=1);\n",
    "\n",
    "\n",
    "Newtons_Equation(X_NEW)"
   ]
  },
  {
   "cell_type": "code",
   "execution_count": 7,
   "metadata": {},
   "outputs": [
    {
     "data": {
      "image/png": "[encoded data removed]",
      "text/plain": [
       "<Figure size 432x288 with 1 Axes>"
      ]
     },
     "metadata": {},
     "output_type": "display_data"
    },
    {
     "data": {
      "image/png": "[encoded data removed]",
      "text/plain": [
       "<Figure size 432x288 with 1 Axes>"
      ]
     },
     "metadata": {},
     "output_type": "display_data"
    }
   ],
   "source": [
    "h = .001\n",
    "\n",
    "time = np.arange(0,10.001, h)\n",
    "\n",
    "xt = []\n",
    "yt = []\n",
    "vx = []\n",
    "vy = []\n",
    "t = 0\n",
    "X_OLD = X_NEW\n",
    "\n",
    "while(t < 10):\n",
    "    X_NEW = X_OLD + h*Newtons_Equation(X_OLD)\n",
    "    X_OLD = X_NEW\n",
    "    \n",
    "    xt.append(X_NEW[0][0])\n",
    "    yt.append(X_NEW[0][1])\n",
    "    vx.append(X_NEW[0][2])\n",
    "    vy.append(X_NEW[0][3])\n",
    "    \n",
    "    t = t + h\n",
    "plt.plot(time,xt, 'r-')\n",
    "plt.show()\n",
    "\n",
    "plt.plot(xt,yt, 'b-')\n",
    "plt.plot(0,0,'*',mfc='w',ms=10)\n",
    "plt.show()\n",
    "\n",
    "# plt.plot(yt,vy,'g-')"
   ]
  },
  {
   "cell_type": "code",
   "execution_count": 5,
   "metadata": {},
   "outputs": [
    {
     "ename": "NameError",
     "evalue": "name 'z' is not defined",
     "output_type": "error",
     "traceback": [
      "\u001b[0;31m---------------------------------------------------------------------------\u001b[0m",
      "\u001b[0;31mNameError\u001b[0m                                 Traceback (most recent call last)",
      "\u001b[0;32m<ipython-input-5-15ac1f571b21>\u001b[0m in \u001b[0;36m<module>\u001b[0;34m()\u001b[0m\n\u001b[1;32m      9\u001b[0m \u001b[0ma\u001b[0m \u001b[0;34m=\u001b[0m \u001b[0mEquitorialRadius\u001b[0m\u001b[0;34m\u001b[0m\u001b[0m\n\u001b[1;32m     10\u001b[0m \u001b[0;34m\u001b[0m\u001b[0m\n\u001b[0;32m---> 11\u001b[0;31m \u001b[0mr\u001b[0m \u001b[0;34m=\u001b[0m \u001b[0mnp\u001b[0m\u001b[0;34m.\u001b[0m\u001b[0marray\u001b[0m\u001b[0;34m(\u001b[0m\u001b[0;34m[\u001b[0m\u001b[0;34m[\u001b[0m\u001b[0mx\u001b[0m\u001b[0;34m,\u001b[0m\u001b[0my\u001b[0m\u001b[0;34m,\u001b[0m\u001b[0mz\u001b[0m\u001b[0;34m]\u001b[0m\u001b[0;34m]\u001b[0m\u001b[0;34m)\u001b[0m\u001b[0;34m;\u001b[0m\u001b[0;34m\u001b[0m\u001b[0m\n\u001b[0m\u001b[1;32m     12\u001b[0m \u001b[0mJ2n\u001b[0m \u001b[0;34m=\u001b[0m \u001b[0;36m2\u001b[0m\u001b[0;34m\u001b[0m\u001b[0m\n\u001b[1;32m     13\u001b[0m \u001b[0mmu\u001b[0m \u001b[0;34m=\u001b[0m \u001b[0mr\u001b[0m\u001b[0;34m[\u001b[0m\u001b[0;36m0\u001b[0m\u001b[0;34m]\u001b[0m\u001b[0;34m[\u001b[0m\u001b[0;36m2\u001b[0m\u001b[0;34m]\u001b[0m\u001b[0;34m/\u001b[0m\u001b[0mnp\u001b[0m\u001b[0;34m.\u001b[0m\u001b[0mlinalg\u001b[0m\u001b[0;34m.\u001b[0m\u001b[0mnorm\u001b[0m\u001b[0;34m(\u001b[0m\u001b[0mr\u001b[0m\u001b[0;34m)\u001b[0m\u001b[0;34m*\u001b[0m\u001b[0mx\u001b[0m\u001b[0;34m\u001b[0m\u001b[0m\n",
      "\u001b[0;31mNameError\u001b[0m: name 'z' is not defined"
     ]
    }
   ],
   "source": [
    "import numpy as np\n",
    "\n",
    "# definitions ------- #\n",
    "Mass = 1\n",
    "EquitorialRadius = 1\n",
    "\n",
    "\n",
    "M = Mass\n",
    "a = EquitorialRadius\n",
    "\n",
    "r = np.array([[x,y,z]]);\n",
    "J2n = 2\n",
    "mu = r[0][2]/np.linalg.norm(r)*x\n",
    "#mu = r[]\n",
    "\n",
    "def P2n(x):\n",
    "    return (1/2)*(3*x**2 - 1);\n"
   ]
  },
  {
   "cell_type": "markdown",
   "metadata": {},
   "source": [
    "### Note\n",
    "\n",
    "*$P_{n2} = \\frac{1}{2}(3x^{2} - 1)$\n",
    "<br \\>\n",
    "*$J_{n2} = 2$\n"
   ]
  },
  {
   "cell_type": "code",
   "execution_count": null,
   "metadata": {},
   "outputs": [],
   "source": [
    "a = 6375 #km\n",
    "G = 3*10**(-6) \n",
    "M = 5.972*10**(24) #kg ;\n",
    "\n",
    "\n",
    "def Gravity_Field(R):\n",
    "    x = R[0][0]\n",
    "    y = R[0][1]\n",
    "    z = R[0][2]\n",
    "    dvx = R[0][3]\n",
    "    dvy = R[0][4]\n",
    "    dvz = R[0][5]\n",
    "    \n",
    "    r = np.array([[x,y,z]])\n",
    "    dVx = -((G*M)/(np.linalg.norm(r)**2))*x + 3*((6*M*a**2)/(np.linalg.norm(r)**4))*x\n",
    "    dVy = -((G*M)/(np.linalg.norm(r)**2))*y + 3*((6*M*a**2)/(np.linalg.norm(r)**4))*y\n",
    "    dVz = -((G*M)/(np.linalg.norm(r)**2))*z - ((30*G*M*a**2*z**2)/np.linalg.norm(r)**6) + 3*((6*M*a**2)/(np.linalg.norm(r)**4))*z\n",
    "    fx = dvx\n",
    "    fy = dvy\n",
    "    fz = dvz\n",
    "    return np.array([[fx,fy,fz,dVx,dVy,dVz]]);\n"
   ]
  },
  {
   "cell_type": "code",
   "execution_count": null,
   "metadata": {},
   "outputs": [],
   "source": [
    "import matplotlib.pyplot as plt\n",
    "\n",
    "X_NEW = np.array([1,1,1,1,1,1  ])\n",
    "\n",
    "h = .001\n",
    "\n",
    "xt = []\n",
    "yt = []\n",
    "zt = []\n",
    "t = 0\n",
    "X_OLD = X_NEW\n",
    "while(t < 10):\n",
    "    X_NEW = X_OLD + h*Gravity_Field(X_OLD)\n",
    "    X_OLD = X_NEW\n",
    "    \n",
    "    xt.append(X_NEW[0][0])\n",
    "    yt.append(X_NEW[0][1])\n",
    "    zt.append(X_NEW[0][2])\n",
    "    \n",
    "    t = t + h\n",
    "plt.plot(np.arange(0,10.001,.001),yt, 'r-')\n",
    "plt.show()"
   ]
  },
  {
   "cell_type": "code",
   "execution_count": null,
   "metadata": {},
   "outputs": [],
   "source": []
  },
  {
   "cell_type": "code",
   "execution_count": null,
   "metadata": {},
   "outputs": [],
   "source": []
  },
  {
   "cell_type": "code",
   "execution_count": null,
   "metadata": {},
   "outputs": [],
   "source": []
  }
 ],
 "metadata": {
  "kernelspec": {
   "display_name": "Python 3",
   "language": "python",
   "name": "python3"
  },
  "language_info": {
   "codemirror_mode": {
    "name": "ipython",
    "version": 3
   },
   "file_extension": ".py",
   "mimetype": "text/x-python",
   "name": "python",
   "nbconvert_exporter": "python",
   "pygments_lexer": "ipython3",
   "version": "3.6.5"
  }
 },
 "nbformat": 4,
 "nbformat_minor": 2
}
