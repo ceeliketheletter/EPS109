{
 "cells": [
  {
   "cell_type": "code",
   "execution_count": 1,
   "metadata": {},
   "outputs": [],
   "source": [
    "import matplotlib.pyplot as plt\n",
    "import numpy as np"
   ]
  },
  {
   "cell_type": "code",
   "execution_count": 4,
   "metadata": {},
   "outputs": [],
   "source": [
    "filename = 'data_entry_sheet.txt'"
   ]
  },
  {
   "cell_type": "code",
   "execution_count": 5,
   "metadata": {},
   "outputs": [
    {
     "name": "stdout",
     "output_type": "stream",
     "text": [
      "[0.75 0.4  0.9  0.3  0.1  0.25 0.75 0.95 0.15 0.25 0.6  0.4  0.25 0.48\n",
      " 0.1  0.25 0.2  0.9  0.6  0.8  0.8  0.75 0.9  0.75 0.1  0.5  0.98 0.25\n",
      " 0.4  0.45 0.2  0.8  0.75 0.25 0.1  0.5  0.55 0.1  0.45 0.5  0.75 0.6\n",
      " 0.58 0.8  0.3  0.45 0.8  0.85 0.8  0.65 0.45 0.1  0.8  0.1  0.9  0.5\n",
      " 0.75 0.5  0.75 0.1  0.3  0.15 0.3  0.25 0.15 0.2  0.95 0.25 0.35 0.38\n",
      " 0.25 0.05 0.5  0.8  0.55 0.4  0.45 0.9  0.1  0.55 0.53 0.8  0.6  0.25\n",
      " 0.5  0.1  0.95 0.9  0.25 0.6  0.75 0.85 0.8  0.6  0.15 0.75 0.15 0.1\n",
      " 0.95 0.4 ]\n"
     ]
    }
   ],
   "source": [
    "data = np.loadtxt(filename)\n",
    "print(data)"
   ]
  },
  {
   "cell_type": "code",
   "execution_count": 6,
   "metadata": {},
   "outputs": [
    {
     "data": {
      "text/plain": [
       "100"
      ]
     },
     "execution_count": 6,
     "metadata": {},
     "output_type": "execute_result"
    }
   ],
   "source": [
    "len(data)"
   ]
  },
  {
   "cell_type": "code",
   "execution_count": null,
   "metadata": {},
   "outputs": [],
   "source": []
  }
 ],
 "metadata": {
  "kernelspec": {
   "display_name": "Python 3",
   "language": "python",
   "name": "python3"
  },
  "language_info": {
   "codemirror_mode": {
    "name": "ipython",
    "version": 3
   },
   "file_extension": ".py",
   "mimetype": "text/x-python",
   "name": "python",
   "nbconvert_exporter": "python",
   "pygments_lexer": "ipython3",
   "version": "3.6.5"
  }
 },
 "nbformat": 4,
 "nbformat_minor": 2
}
