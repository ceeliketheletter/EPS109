{
 "cells": [
  {
   "cell_type": "markdown",
   "metadata": {},
   "source": [
    "## Lab 12: Radioactive Decay, Keplerian Orbits, and Runge-Kutta Method"
   ]
  },
  {
   "cell_type": "markdown",
   "metadata": {},
   "source": [
    "1.) Calculate how fast the unstable isotope carbon-14 decays: dc/dt = -kc(t). Use t = 0 and c = 1 as initial conditions and a decay constant of k = 0.00012097/year. Write your own 10 lines of python code to solve this equation using the discretized form: c(t+ delta(t)) = c(t)[1-k(deltat)]. Use a step size of 10 years. At the end, make a plot that compares your numerical solution to the analytical solution, c(t) = c(0)e^-kt. What is the half life of carbon 14? (time it takes for half to decay)"
   ]
  },
  {
   "cell_type": "code",
   "execution_count": 14,
   "metadata": {},
   "outputs": [],
   "source": [
    "import numpy as np\n",
    "import matplotlib.pyplot as plt"
   ]
  },
  {
   "cell_type": "code",
   "execution_count": 112,
   "metadata": {},
   "outputs": [],
   "source": [
    "#the numerical solution, dc/dt = -kc(t)\n",
    "t = 0\n",
    "c = 1\n",
    "k = 0.00012097 #per year\n",
    "stepsize = 10 #years\n",
    "halflife = 1/2\n",
    "\n",
    "c_numerical = []\n",
    "time_numerical = []\n",
    "\n",
    "while True:\n",
    "    c_new = c*(1-(k*stepsize))\n",
    "    c = c_new\n",
    "    t += stepsize\n",
    "    c_numerical.append(c)\n",
    "    time_numerical.append(t)\n",
    "    \n",
    "    if c <= 0.001:\n",
    "        break"
   ]
  },
  {
   "cell_type": "code",
   "execution_count": 113,
   "metadata": {},
   "outputs": [
    {
     "name": "stdout",
     "output_type": "stream",
     "text": [
      "numerical halflife =  0.4997847890588312 , 5730 years\n"
     ]
    }
   ],
   "source": [
    "t = 0\n",
    "c = 1\n",
    "k = 0.00012097 #per year\n",
    "stepsize = 10 #years\n",
    "halflife = 1/2\n",
    "\n",
    "while True:\n",
    "    c_new = c*(1-(k*stepsize))\n",
    "    c = c_new\n",
    "    t += stepsize\n",
    "    \n",
    "    if c <= halflife:\n",
    "        numerical_solution = t\n",
    "        print('numerical halflife = ',c, ',', numerical_solution, 'years')\n",
    "        break\n"
   ]
  },
  {
   "cell_type": "code",
   "execution_count": 114,
   "metadata": {},
   "outputs": [],
   "source": [
    "#the analytical solution, c(t) = c(0)e^-kt\n",
    "t = 0\n",
    "c0 = 1\n",
    "k = 0.00012097 #per year\n",
    "stepsize = 10 #years\n",
    "halflife = 1/2\n",
    "\n",
    "c_analytical = []\n",
    "time_analytical = []\n",
    "\n",
    "while True:\n",
    "    c_new = c0*np.e**(-k*t)\n",
    "    c = c_new\n",
    "    t += stepsize\n",
    "    c_analytical.append(c)\n",
    "    time_analytical.append(t)\n",
    "    \n",
    "    if c <= 0.001:\n",
    "        break\n"
   ]
  },
  {
   "cell_type": "code",
   "execution_count": 115,
   "metadata": {},
   "outputs": [
    {
     "name": "stdout",
     "output_type": "stream",
     "text": [
      "analytical halflife =  0.49999454030978113 , 5740 years\n"
     ]
    }
   ],
   "source": [
    "t = 0\n",
    "c0 = 1\n",
    "k = 0.00012097 #per year\n",
    "stepsize = 10 #years\n",
    "halflife = 1/2\n",
    "\n",
    "\n",
    "while True:\n",
    "    c_new = c0*np.e**(-k*t)\n",
    "    c = c_new\n",
    "    t += stepsize\n",
    "\n",
    "    if c <= halflife:\n",
    "        analytical_solution = t\n",
    "        print('analytical halflife = ',c, ',', analytical_solution, 'years')\n",
    "        break"
   ]
  },
  {
   "cell_type": "code",
   "execution_count": 118,
   "metadata": {},
   "outputs": [
    {
     "data": {
      "image/png": "[encoded data removed]",
      "text/plain": [
       "<Figure size 432x288 with 1 Axes>"
      ]
     },
     "metadata": {},
     "output_type": "display_data"
    }
   ],
   "source": [
    "plt.plot(time_numerical, c_numerical, label = 'numerical')\n",
    "plt.plot(time_analytical, c_analytical, label = 'analytical')\n",
    "plt.title('Radioactive decay of Carbon 14')\n",
    "plt.xlabel('Time')\n",
    "plt.legend()\n",
    "plt.show()"
   ]
  },
  {
   "cell_type": "code",
   "execution_count": 123,
   "metadata": {},
   "outputs": [
    {
     "name": "stdout",
     "output_type": "stream",
     "text": [
      "half life of carbon 14 is about  5735.0 years\n"
     ]
    }
   ],
   "source": [
    "print('half life of carbon 14 is about ', (analytical_solution+numerical_solution)/2, 'years')"
   ]
  },
  {
   "cell_type": "markdown",
   "metadata": {},
   "source": [
    "2.) Now we want to use the same method to solve Newton's equation for a planet orbiting the sun. Assume that the sun has mass m = 10^6 and remains stationary for simplicity. Instead of a single variable c(t), we now have four variables that change with time, r = (x,y), v = (vx,vy)"
   ]
  },
  {
   "cell_type": "markdown",
   "metadata": {},
   "source": [
    "dvx/dt = -Gm/r^3 x"
   ]
  },
  {
   "cell_type": "markdown",
   "metadata": {},
   "source": [
    "dvy/dt = -Gm/r^3 y"
   ]
  },
  {
   "cell_type": "markdown",
   "metadata": {},
   "source": [
    "dx/dt = vx"
   ]
  },
  {
   "cell_type": "markdown",
   "metadata": {},
   "source": [
    "dy/dt = vy"
   ]
  },
  {
   "cell_type": "markdown",
   "metadata": {},
   "source": [
    "For simplicity set G = 3x10^-6, delta(t) = 10^-3 and integrate for 10 time units. As initial conditions, we recommend x = 1, y = 0, vx = 0, vy = 2"
   ]
  },
  {
   "cell_type": "code",
   "execution_count": 265,
   "metadata": {},
   "outputs": [
    {
     "name": "stdout",
     "output_type": "stream",
     "text": [
      "r =  1 , v =  4\n",
      "0.0 0.002\n",
      "-0.0 -0.75\n",
      "0.0 5.333333333333334e-06\n",
      "-0.0 -105468.74999999999\n",
      "0.0 2.696954732510289e-16\n",
      "-0.0 -4.124525003135201e+25\n",
      "0.0 1.7634915108238516e-57\n",
      "-0.0 -9.64660526975832e+107\n",
      "0.0 0.0\n",
      "nan nan\n"
     ]
    },
    {
     "name": "stderr",
     "output_type": "stream",
     "text": [
      "/Users/CEE/anaconda3/lib/python3.6/site-packages/ipykernel_launcher.py:27: RuntimeWarning: overflow encountered in double_scalars\n",
      "/Users/CEE/anaconda3/lib/python3.6/site-packages/ipykernel_launcher.py:28: RuntimeWarning: overflow encountered in double_scalars\n",
      "/Users/CEE/anaconda3/lib/python3.6/site-packages/ipykernel_launcher.py:27: RuntimeWarning: divide by zero encountered in double_scalars\n",
      "/Users/CEE/anaconda3/lib/python3.6/site-packages/ipykernel_launcher.py:27: RuntimeWarning: invalid value encountered in double_scalars\n",
      "/Users/CEE/anaconda3/lib/python3.6/site-packages/ipykernel_launcher.py:28: RuntimeWarning: divide by zero encountered in double_scalars\n",
      "/Users/CEE/anaconda3/lib/python3.6/site-packages/ipykernel_launcher.py:28: RuntimeWarning: invalid value encountered in double_scalars\n"
     ]
    }
   ],
   "source": [
    "m = 10**6\n",
    "G = 3*10**-6\n",
    "delta_t = 10**-3\n",
    "time = 10 #timeunits\n",
    "\n",
    "xt = []\n",
    "yt = []\n",
    "\n",
    "x = 1\n",
    "y = 0\n",
    "vx = 0\n",
    "vy = 2\n",
    "t= 0\n",
    "\n",
    "r = x**2 + y**2\n",
    "v = vx**2 + vy**2\n",
    "print('r = ', r, ',', 'v = ', v)\n",
    "\n",
    "#dc/dt = -kc(t) --> c(t+ delta(t)) = c(t)[1-k(deltat)] --> c_new = c*(1-(k*stepsize))\n",
    "for i in range(10):\n",
    "    \n",
    "    x += vx *delta_t\n",
    "    y += vy *delta_t\n",
    "    \n",
    "    r = np.sqrt(x**2 + y**2)\n",
    "    \n",
    "    vx = x * (-G*m/(r**3)) * delta_t\n",
    "    vy = y * (-G*m/(r**3)) * delta_t\n",
    "    \n",
    "    x = x + vx *d\n",
    "    \n",
    "    xt.append(x)\n",
    "    yt.append(y)\n",
    "    \n",
    "    print(x, y)\n",
    "    \n",
    "    \n",
    "    t += delta_t\n",
    "    "
   ]
  },
  {
   "cell_type": "markdown",
   "metadata": {},
   "source": [
    "Make a x-y plot with the following commands:"
   ]
  },
  {
   "cell_type": "code",
   "execution_count": 262,
   "metadata": {},
   "outputs": [
    {
     "data": {
      "image/png": "[encoded data removed]",
      "text/plain": [
       "<Figure size 432x288 with 1 Axes>"
      ]
     },
     "metadata": {},
     "output_type": "display_data"
    }
   ],
   "source": [
    "plt.plot(xt, yt,'r-')\n",
    "plt.plot(0,0,'*',mfc='w',ms=10)\n",
    "plt.gca().set_aspect('equal', adjustable='box')\n",
    "plt.show()"
   ]
  },
  {
   "cell_type": "code",
   "execution_count": null,
   "metadata": {},
   "outputs": [],
   "source": []
  }
 ],
 "metadata": {
  "kernelspec": {
   "display_name": "Python 3",
   "language": "python",
   "name": "python3"
  },
  "language_info": {
   "codemirror_mode": {
    "name": "ipython",
    "version": 3
   },
   "file_extension": ".py",
   "mimetype": "text/x-python",
   "name": "python",
   "nbconvert_exporter": "python",
   "pygments_lexer": "ipython3",
   "version": "3.6.5"
  }
 },
 "nbformat": 4,
 "nbformat_minor": 2
}
