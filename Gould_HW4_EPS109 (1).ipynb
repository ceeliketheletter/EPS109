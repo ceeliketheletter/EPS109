{
 "cells": [
  {
   "cell_type": "markdown",
   "metadata": {},
   "source": [
    "# Homework 4"
   ]
  },
  {
   "cell_type": "markdown",
   "metadata": {},
   "source": [
    "## Cee Gould"
   ]
  },
  {
   "cell_type": "markdown",
   "metadata": {},
   "source": [
    "# Part I – Filling a Vector"
   ]
  },
  {
   "cell_type": "markdown",
   "metadata": {},
   "source": [
    "### Write a short Python code that fills a Numpy vector x with nSteps elements starting with xMin and ending with xMax. Use a for loop instead of predefined functions. Add your code to these lines"
   ]
  },
  {
   "cell_type": "code",
   "execution_count": 4,
   "metadata": {},
   "outputs": [],
   "source": [
    "import numpy as np\n",
    "import matplotlib.pyplot as plt"
   ]
  },
  {
   "cell_type": "code",
   "execution_count": 5,
   "metadata": {},
   "outputs": [],
   "source": [
    "xMin = 1.2345\n",
    "xMax = 2.3445\n",
    "nSteps = 17"
   ]
  },
  {
   "cell_type": "code",
   "execution_count": 7,
   "metadata": {},
   "outputs": [
    {
     "name": "stdout",
     "output_type": "stream",
     "text": [
      "[1.2345   1.303875 1.37325  1.442625 1.512    1.581375 1.65075  1.720125\n",
      " 1.7895   1.858875 1.92825  1.997625 2.067    2.136375 2.20575  2.275125\n",
      " 2.3445  ]\n"
     ]
    }
   ],
   "source": [
    "x = np.linspace(xMin,xMax,nSteps) #make a code that does this\n",
    "print(x)"
   ]
  },
  {
   "cell_type": "code",
   "execution_count": 26,
   "metadata": {},
   "outputs": [
    {
     "name": "stdout",
     "output_type": "stream",
     "text": [
      "[1.2345, 1.303875, 1.3732499999999999, 1.442625, 1.512, 1.581375, 1.65075, 1.720125, 1.7894999999999999, 1.8588749999999998, 1.92825, 1.997625, 2.067, 2.136375, 2.20575, 2.275125, 2.3445]\n"
     ]
    }
   ],
   "source": [
    "x = []\n",
    "for i in range(0, nSteps):\n",
    "    step = xMin + (xMax - xMin)/(nSteps-1) * i\n",
    "    x.append(step)\n",
    "print(x)"
   ]
  },
  {
   "cell_type": "markdown",
   "metadata": {},
   "source": [
    "# Part II – Ocean Volume after Impact"
   ]
  },
  {
   "cell_type": "markdown",
   "metadata": {},
   "source": [
    "### (1) Let us assume a giant meteorite hit the Earth and a lot of water is lost to space. Long after impact, the oceans settle to a level that is 1700 meters lower than before. Please compute the new volume of the oceans and determine by how many percent it decreased. (100% refers to the original ocean volume.)"
   ]
  },
  {
   "cell_type": "code",
   "execution_count": 141,
   "metadata": {},
   "outputs": [
    {
     "name": "stdout",
     "output_type": "stream",
     "text": [
      "360 180\n",
      "1.000012692505221\n",
      "Land area: 5.10071e+14\n",
      "Ocean area:, 3.61858e+14\n",
      "ratio: 0.7094268678858254\n",
      "Ocean volume:  1.33673e+18\n"
     ]
    }
   ],
   "source": [
    "#code from lab\n",
    "H = np.loadtxt('topography_180x360_grid.txt')\n",
    "nx = H.shape[1]\n",
    "ny = H.shape[0]\n",
    "print(nx, ny)\n",
    "\n",
    "R = 6371000.0\n",
    "earth_area = 4.0 * np.pi * R **2\n",
    "land_area = 0\n",
    "ocean_volume = 0\n",
    "ocean_area = 0\n",
    "for ix in range(0,nx):\n",
    "    long = ix/nx * 360\n",
    "    for iy in range(0,ny):\n",
    "        topography = H[iy,ix]\n",
    "        lat = 90 - iy/ny*180 - 0.5        \n",
    "        lx = 2.0*np.pi*R / nx      #length in x\n",
    "        ly = np.pi * R / ny        #length in y\n",
    "        tile = lx * ly * np.cos(lat / 180*np.pi)   #tile is the area of each segment\n",
    "        land_area += tile\n",
    "        if topography < 0:  #below zero/ less than sea level\n",
    "            ocean_depth = topography\n",
    "            ocean_area += tile\n",
    "            ocean_volume += tile * abs(ocean_depth)  #compute the volume of the oceans by adding height times area for all patches where there is water\n",
    "                 \n",
    "\n",
    "print(land_area/earth_area) #value of 1.0 means that land_area is a good approximation for Earth area\n",
    "print('Land area:', '%g' %land_area) \n",
    "print('Ocean area:,', '%g' %ocean_area)\n",
    "print('ratio:', ocean_area/land_area)   #70.9%\n",
    "print('Ocean volume: ', '%g' %abs(ocean_volume)) #1.3e18"
   ]
  },
  {
   "cell_type": "code",
   "execution_count": 142,
   "metadata": {},
   "outputs": [
    {
     "name": "stdout",
     "output_type": "stream",
     "text": [
      "New volume of oceans: 1.30958e+18\n",
      "Original ocean volume: 1.33673e+18\n",
      "Percent of decrease:  0.02030630604052105\n"
     ]
    }
   ],
   "source": [
    "reduced_ocean_volume = 0\n",
    "\n",
    "for ix in range(0,nx):\n",
    "    long = ix/nx * 360\n",
    "    for iy in range(0,ny):\n",
    "        topography = H[iy,ix]\n",
    "        lat = 90 - iy/ny*180 - 0.5        \n",
    "        lx = 2.0*np.pi*R / nx      #length in x\n",
    "        ly = np.pi * R / ny        #length in y\n",
    "        tile = lx * ly * np.cos(lat / 180*np.pi)   #tile is the area of each segment\n",
    "        if topography < -1700:            #below -1700/ less than new sea level\n",
    "            ocean_depth = topography\n",
    "            reduced_ocean_volume += tile * abs(ocean_depth)  #add height times area for all patches where there is water\n",
    "    \n",
    "print('New volume of oceans:', '%g' %reduced_ocean_volume)\n",
    "print('Original ocean volume:', '%g' %ocean_volume)\n",
    "print('Percent of decrease: ', (ocean_volume - reduced_ocean_volume)/ocean_volume)"
   ]
  },
  {
   "cell_type": "markdown",
   "metadata": {},
   "source": [
    "# RMS comment\n",
    "% decrease in volume should be about 41%"
   ]
  },
  {
   "cell_type": "markdown",
   "metadata": {},
   "source": [
    "### (2) Imagine the water level would magically increase by 600 meters compared to today’s level. Determine how many percent of the new world’s surface would be covered with oceans. (100% refers to entire Earth surface.)"
   ]
  },
  {
   "cell_type": "code",
   "execution_count": 201,
   "metadata": {},
   "outputs": [
    {
     "name": "stdout",
     "output_type": "stream",
     "text": [
      "Land area: 5.10071e+14\n",
      "Original Ocean area:, 3.61858e+14\n",
      "New Ocean area: 4.51681e+14\n",
      "Percent of new world surface covered in ocean: 0.885526805123359\n",
      "Percent increase: 0.2482284576595355\n"
     ]
    }
   ],
   "source": [
    "increased_ocean_area = 0\n",
    "\n",
    "for ix in range(0,nx):\n",
    "    long = ix/nx * 360\n",
    "    for iy in range(0,ny):\n",
    "        topography = H[iy,ix]\n",
    "        lat = 90 - iy/ny*180 - 0.5        \n",
    "        lx = 2.0*np.pi*R / nx      #length in x\n",
    "        ly = np.pi * R / ny        #length in y\n",
    "        tile = lx * ly * np.cos(lat / 180*np.pi)   #tile is the area of each segment\n",
    "        \n",
    "        if topography < 600:            \n",
    "            increased_ocean_area += tile\n",
    "            \n",
    "print('Land area:', '%g' %land_area)\n",
    "print('Original Ocean area:,', '%g' %ocean_area)\n",
    "print('New Ocean area:', '%g' %increased_ocean_area)\n",
    "print('Percent of new world surface covered in ocean:', increased_ocean_area/land_area)\n",
    "print('Percent increase:', (increased_ocean_area- ocean_area)/ocean_area)\n"
   ]
  },
  {
   "cell_type": "markdown",
   "metadata": {},
   "source": [
    "### (3) Finally determine the change in sea level that would cause a 15% increase in ocean volume. (100% refers to the original ocean volume that you calculated in the lab.) You may want to run your code multiple times for different sea levels. A precision for the sea level change of ±2 meters is sufficient."
   ]
  },
  {
   "cell_type": "markdown",
   "metadata": {},
   "source": [
    "        "
   ]
  },
  {
   "cell_type": "code",
   "execution_count": 204,
   "metadata": {},
   "outputs": [
    {
     "name": "stdout",
     "output_type": "stream",
     "text": [
      "Winning ocean volume:  1.537696236248782e+18\n",
      "Goal ocean volume : 1.537237526095859e+18\n",
      "Ratio:  1.0002983990080492\n",
      "Original Ocean volume: 1.3367282835616166e+18\n",
      "Percent increase: 0.15034315885925653\n",
      "Change in sea level: 394 meters\n"
     ]
    }
   ],
   "source": [
    "percent_increase = 1.15  \n",
    "increased_ocean_volume = ocean_volume * percent_increase\n",
    "change_in_volume = increased_ocean_volume - ocean_volume \n",
    "\n",
    "areas = []\n",
    "\n",
    "\n",
    "for ix in range(0,nx):\n",
    "    long = ix/nx * 360\n",
    "    for iy in range(0,ny):\n",
    "        #topography = H[iy,ix]\n",
    "        lat = 90 - iy/ny*180 - 0.5        \n",
    "        lx = 2.0*np.pi*R / nx      #length in x\n",
    "        ly = np.pi * R / ny        #length in y\n",
    "        tile = lx * ly * np.cos(lat / 180*np.pi)   #tile is the area of each segment\n",
    "        areas.append(tile)\n",
    "\n",
    "for height in range(0,np.int(np.max(H))):\n",
    "    #print('height: ', height)\n",
    "    test_ocean_volume = ocean_volume\n",
    "    for tile in areas:\n",
    "        test_ocean_volume += tile * abs(height)\n",
    "    #print('test ocean volume: ', test_ocean_volume)\n",
    "    \n",
    "    if increased_ocean_volume - test_ocean_volume < 2:\n",
    "        winning_volume = test_ocean_volume\n",
    "        sealevel = height\n",
    "        #print('and the winner is: ', height, winning_volume)\n",
    "        break\n",
    "\n",
    "         \n",
    "\n",
    "print('Winning ocean volume: ', winning_volume)\n",
    "print('Goal ocean volume :', increased_ocean_volume)\n",
    "print('Ratio: ', winning_volume/increased_ocean_volume)\n",
    "\n",
    "print('Original Ocean volume:', ocean_volume)\n",
    "print('Percent increase:', (winning_volume-ocean_volume)/ocean_volume)\n",
    "print('Change in sea level:', sealevel, 'meters')"
   ]
  },
  {
   "cell_type": "markdown",
   "metadata": {},
   "source": [
    "# RMS comment\n",
    "Should be ~494m"
   ]
  },
  {
   "cell_type": "markdown",
   "metadata": {},
   "source": [
    "# Part III - San Andreas Fault"
   ]
  },
  {
   "cell_type": "markdown",
   "metadata": {},
   "source": [
    "The San Andreas fault marks the boundary of the Pacific plate, which moves Northwest at an angle\n",
    "of approximately 32° (counted from straight West, so that 90° would be straight North) at rate of\n",
    "35 mm per year. This rate is measured relative to the motion of the North American plate (see\n",
    "arrows in the figure above or consult Wikipedia). The irony is that part of the California belongs\n",
    "to the Pacific plate and slides northwest with it. So we just have to wait a while until the Los\n",
    "Angeles airport (LAX) at 33°56’38.89” N and 118°24’09.04” W has moved conveniently close\n",
    "our campus. Start from the notebook California_coastline_05_for_lab.ipynb on bCourses."
   ]
  },
  {
   "cell_type": "code",
   "execution_count": 476,
   "metadata": {},
   "outputs": [],
   "source": [
    "lat_min = 33;\n",
    "lat_max = 42;\n",
    "lon_min = -125;\n",
    "lon_max = -115;"
   ]
  },
  {
   "cell_type": "code",
   "execution_count": 477,
   "metadata": {},
   "outputs": [
    {
     "name": "stdout",
     "output_type": "stream",
     "text": [
      "(1282, 2) (1295, 2)\n",
      "[[-120.01464844   41.9676592 ]\n",
      " [-119.97070312   38.99357206]\n",
      " [-114.08203125   34.30714386]\n",
      " ...\n",
      " [-124.20368      41.971177  ]\n",
      " [-124.20788      41.981513  ]\n",
      " [-120.01464844   41.9676592 ]]\n"
     ]
    }
   ],
   "source": [
    "CAC = np.loadtxt('CA_coast_line_no_islands.txt', usecols=(0,1))  #left hand side, CA coast line\n",
    "CAB = np.loadtxt('CA_boundary2.txt', usecols=(0,1))             #right hand side, CA boundary \n",
    "print(CAC.shape,CAB.shape)\n",
    "print(CAB)"
   ]
  },
  {
   "cell_type": "code",
   "execution_count": 478,
   "metadata": {},
   "outputs": [
    {
     "name": "stdout",
     "output_type": "stream",
     "text": [
      "(1283, 2) (1284, 2) (1284, 2)\n",
      "[[-117.13219    32.568061]\n",
      " [-117.13395    32.592896]\n",
      " [-117.12409    32.606766]\n",
      " ...\n",
      " [-124.20788    41.981513]\n",
      " [-125.         41.981513]\n",
      " [-125.         32.568061]]\n"
     ]
    }
   ],
   "source": [
    "CAC1 = np.append( CAC,  [[lon_min,max(CAC[:,1])]],axis=0)  #the second column first value\n",
    "CAC2 = np.append( CAC1, [[lon_min,min(CAC[:,1])]],axis=0)  #the second column last value\n",
    "ocean = CAC2.copy()\n",
    "print(np.shape(CAC1), np.shape(CAC2), np.shape(ocean))\n",
    "print(CAC2)"
   ]
  },
  {
   "cell_type": "code",
   "execution_count": 479,
   "metadata": {},
   "outputs": [
    {
     "name": "stdout",
     "output_type": "stream",
     "text": [
      "(925, 2)\n",
      "[[-115.75283    33.383876]\n",
      " [-115.75283    33.383876]\n",
      " [-115.79378    33.417648]\n",
      " ...\n",
      " [-117.12409    32.606766]\n",
      " [-117.13395    32.592896]\n",
      " [-117.13219    32.568061]]\n"
     ]
    }
   ],
   "source": [
    "plate = np.loadtxt('plate.txt', usecols=(0,1)) \n",
    "print(plate.shape)\n",
    "print(plate)"
   ]
  },
  {
   "cell_type": "code",
   "execution_count": 480,
   "metadata": {},
   "outputs": [],
   "source": [
    "#lat_UCB = 37+52/60+19.54/3600;\n",
    "#lat_LAX = 33+56/60+38.89/3600;\n",
    "lat_LAX = 33.9416\n",
    "lon_LAX = -118.4085\n",
    "lat_UCB = 37.8716\n",
    "lon_UCB = -122.2727"
   ]
  },
  {
   "cell_type": "code",
   "execution_count": 481,
   "metadata": {},
   "outputs": [
    {
     "data": {
      "image/png": "[encoded data removed]",
      "text/plain": [
       "<Figure size 288x360 with 1 Axes>"
      ]
     },
     "metadata": {},
     "output_type": "display_data"
    }
   ],
   "source": [
    "plt.rcParams['figure.figsize'] = [4, 5]\n",
    "\n",
    "plt.plot(CAB[:,0],CAB[:,1],'k-',lw=3)       #black line of right side of CA\n",
    "plt.fill(CAB[:,0],CAB[:,1],'navajowhite')   #white fill right of CA\n",
    "\n",
    "#plt.fill(land[:,0],land[:,1],'-',color='lightgrey')\n",
    "plt.fill(ocean[:,0],ocean[:,1],'-',color='lightblue') #blue fill left of CA\n",
    "\n",
    "plt.plot(plate[:,0],plate[:,1],'r-')          #red line of plate\n",
    "plt.fill(plate[:,0],plate[:,1],'pink')        #red fill of plate\n",
    "\n",
    "plt.plot(lon_LAX,lat_LAX,'o',color='darkgreen',ms=20)                  #dot of LAX\n",
    "plt.plot(lon_UCB,lat_UCB,'*',mec='darkblue',mew=3,mfc='yellow',ms=40)  #star of berkeley\n",
    "\n",
    "plt.grid(color='k', linestyle='-', linewidth=0.5)     #grid is black\n",
    "plt.show()"
   ]
  },
  {
   "cell_type": "markdown",
   "metadata": {},
   "source": [
    "a) Based on the provided information and the Earth radius, derive where the land mass west of the\n",
    "San Andreas fault has moved in 1, 5, and 25 million years. (When you convert from coordinates\n",
    "in degrees to distances, please ignore the curvature of the Earth. Assume 1 degree of latitude\n",
    "corresponds to a distance of 2p REarth / 360 and 1 degree of longitude is approximately equal to\n",
    "pREarth cos(35.5°) / 180. ) Assume the North American plate remains stationary. Determine the\n",
    "new location of the land portion of the Pacific plate for every time interval. Update the coordinates\n",
    "in the variable ‘plate’. Plot original and all three updated plate location in one diagram. Choose\n",
    "different colors for each location. "
   ]
  },
  {
   "cell_type": "markdown",
   "metadata": {},
   "source": [
    "#### a.1 convert coordinates to distances"
   ]
  },
  {
   "cell_type": "code",
   "execution_count": 482,
   "metadata": {},
   "outputs": [],
   "source": [
    "lat_curvature = 2 * np.pi * R / 360"
   ]
  },
  {
   "cell_type": "code",
   "execution_count": 483,
   "metadata": {},
   "outputs": [],
   "source": [
    "long_curvature = abs(np.pi * R * np.cos(35.5) / 180)"
   ]
  },
  {
   "cell_type": "code",
   "execution_count": 484,
   "metadata": {},
   "outputs": [
    {
     "name": "stdout",
     "output_type": "stream",
     "text": [
      "(925, 2)\n",
      "[[-115.75283    33.383876]\n",
      " [-115.75283    33.383876]\n",
      " [-115.79378    33.417648]\n",
      " ...\n",
      " [-117.12409    32.606766]\n",
      " [-117.13395    32.592896]\n",
      " [-117.13219    32.568061]]\n"
     ]
    }
   ],
   "source": [
    "plate = np.loadtxt('plate.txt', usecols=(0,1)) \n",
    "print(np.shape(plate))\n",
    "print(plate)"
   ]
  },
  {
   "cell_type": "code",
   "execution_count": null,
   "metadata": {},
   "outputs": [],
   "source": []
  },
  {
   "cell_type": "code",
   "execution_count": null,
   "metadata": {},
   "outputs": [],
   "source": []
  },
  {
   "cell_type": "code",
   "execution_count": 485,
   "metadata": {},
   "outputs": [],
   "source": [
    "d = 35 * 1e-3 #m in one year\n",
    "theta = 32 #degrees"
   ]
  },
  {
   "cell_type": "code",
   "execution_count": 486,
   "metadata": {},
   "outputs": [
    {
     "name": "stdout",
     "output_type": "stream",
     "text": [
      "0.019299933843459172 0.029197817617727863\n"
     ]
    }
   ],
   "source": [
    "a = d * np.sin(theta)  #sin(theta) = a/c\n",
    "b = d * np.cos(theta)  #cos(theta) = b/c\n",
    "print(a, b)"
   ]
  },
  {
   "cell_type": "code",
   "execution_count": 487,
   "metadata": {},
   "outputs": [],
   "source": [
    "# 'has moved' implies back in time, so we're moving Southeast"
   ]
  },
  {
   "cell_type": "code",
   "execution_count": 488,
   "metadata": {},
   "outputs": [],
   "source": [
    "# in one year\n",
    "plate_year_1 = np.loadtxt('plate.txt', usecols=(0,1)) \n",
    "for i in plate_year_1:\n",
    "    i[0] = ((long_curvature * i[0]) + b) / long_curvature   #move East, so add\n",
    "    i[1] = ((lat_curvature  * i[1]) - a) / lat_curvature    #move South, so subtract\n",
    "    "
   ]
  },
  {
   "cell_type": "code",
   "execution_count": 489,
   "metadata": {},
   "outputs": [
    {
     "name": "stdout",
     "output_type": "stream",
     "text": [
      "[[ 4.46733523e-07 -1.73568473e-07]\n",
      " [ 4.46733523e-07 -1.73568473e-07]\n",
      " [ 4.46733523e-07 -1.73568473e-07]\n",
      " ...\n",
      " [ 4.46733509e-07 -1.73568473e-07]\n",
      " [ 4.46733523e-07 -1.73568473e-07]\n",
      " [ 4.46733509e-07 -1.73568473e-07]]\n"
     ]
    }
   ],
   "source": [
    "print(plate_year_1 - plate)"
   ]
  },
  {
   "cell_type": "code",
   "execution_count": 490,
   "metadata": {},
   "outputs": [],
   "source": [
    "# in one million years\n",
    "plate_year_1_mil = np.loadtxt('plate.txt', usecols=(0,1)) \n",
    "for i in plate_year_1_mil:\n",
    "    i[0] = ((long_curvature * i[0]) + (b * 1e6)) / long_curvature   #move East, so add\n",
    "    i[1] = ((lat_curvature  * i[1]) - (a *1e6))/ lat_curvature   #move South, so subtract\n",
    "\n",
    "lat_LAX_1_mil = ((lat_curvature * lat_LAX) - (a *1e6)) / lat_curvature\n",
    "lon_LAX_1_mil = ((long_curvature * lon_LAX) + (b * 1e6)) / long_curvature"
   ]
  },
  {
   "cell_type": "code",
   "execution_count": 491,
   "metadata": {},
   "outputs": [],
   "source": [
    "# in five million years\n",
    "plate_year_5_mil = np.loadtxt('plate.txt', usecols=(0,1)) \n",
    "for i in plate_year_5_mil:\n",
    "    i[0] = ((long_curvature * i[0]) + (b * 5e6)) / long_curvature   #move East, so add\n",
    "    i[1] = ((lat_curvature * i[1]) - (a *5e6)) / lat_curvature   #move South, so subtract\n",
    "\n",
    "lat_LAX_5_mil = ((lat_curvature * lat_LAX) - (a *5e6)) / lat_curvature\n",
    "lon_LAX_5_mil = ((long_curvature * lon_LAX) + (b * 5e6)) / long_curvature"
   ]
  },
  {
   "cell_type": "code",
   "execution_count": 492,
   "metadata": {},
   "outputs": [],
   "source": [
    "# in 25 million years\n",
    "plate_year_25_mil = np.loadtxt('plate.txt', usecols=(0,1)) \n",
    "for i in plate_year_25_mil:\n",
    "    i[0] = ((long_curvature * i[0]) + (b * 25e6))/long_curvature   #move East, so add\n",
    "    i[1] = ((lat_curvature * i[1]) - (a *25e6))/ lat_curvature   #move South, so subtract\n",
    "\n",
    "lat_LAX_25_mil = ((lat_curvature * lat_LAX) - (a *25e6)) / lat_curvature\n",
    "lon_LAX_25_mil = ((long_curvature * lon_LAX) + (b * 25e6)) / long_curvature"
   ]
  },
  {
   "cell_type": "code",
   "execution_count": 493,
   "metadata": {},
   "outputs": [
    {
     "data": {
      "image/png": "[encoded data removed]",
      "text/plain": [
       "<Figure size 864x864 with 1 Axes>"
      ]
     },
     "metadata": {},
     "output_type": "display_data"
    }
   ],
   "source": [
    "plt.rcParams['figure.figsize'] = [12, 12]\n",
    "\n",
    "plt.plot(CAB[:,0],CAB[:,1],'k-',lw=3)       #black line of right side of CA\n",
    "plt.fill(CAB[:,0],CAB[:,1],'navajowhite')   #white fill right of CA\n",
    "\n",
    "#plt.fill(land[:,0],land[:,1],'-',color='lightgrey')\n",
    "plt.fill(ocean[:,0],ocean[:,1],'-',color='lightblue') #blue fill left of CA\n",
    "\n",
    "#plot the current fault line\n",
    "plt.plot(plate[:,0],plate[:,1],'r-')          \n",
    "plt.fill(plate[:,0],plate[:,1],'m', label = 'current')        \n",
    "plt.plot(lon_LAX,lat_LAX,'o',color='darkgreen',ms=20)                  #dot of LAX\n",
    "\n",
    "#plot the 1 mil year ago fault line\n",
    "plt.plot(plate_year_1_mil[:,0],plate_year_1_mil[:,1],'b-')          \n",
    "plt.fill(plate_year_1_mil[:,0],plate_year_1_mil[:,1],'beige', label = '1 million years ago') \n",
    "plt.plot(lon_LAX_1_mil,lat_LAX_1_mil,'o',color='darkgreen',ms=20)                  #dot of LAX\n",
    "\n",
    "#plot the 5 mil year ago fault line\n",
    "plt.plot(plate_year_5_mil[:,0],plate_year_5_mil[:,1],'b-')          \n",
    "plt.fill(plate_year_5_mil[:,0],plate_year_5_mil[:,1],'chartreuse', label = '5 million years ago') \n",
    "plt.plot(lon_LAX_5_mil,lat_LAX_5_mil,'o',color='darkgreen',ms=20)                  #dot of LAX\n",
    "\n",
    "#plot the 25 mil year ago fault line\n",
    "plt.plot(plate_year_25_mil[:,0],plate_year_25_mil[:,1],'b-')          \n",
    "plt.fill(plate_year_25_mil[:,0],plate_year_25_mil[:,1],'dodgerblue', label='25 million years ago')   \n",
    "plt.plot(lon_LAX_25_mil,lat_LAX_25_mil,'o',color='darkgreen',ms=20)                  #dot of LAX\n",
    "\n",
    "plt.plot(lon_UCB,lat_UCB,'*',mec='darkblue',mew=3,mfc='yellow',ms=40)  #star of berkeley\n",
    "\n",
    "plt.grid(color='k', linestyle='-', linewidth=0.5)     #grid is black\n",
    "plt.legend()\n",
    "plt.title('new location of the land portion of the Pacific plate for every time interval')\n",
    "plt.show()"
   ]
  },
  {
   "cell_type": "markdown",
   "metadata": {},
   "source": [
    "b) How long do we have to until the latitude of the LAX airport coincides with that of campanile\n",
    "on our campus (37°52’19.54” N and 122°15’28.19” W)? Answers with ±2% will be accepted."
   ]
  },
  {
   "cell_type": "code",
   "execution_count": 498,
   "metadata": {},
   "outputs": [
    {
     "name": "stdout",
     "output_type": "stream",
     "text": [
      "Years of waiting: 2.25288e+07 years\n",
      "LAX coordinates:  37.851894319097404 -128.47288251876188\n",
      "UCB coordinates:  37.8716 -122.2727\n",
      "0.9994796712865948\n",
      "0.0005203287134052064\n"
     ]
    }
   ],
   "source": [
    "time = 0 #years\n",
    "for i in range(0,np.int(25e6)):\n",
    "    lat_LAX_campus = ((lat_curvature * lat_LAX) + (a * time)) / lat_curvature #North, so add\n",
    "    lon_LAX_campus = ((long_curvature * lon_LAX) - (b * time)) / long_curvature #West, so subtract\n",
    "    #print(i, lat_LAX_campus)\n",
    "    if lat_UCB - lat_LAX_campus < .02:\n",
    "        print('Years of waiting:' , '%g' %time, 'years')\n",
    "        print('LAX coordinates: ' , lat_LAX_campus, lon_LAX_campus)\n",
    "        print('UCB coordinates: ', lat_UCB, lon_UCB)\n",
    "        print(lat_LAX_campus/ lat_UCB)\n",
    "        print((lat_UCB - lat_LAX_campus)/lat_UCB)\n",
    "        break\n",
    "    time += i"
   ]
  },
  {
   "cell_type": "markdown",
   "metadata": {},
   "source": [
    "# RMS comment\n",
    "Your code is correct, but there must be a negative sign missing in your north component. California should be moving north ralative to NA!"
   ]
  },
  {
   "cell_type": "code",
   "execution_count": null,
   "metadata": {},
   "outputs": [],
   "source": []
  }
 ],
 "metadata": {
  "kernelspec": {
   "display_name": "Python 3",
   "language": "python",
   "name": "python3"
  },
  "language_info": {
   "codemirror_mode": {
    "name": "ipython",
    "version": 3
   },
   "file_extension": ".py",
   "mimetype": "text/x-python",
   "name": "python",
   "nbconvert_exporter": "python",
   "pygments_lexer": "ipython3",
   "version": "3.6.5"
  }
 },
 "nbformat": 4,
 "nbformat_minor": 2
}
