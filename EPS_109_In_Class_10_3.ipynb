{
 "cells": [
  {
   "cell_type": "markdown",
   "metadata": {},
   "source": [
    "### Computer Lab Assignment 7"
   ]
  },
  {
   "cell_type": "markdown",
   "metadata": {},
   "source": [
    "## Diffusion Limited Aggregation"
   ]
  },
  {
   "cell_type": "markdown",
   "metadata": {},
   "source": [
    "(1) Please download the DLA.ipynb notebook from bCourses and familiarize yourself with all\n",
    "parts. Please pay attention to the 2D array A(x,y) and understand what the ranges maxX and maxY\n",
    "mean. Part I is essentially above filling in the … blanks in order to obtain a working code."
   ]
  },
  {
   "cell_type": "code",
   "execution_count": 18,
   "metadata": {},
   "outputs": [],
   "source": [
    "import numpy as np\n",
    "import matplotlib.pyplot as plt"
   ]
  },
  {
   "cell_type": "code",
   "execution_count": 19,
   "metadata": {},
   "outputs": [],
   "source": [
    "#note, this function expects a matrix A[ix,iy] \n",
    "#and then displays so that A[:,0] is the lowest row of pixels\n",
    "\n",
    "def display(A):           #define a function that takes a matrix A\n",
    "    maxX = A.shape[0]        #maxX is len of x axis of A matrix\n",
    "    maxY = A.shape[1]           #maxY is len of y axis of A matrix\n",
    "    B = np.zeros((maxY, maxX))    #B is maxX x maxY size array of zeroes\n",
    "    for ix in range(0,maxX):           #for every ix value in length of x axis\n",
    "        for iy in range(0,maxY):         #for every iy value in the length of y axis\n",
    "            B[maxY-1-iy,ix] = A[ix,iy]      #set B (the matrix of zeroes) at the point [yaxis length - 1- y iteration, x iteration] equal to the value of input matrix A at the current ix and iy iteration\n",
    "\n",
    "    #Display the graphics outside of the notebook. \n",
    "    #On a PC, use '%matplotlib qt' instead.\n",
    "    %matplotlib osx \n",
    "    \n",
    "    plt.rcParams['figure.figsize'] = [15, 15/maxX*maxY]\n",
    "    plt.imshow(B);                                         #plot matrix B\n",
    "    plt.axis('off'); \n",
    "    plt.show()\n",
    "    plt.draw()\n",
    "    plt.pause(0.01)"
   ]
  },
  {
   "cell_type": "code",
   "execution_count": 20,
   "metadata": {},
   "outputs": [],
   "source": [
    "nParticles = 100*1000\n",
    "maxX = 200\n",
    "maxY = 100"
   ]
  },
  {
   "cell_type": "code",
   "execution_count": 21,
   "metadata": {},
   "outputs": [],
   "source": [
    "nParticles = 100*1000\n",
    "maxX = 200\n",
    "maxY = 100\n",
    "\n",
    "# Initialize matrix containing all 2D grid points A(x,y)\n",
    "# 0 <= x < maxX\n",
    "# 0 <= y < maxY\n",
    "# A(x,y)=0 ... site is empty\n",
    "# A(x,y)>0 ... site is filled\n",
    "A = np.zeros((maxX, maxY))               #define A as a matrix of zeroes in the size 200 x 100\n",
    "\n",
    "# Introduce a sticky wall at the bottom \n",
    "# by filling the lowest row of pixels with particles\n",
    "\n",
    "A[:,0] = 1                              #set everything in the first column equal to 1\n",
    "#print(A.transpose())                     #then transpose so that it's the first row"
   ]
  },
  {
   "cell_type": "code",
   "execution_count": 22,
   "metadata": {},
   "outputs": [],
   "source": [
    "#test the display routine\n",
    "#display(A)                             #the outcome of the function is to put the row of 1's at the bottom"
   ]
  },
  {
   "cell_type": "code",
   "execution_count": 45,
   "metadata": {},
   "outputs": [],
   "source": [
    "# To save computer time, we want to inject the new particle not too far\n",
    "# above growing aggregate. We inject at on a line 'yStart', which\n",
    "# keeps being increased so that it is always 'yBuffer' lines above the\n",
    "# highest structure\n",
    "\n",
    "yBuffer = 5\n",
    "yStart  = 1 + yBuffer"
   ]
  },
  {
   "cell_type": "code",
   "execution_count": 46,
   "metadata": {},
   "outputs": [
    {
     "name": "stdout",
     "output_type": "stream",
     "text": [
      "i= 0 \tx=48 \ty=1 \tyStart=6\n",
      "i= 1000 \tx=99 \ty=26 \tyStart=42\n",
      "i= 2000 \tx=177 \ty=64 \tyStart=71\n",
      "Structures reached Y limit after only 2785 particles\n"
     ]
    }
   ],
   "source": [
    "nParticles = 100*1000\n",
    "maxX = 200\n",
    "maxY = 100\n",
    "#print(\"max X: \", maxX, \"max Y: \", maxY)\n",
    "\n",
    "A = np.zeros((maxX, maxY))               #define A as a matrix of zeroes in the size 200 x 100\n",
    "\n",
    "A[:,0] = 1                              #set everything in the first column equal to 1\n",
    "#A[:,maxX-1] = 1     \n",
    "#A[0,:] = 1\n",
    "#A[maxY-1,:] = 1\n",
    "\n",
    "\n",
    "\n",
    "for i in range(0,nParticles):        #for every value from 0 to nParticles\n",
    "    # Compute new starting point on the line y=yStart\n",
    "    x  = np.random.randint(0,maxX)      #x will be a random number between zero and 200\n",
    "    y  = yStart; #always start at upper limit     #y will be ystart = 6\n",
    "     \n",
    "    #print(\"particle: \", i)\n",
    "    #print(\"x random: \", x, \"yStart: \", y)\n",
    "\n",
    "    while True:     #while \n",
    "        xOrg = x     #xOrg is equal to x (the random value)\n",
    "        yOrg = y      #yOrg is equal to y=yStart = (6)\n",
    "        \n",
    "\n",
    "        r = np.random.random(); # Random float:  0.0 <= r < 1.0   #r is a random number between 0 and 1\n",
    "    \n",
    "        #based on the value of 'r', move the particle\n",
    "        #left, right, up, or down and change x and y accordingly\n",
    "        \n",
    "        #print(\"starting x: \", x, \"starting y: \", y)\n",
    "        \n",
    "        if r <=  0.25:\n",
    "            x = x-1\n",
    "        if r > 0.25 and r < 0.5:\n",
    "            y = y -1 \n",
    "        if r > 0.5 and r < 0.75:\n",
    "            x = x +1\n",
    "        if r >= 0.75:\n",
    "            y = y+1\n",
    "    \n",
    "        #print(r, x,y)\n",
    "        \n",
    "        \n",
    "        #now apply periodic boundary conditions to 'x'\n",
    "        if x >= maxX:\n",
    "            x = 0 \n",
    "        if x < 0:\n",
    "            x = maxX - 1\n",
    "        \n",
    "        \n",
    "        \n",
    "        if (A[x,y] == 1 or y>yStart):    #if the value of matrix A is equal to 1 (so the first row) or y>ystart\n",
    "            x = xOrg                      #store these values in xOrg and yOrg\n",
    "            y = yOrg\n",
    "            continue; # if this site has been taken try moving in a different direction\n",
    "        \n",
    "        \n",
    "        #determine the x coordinates of the left and right neighbors\n",
    "        #store them in 'xm' and 'xp' and apply periodic boundary conditions again\n",
    "        \n",
    "        xp = x + 1 #on the right\n",
    "        \n",
    "        if xp >= maxX:\n",
    "            xp = 0 \n",
    "        if xp < 0:\n",
    "            xp = maxX - 1\n",
    "            \n",
    "        xm = x - 1  #on the left\n",
    "        \n",
    "        if xm >= maxX:\n",
    "            xm = 0 \n",
    "        if xm < 0:\n",
    "            xm = maxX - 1\n",
    "            \n",
    "        yp = y +1   #above\n",
    "        \n",
    "        ym = y - 1  #below\n",
    " \n",
    "\n",
    "        \n",
    "        # Determine if any neighboring site is occupied\n",
    "        # if that is the case, enter the following 'if' clause\n",
    "        \n",
    "        if A[xp,y] == 1 or A[xm,y] == 1 or A[x,yp] == 1 or A[x,ym] == 1:        #if any of the neighboring values are 1\n",
    "            \n",
    "            A[x,y] = 1                                  # set current position to 1\n",
    "            if (y+yBuffer>yStart and y+yBuffer<maxY):     #if y+5 is greater than 6 and y +5 is less than 100\n",
    "                yStart = y+yBuffer                         #yStart now equals whatever y is + 5\n",
    "\n",
    "            if (i%1000==0):                #if the current particle iteration number divided by 1000 is zero\n",
    "                print(f'i= {i} \\tx={x} \\ty={y} \\tyStart={yStart}')  #print the current particle iteration number, the x value, y value, and value of yStart now\n",
    "\n",
    "            nNewParticlesPerFrame = 100              \n",
    "            if (i%nNewParticlesPerFrame==0):    #if the current particle iteration number divided by 1000 is zero\n",
    "                display(A)                        #run our display function\n",
    "                \n",
    "            break # particle was attached, break out of current loop and insert next one\n",
    "            \n",
    "    if (yStart+1==maxY):   #if yStart + 1 equals the maximum y value\n",
    "        print(f'Structures reached Y limit after only {i} particles')  #it has maxed out\n",
    "        break               #stop\n",
    "\n",
    "#display(A) "
   ]
  },
  {
   "cell_type": "code",
   "execution_count": null,
   "metadata": {},
   "outputs": [],
   "source": []
  }
 ],
 "metadata": {
  "kernelspec": {
   "display_name": "Python 3",
   "language": "python",
   "name": "python3"
  },
  "language_info": {
   "codemirror_mode": {
    "name": "ipython",
    "version": 3
   },
   "file_extension": ".py",
   "mimetype": "text/x-python",
   "name": "python",
   "nbconvert_exporter": "python",
   "pygments_lexer": "ipython3",
   "version": "3.6.5"
  }
 },
 "nbformat": 4,
 "nbformat_minor": 2
}
